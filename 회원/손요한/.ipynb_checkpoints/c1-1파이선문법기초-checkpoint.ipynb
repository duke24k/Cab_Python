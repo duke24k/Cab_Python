{
 "cells": [
  {
   "cell_type": "markdown",
   "metadata": {},
   "source": [
    "파이선 문법 기초\n",
    "==\n",
    "다루는 내용\n",
    "--\n",
    "쥬피터 사용법  \n",
    "정수(int), 부동소수(float), 문자(strings), 불리언(True/False), 리스트(list),   \n",
    "튜풀(tuple), 사전(dictionary), for문, if문 \n",
    "함수 사용법  \n",
    "\n",
    "참고: 점프 투 파이선\n",
    "--\n",
    "https://wikidocs.net/book/1"
   ]
  },
  {
   "cell_type": "markdown",
   "metadata": {},
   "source": [
    "## 쥬피터 사용법\n",
    "\n",
    "위도우 터미널 창에서 jupyter notebook 명령으로 실행한다.\n",
    "\n",
    "$ jupyter notebook\n",
    "\n",
    "쥬피터는 웹 블라우저 처럼 동작하여 자시니 사용하는 PC 또는 서버를 웹서버로 인식하여 동작한다. 쥬피터에서 다루는 프로그램 파일을 노트북(notebook)이라고 부르며 확장자는 .ipynb이다. 노트북에는 프로그램 소스 코드 뿐 아니라, 문서, 실행결과 그래프 등을 모두 포함하여 저장할 수 있다. 쥬피터는 일종의 파일관리자, 프로그램 관리자라고 볼 수 있다. 파이선 코드의 실행을 담당하는 프로세스를 커널(kernel)이라고 부른다.\n",
    "\n",
    "새로운 노트북을 만들려면 맨 우측 New 버튼을 클릭하고 Python3 노트북을 선택하면 된다. \n",
    "\n",
    "셀 타입이 코드(Code) 셀이며 파이선 코드를 입력할 수 있고, 문서 작성용으로 바꾸려면 Markdown을 선택해야 한다. 마크다운 셀은 문서 편집 기능을 제공하며 도큐먼트를 만드는데 사용된다. 즉 쥬피터 노트북은 셀들로 구성되며 각 셀은 프로그램 코드 영역과 문서 작성 영역으로 구분된다.\n",
    "\n",
    "마크다운에서 '#'은 제목의 수준을 타나내는데 '#'의 갯수가 적을수록 상위 레벨의 제목이 된다. 문서 내용을 입력한 후에 Shift + 엔터키를 입력하면 마크다운이 적용된 포맷으로 보인다. 마크다운 셀을 다시 편집하려면 해당 마크다운 셀 내부를 두 번 클릭하면 된다.\n",
    "\n",
    "셀을 실행시키지 않고 편집 모드에서 빠져나오려면 Esc 키를 누르거나 화면의 셀 외부 다른 곳을 클릭하면 된다 (이 모드를 명령 모드라고 부른다). 명령 모드에서 a나 b를 입력하면 빈 셀을 현재 셀의 위나 아래에 하나 추가한다. 편집 모드의 셀은 초록색이고 명령 모드는 파란색으로 보인다.\n",
    "\n",
    "\n",
    "마크다운 셀이나 코드셀을 실행할 때 Shift + 엔터 가 아니라 Ctrl + 엔터 키를 사용하면 셀을 실행한 후 커서의 위치가 다음 셀로 이동하지 않고 현재 셀에 남아있는다."
   ]
  },
  {
   "cell_type": "markdown",
   "metadata": {},
   "source": [
    "## 파이선 기초 문법\n",
    "\n",
    "파이선이 기본으로 제공하는 다음과 같은 내용을 배운다\n",
    "\n",
    "- 정수(int), 부동소수(float), 문자(strings), 불리언(True/False), 리스트(list), 튜풀(tuple), 사전(dictionary), for문, if문"
   ]
  },
  {
   "cell_type": "code",
   "execution_count": 1,
   "metadata": {},
   "outputs": [
    {
     "data": {
      "text/plain": [
       "3"
      ]
     },
     "execution_count": 1,
     "metadata": {},
     "output_type": "execute_result"
    }
   ],
   "source": [
    "x =3\n",
    "x"
   ]
  },
  {
   "cell_type": "code",
   "execution_count": 2,
   "metadata": {},
   "outputs": [
    {
     "name": "stdout",
     "output_type": "stream",
     "text": [
      "3\n"
     ]
    }
   ],
   "source": [
    "print(x)"
   ]
  },
  {
   "cell_type": "code",
   "execution_count": 4,
   "metadata": {},
   "outputs": [
    {
     "name": "stdout",
     "output_type": "stream",
     "text": [
      "x+y =  7\n"
     ]
    }
   ],
   "source": [
    "y = 4\n",
    "print(\"x+y = \", x+y)"
   ]
  },
  {
   "cell_type": "code",
   "execution_count": 5,
   "metadata": {},
   "outputs": [
    {
     "data": {
      "text/plain": [
       "3.5"
      ]
     },
     "execution_count": 5,
     "metadata": {},
     "output_type": "execute_result"
    }
   ],
   "source": [
    "z= 0.5\n",
    "x+z"
   ]
  },
  {
   "cell_type": "code",
   "execution_count": 7,
   "metadata": {},
   "outputs": [
    {
     "data": {
      "text/plain": [
       "int"
      ]
     },
     "execution_count": 7,
     "metadata": {},
     "output_type": "execute_result"
    }
   ],
   "source": [
    "type(x)"
   ]
  },
  {
   "cell_type": "code",
   "execution_count": 6,
   "metadata": {
    "scrolled": true
   },
   "outputs": [
    {
     "data": {
      "text/plain": [
       "float"
      ]
     },
     "execution_count": 6,
     "metadata": {},
     "output_type": "execute_result"
    }
   ],
   "source": [
    "type(z)"
   ]
  },
  {
   "cell_type": "code",
   "execution_count": 10,
   "metadata": {
    "scrolled": true
   },
   "outputs": [
    {
     "name": "stdout",
     "output_type": "stream",
     "text": [
      "문자열을 출력합니다\n"
     ]
    }
   ],
   "source": [
    "print(\"문자열을 출력합니다\")"
   ]
  },
  {
   "cell_type": "markdown",
   "metadata": {
    "collapsed": true
   },
   "source": [
    "코드 셀에는 일렬 번호가 자동으로 배정된다 (In [10] 등). 이 번호 숫자는 아무 현재 실행된 코드의 일렬번호이며 큰 의미는 없다. 이 번호는 나중에 0부터 새로 시작하게 할 수도 있다.\n",
    "\n",
    "셀을 삭제하거나 복사하려면 명령 모드에서 x, c, v 를 사용하면 된다. x는 셀 삭제, c는 복사, v는 붙여넣기를 한다.\n",
    "두개의 셀을 합치려면 Shict + m을 입력하고, 하나의 셀을 둘로 나누려면 Shift + Ctrl + '-'를 입력한다. 새로운 셀 삽입은 a(위에 삽입), b(아래 삽입)을 한다\n",
    "\n",
    "코드셀을 실행한 결과 화면을 잠시 가리려면 명령 모드에서 'o' 를 입력하면 된다"
   ]
  },
  {
   "cell_type": "markdown",
   "metadata": {},
   "source": [
    "### 리스트\n",
    "여러 항목의 숫자, 부동소수, 문자열, 불리언 변수 등으로 구성된의 집합을 말한다. 하나의 리스크 내의 항목의 타입은 서로 달라도 된다.\n",
    "리스트를 만들려면 대괄호 [ ]를 사용하고 각 항목을 ','로 구분하면 된다.\n",
    "리스트의 내용은 변경될 수 있으며 변경하려면 리스트 내의 위치를 선택하고 '=' 기호를 사용한다."
   ]
  },
  {
   "cell_type": "code",
   "execution_count": 11,
   "metadata": {},
   "outputs": [
    {
     "name": "stdout",
     "output_type": "stream",
     "text": [
      "[1, 2, 3, 4, 5, 'kim', True]\n"
     ]
    }
   ],
   "source": [
    "items = [1, 2, 3, 4, 5, 'kim', True]\n",
    "print(items)"
   ]
  },
  {
   "cell_type": "code",
   "execution_count": 13,
   "metadata": {},
   "outputs": [
    {
     "data": {
      "text/plain": [
       "7"
      ]
     },
     "execution_count": 13,
     "metadata": {},
     "output_type": "execute_result"
    }
   ],
   "source": [
    "# 리스트의 길이는 함수 `len()`을 사용하여 알 수 있다.\n",
    "len(items)"
   ]
  },
  {
   "cell_type": "code",
   "execution_count": 19,
   "metadata": {},
   "outputs": [
    {
     "data": {
      "text/plain": [
       "1"
      ]
     },
     "execution_count": 19,
     "metadata": {},
     "output_type": "execute_result"
    }
   ],
   "source": [
    "# 리스트에서 위치 번호는 '1'이 아니라 '0'부터 시작한다.\n",
    "items[0]"
   ]
  },
  {
   "cell_type": "code",
   "execution_count": 20,
   "metadata": {
    "scrolled": true
   },
   "outputs": [
    {
     "data": {
      "text/plain": [
       "[1, 2, 100, 4, 5, 'kim', True]"
      ]
     },
     "execution_count": 20,
     "metadata": {},
     "output_type": "execute_result"
    }
   ],
   "source": [
    "# 3번째 항목을 내용을 바꾸었다.\n",
    "items[2]=100\n",
    "items"
   ]
  },
  {
   "cell_type": "code",
   "execution_count": 21,
   "metadata": {},
   "outputs": [
    {
     "data": {
      "text/plain": [
       "True"
      ]
     },
     "execution_count": 21,
     "metadata": {},
     "output_type": "execute_result"
    }
   ],
   "source": [
    "# 뒤에서부터 인덱싱할 때는 '-1' 등을 사용한다.\n",
    "items[-1]"
   ]
  },
  {
   "cell_type": "code",
   "execution_count": 22,
   "metadata": {},
   "outputs": [
    {
     "data": {
      "text/plain": [
       "'kim'"
      ]
     },
     "execution_count": 22,
     "metadata": {},
     "output_type": "execute_result"
    }
   ],
   "source": [
    "items[-2]"
   ]
  },
  {
   "cell_type": "code",
   "execution_count": 28,
   "metadata": {},
   "outputs": [
    {
     "data": {
      "text/plain": [
       "[100, 4, 5]"
      ]
     },
     "execution_count": 28,
     "metadata": {},
     "output_type": "execute_result"
    }
   ],
   "source": [
    "# 리스트의 일부 구간만 얻으려면 슬라이스(slice) ':'를 사용한다\n",
    "items[2:5]"
   ]
  },
  {
   "cell_type": "code",
   "execution_count": 29,
   "metadata": {},
   "outputs": [
    {
     "data": {
      "text/plain": [
       "[1, 2, 100, 4]"
      ]
     },
     "execution_count": 29,
     "metadata": {},
     "output_type": "execute_result"
    }
   ],
   "source": [
    "items[:4]"
   ]
  },
  {
   "cell_type": "code",
   "execution_count": 30,
   "metadata": {},
   "outputs": [
    {
     "data": {
      "text/plain": [
       "[1, 2, 100]"
      ]
     },
     "execution_count": 30,
     "metadata": {},
     "output_type": "execute_result"
    }
   ],
   "source": [
    "items[:3]"
   ]
  },
  {
   "cell_type": "markdown",
   "metadata": {},
   "source": [
    "### 튜플 (tuple)\n",
    "튜플은 리스트처럼 여러 항목의 집합을 담을 수 있는데 리스트와 달리 튜플의 내용은 '상수'로 취급되어 값을 바꿀 수 없다. # 튜플을 만들려면 대괄호 [ ] 가 아니라 소괄호( )를 사용하여 만들거나 , 로 구분하여 나열한다."
   ]
  },
  {
   "cell_type": "code",
   "execution_count": 31,
   "metadata": {},
   "outputs": [
    {
     "name": "stdout",
     "output_type": "stream",
     "text": [
      "(1, 2, 3)\n",
      "(4, 5, 6, 'hello')\n"
     ]
    }
   ],
   "source": [
    "my_tuple = (1, 2, 3)\n",
    "your_tuple = 4,5,6, \"hello\"\n",
    "print(my_tuple)\n",
    "print(your_tuple)"
   ]
  },
  {
   "cell_type": "code",
   "execution_count": 34,
   "metadata": {},
   "outputs": [
    {
     "name": "stdout",
     "output_type": "stream",
     "text": [
      "2\n"
     ]
    }
   ],
   "source": [
    "# 특정 항목을 찾을 때는 리스트와 같이 [ ]를 사용하여 인덱싱이 가능하다\n",
    "print(my_tuple[1])"
   ]
  },
  {
   "cell_type": "code",
   "execution_count": 35,
   "metadata": {},
   "outputs": [
    {
     "ename": "TypeError",
     "evalue": "'tuple' object does not support item assignment",
     "output_type": "error",
     "traceback": [
      "\u001b[0;31m---------------------------------------------------------------------------\u001b[0m",
      "\u001b[0;31mTypeError\u001b[0m                                 Traceback (most recent call last)",
      "\u001b[0;32m<ipython-input-35-5931c2919576>\u001b[0m in \u001b[0;36m<module>\u001b[0;34m()\u001b[0m\n\u001b[1;32m      1\u001b[0m \u001b[0;31m# 튜플 값을 변경하는 것은 불가능하다 (튜플의 내용은 상수임)\u001b[0m\u001b[0;34m\u001b[0m\u001b[0;34m\u001b[0m\u001b[0m\n\u001b[0;32m----> 2\u001b[0;31m \u001b[0mmy_tuple\u001b[0m\u001b[0;34m[\u001b[0m\u001b[0;36m2\u001b[0m\u001b[0;34m]\u001b[0m \u001b[0;34m=\u001b[0m \u001b[0;36m7\u001b[0m\u001b[0;34m\u001b[0m\u001b[0m\n\u001b[0m",
      "\u001b[0;31mTypeError\u001b[0m: 'tuple' object does not support item assignment"
     ]
    }
   ],
   "source": [
    "# 튜플 값을 변경하는 것은 불가능하다 (튜플의 내용은 상수임)\n",
    "my_tuple[2] = 7"
   ]
  },
  {
   "cell_type": "markdown",
   "metadata": {},
   "source": [
    "### 사전 (Dictionaries)\n",
    "딕셔너리를 사용하면 키-값의 조합을 항목으로 갖는 리스트를 만들 수 있다. 딕셔너리에서는 항목을 찾을 때 키를 사용하며, 딕셔너너리에서 순서는 중요시하지 않는다. 딕셔너리는 { }로 만든다."
   ]
  },
  {
   "cell_type": "code",
   "execution_count": 45,
   "metadata": {
    "scrolled": true
   },
   "outputs": [
    {
     "ename": "SyntaxError",
     "evalue": "invalid syntax (<ipython-input-45-03a92078c975>, line 6)",
     "output_type": "error",
     "traceback": [
      "\u001b[0;36m  File \u001b[0;32m\"<ipython-input-45-03a92078c975>\"\u001b[0;36m, line \u001b[0;32m6\u001b[0m\n\u001b[0;31m    my_dict.key()?\u001b[0m\n\u001b[0m                 ^\u001b[0m\n\u001b[0;31mSyntaxError\u001b[0m\u001b[0;31m:\u001b[0m invalid syntax\n"
     ]
    }
   ],
   "source": [
    "my_dict = { 'name': \"kimm\", 'age': 20, 'grade': 3}\n",
    "print(my_dict['name']) # 인덱싱\n",
    "print(my_dict.keys())\n",
    "print(my_dict.values())\n",
    "print(my_dict.items()) # .<tab> 어떤 함수가 있는지 알려준다"
   ]
  },
  {
   "cell_type": "markdown",
   "metadata": {},
   "source": [
    "### for 루프\n",
    "\n",
    "여러 항목에 대해 동작을 반복할 때 for 루프를 실행할 수 있는데, 주의할 것은 for 문장의 끝에는 ':'가 있어야 하며 for 문이 적용되는 블록(block) 영역은 반드시 들여쓰기 (indentation)을 해야 한다. 들여쓰기는 한 프로그램 내에서 모두 같은 크기로 지정해야 하는데 일반적으로 스페이스 4개 또는 탭을 사용한다."
   ]
  },
  {
   "cell_type": "code",
   "execution_count": 47,
   "metadata": {},
   "outputs": [
    {
     "data": {
      "text/plain": [
       "[500, 2, 1000, 4, 5, 7, 88, 'kim', True]"
      ]
     },
     "execution_count": 47,
     "metadata": {},
     "output_type": "execute_result"
    }
   ],
   "source": [
    "items"
   ]
  },
  {
   "cell_type": "code",
   "execution_count": 50,
   "metadata": {
    "scrolled": true
   },
   "outputs": [
    {
     "name": "stdout",
     "output_type": "stream",
     "text": [
      "500\n",
      "----\n",
      "2\n",
      "----\n",
      "1000\n",
      "----\n",
      "4\n",
      "----\n",
      "5\n",
      "----\n",
      "7\n",
      "----\n",
      "88\n",
      "----\n",
      "kim\n",
      "----\n",
      "True\n",
      "----\n"
     ]
    }
   ],
   "source": [
    "for x in items:\n",
    "    print(x)\n",
    "    print(\"----\")"
   ]
  },
  {
   "cell_type": "code",
   "execution_count": 52,
   "metadata": {},
   "outputs": [
    {
     "name": "stdout",
     "output_type": "stream",
     "text": [
      "2\n",
      "4\n",
      "6\n",
      "8\n",
      "10\n",
      "200\n"
     ]
    }
   ],
   "source": [
    "for i in (1,2,3,4,5,100):\n",
    "    print (i*2)"
   ]
  },
  {
   "cell_type": "code",
   "execution_count": 1,
   "metadata": {},
   "outputs": [
    {
     "name": "stdout",
     "output_type": "stream",
     "text": [
      "2\n",
      "4\n",
      "6\n",
      "8\n",
      "10\n",
      "12\n",
      "14\n",
      "16\n",
      "18\n"
     ]
    }
   ],
   "source": [
    "for i in range(1,10): # 60은 포함되지 않는다\n",
    "    print (i*2)\n",
    "    \n",
    "# range 구간에서 마지막 값은 포함되지 않는다"
   ]
  },
  {
   "cell_type": "code",
   "execution_count": 9,
   "metadata": {},
   "outputs": [
    {
     "data": {
      "text/plain": [
       "[1, 4, 9]"
      ]
     },
     "execution_count": 9,
     "metadata": {},
     "output_type": "execute_result"
    }
   ],
   "source": [
    "# 아래와 같이 for 문장을 간결하게 쓰는 방법도 있다. 이를 list comprehension이라고 부른다.\n",
    "\n",
    "squares = [i * i for i in (1,2,3)]\n",
    "squares"
   ]
  },
  {
   "cell_type": "markdown",
   "metadata": {},
   "source": [
    "### if 문"
   ]
  },
  {
   "cell_type": "code",
   "execution_count": 24,
   "metadata": {
    "scrolled": true
   },
   "outputs": [
    {
     "name": "stdout",
     "output_type": "stream",
     "text": [
      "2\n",
      "4\n"
     ]
    }
   ],
   "source": [
    "for item in items:\n",
    "    if item % 2 == 0:\n",
    "        print(item)\n",
    "\n",
    "# 위에서 조건문을 확인할 때에는 '=='를 사용하며, '=' 는 변수에 값을 지정할 때 사용한다. if문도 뒤에 `:`가 와야 하며, \n",
    "# 이 조건이 만족될 때 실행되는 코드 블록은 들여쓰기를 해야 한다"
   ]
  },
  {
   "cell_type": "markdown",
   "metadata": {},
   "source": [
    "## 라이브러리"
   ]
  },
  {
   "cell_type": "code",
   "execution_count": 25,
   "metadata": {},
   "outputs": [
    {
     "data": {
      "text/plain": [
       "24"
      ]
     },
     "execution_count": 25,
     "metadata": {},
     "output_type": "execute_result"
    }
   ],
   "source": [
    "# 라이브러리를 불러 쓰려면 import를 호출해야 한다\n",
    "# 아래는 수학 라이브러리인 math를 부르는 명령이며 이 라이브러리 이름을= 편리하게 'm'으로 부른다는 뜻이다\n",
    "\n",
    "import math as m\n",
    "m.factorial(4)"
   ]
  },
  {
   "cell_type": "markdown",
   "metadata": {},
   "source": [
    "파이선이 제공하는 대표적인 라이브러리는 다음과 같다.\n",
    "\n",
    "**NumPy** (Numerical Python) 다차원 어레이를 쓸 수 있게 한다. 선형대수 처리, 푸리에 변형(스펙트럼 분석) 등을 제공한다\n",
    "\n",
    "**SciPy** (Scientific Python). SciPy는 NumPy 가 설치되어야 실행된다. 공학적, 과학적 계산 기능을 제공한다.\n",
    "\n",
    "**Matplotlib** 히스토그램, 히트맵 등 다양한 그림을 그리는데 사용된다.\n",
    "\n",
    "**Pandas** 데이터를 구조화해서 사용할 때 편리하다. 데이터의 구조를 파악하고 결측치 처리등을 할 때 편리하다.\n",
    "\n",
    "**Scikit Learn** 기계하가습용 라이브러리로 NumPy, SciPy, matplotlib을 사용한다. 기계학습의 대표적인 기능은 분류, 리그레션, 클러스터링, 차원축소 등의 기능을 제공한다.\n",
    "\n",
    "**Statsmodels** 통계모델링에 사용한다. 데이터를 탐색하고, 통계적모델을 만들고 테스트하는데 사용된다.\n",
    "\n",
    "**Seaborn** matplotlib 위에서 실행되면 좀 더 세련된 그래픽, 시각화 기능을 제공한다."
   ]
  },
  {
   "cell_type": "markdown",
   "metadata": {},
   "source": [
    "### 함수\n",
    "\n",
    "자주 사용되는 기능을 함수로 정의해 두고 나중에 불러쓰는 것이 프로그래밍의 기초이다. 아래는 입력받은 숫자(아래에서 number)가 짝수인지를 찾아내는 함수 정의이다. 함수는 def 문으로 정의하며 정의문은':'으로 끝나야 한다. 아래에서 \"\"\"로 시작하고 끝나는 부분은 코멘트 영역이다.\n",
    "\n",
    "함수가 실행되고 나면 'return' 부분이 출력으로 얻게 되는 부분이다. 위의 함수에서는 리턴문이 '=='를 포함하고 있으므로 이는 Boolean 값을 리턴한다. 즉 True나 False 중에 한 값을 리턴한다.\n",
    "\n",
    "위에서 정의된 함수를 상용하는 예는 아래와 같다."
   ]
  },
  {
   "cell_type": "code",
   "execution_count": 26,
   "metadata": {},
   "outputs": [
    {
     "data": {
      "text/plain": [
       "True"
      ]
     },
     "execution_count": 26,
     "metadata": {},
     "output_type": "execute_result"
    }
   ],
   "source": [
    "def is_even(number):\n",
    "    \"\"\"Return whether an integer is even or not.\"\"\"\n",
    "    return number % 2 == 0\n",
    "\n",
    "is_even(3)\n",
    "\n",
    "is_even(4)"
   ]
  },
  {
   "cell_type": "markdown",
   "metadata": {},
   "source": [
    "### 함수 호출 방법\n",
    "\n",
    "함수를 호출 할 때 인자 값으로 디폴트로 정해진 값을 사용하는 것이 가능하다. 아래의 예에서 두번째 인자 값을 지정하지 않으면 디폴트로 2가 사용된다. 또는 인자의 이름을 명시해서 호출하는 것도 가능하다."
   ]
  },
  {
   "cell_type": "code",
   "execution_count": 6,
   "metadata": {},
   "outputs": [
    {
     "data": {
      "text/plain": [
       "2"
      ]
     },
     "execution_count": 6,
     "metadata": {},
     "output_type": "execute_result"
    }
   ],
   "source": [
    "def remainder(number, divisor=2):\n",
    "    return number % divisor\n",
    "\n",
    "remainder(5)\n",
    "\n",
    "remainder(5, 3)\n",
    "\n",
    "remainder(5, divisor=3)"
   ]
  },
  {
   "cell_type": "markdown",
   "metadata": {},
   "source": [
    "함수는 여러개의 변수를 인자로 받을 수 있는데, 위치로 값을 받는 인자를 위치(positional) 인자라고 하고 키값을 지정하는 인자를 키타입(keyword) 인자라고 한다."
   ]
  },
  {
   "cell_type": "code",
   "execution_count": 5,
   "metadata": {
    "scrolled": true
   },
   "outputs": [
    {
     "name": "stdout",
     "output_type": "stream",
     "text": [
      "Positional arguments: (1, 2, 'Hello')\n",
      "Keyword arguments: {'d': 4, 'c': 3}\n"
     ]
    },
    {
     "data": {
      "text/plain": [
       "'HELLO'"
      ]
     },
     "execution_count": 5,
     "metadata": {},
     "output_type": "execute_result"
    }
   ],
   "source": [
    "def new_f(*args, **kwargs):\n",
    "    print(\"Positional arguments:\", args)\n",
    "    print(\"Keyword arguments:\", kwargs)\n",
    "\n",
    "new_f(1, 2, 'Hello', c=3, d=4)\n",
    "# 위에서 `args`는 위치 인자들을 포함하는 튜플을 가리키고, `kwargs`는 키타입 인자를 포함하는 딕셔너리를 가리킨다.\n",
    "\n",
    "'hello'.upper()\n",
    "# 여기서 `upper()`함수는 `str` 객체가 지원하는 메소드이고 'hello'가 str 타입의 객체이므로 upper() 함수를 호출할 수 있는 것이다.\n",
    "# 파이선 객체 뒤에 '.'을 입력하고 탭을 누르면 어떤 함수들이 지원되는지를 보여준다"
   ]
  },
  {
   "cell_type": "markdown",
   "metadata": {},
   "source": [
    "## 실습문제 1\n",
    "\n",
    "반복문과 조건문을 이용하여 1부터 19까지의 홀수를 출력해보시오."
   ]
  },
  {
   "cell_type": "code",
   "execution_count": 19,
   "metadata": {},
   "outputs": [
    {
     "name": "stdout",
     "output_type": "stream",
     "text": [
      "1 3 5 7 9 11 13 15 17 19 "
     ]
    }
   ],
   "source": [
    "for i in range(1,20): \n",
    "     if i % 2 == 1:\n",
    "        print(i, end=\" \")"
   ]
  },
  {
   "cell_type": "markdown",
   "metadata": {},
   "source": [
    "## 실습문제 2\n",
    "\n",
    "반복문과 조건문을 이용하여, o 와 x 로 이루어진 한 변의 크기가 'n'인 직각 삼각형이 출력되는 함수를 만들어 보시오.\n",
    "\n",
    "ex) \n",
    "\n",
    "<b>ooooo  \n",
    "<b>oooox  \n",
    "<b>oooxx  \n",
    "<b>ooxxx  \n",
    "<b>oxxxx  \n",
    "<b>xxxxx  "
   ]
  },
  {
   "cell_type": "code",
   "execution_count": 1,
   "metadata": {},
   "outputs": [
    {
     "name": "stdout",
     "output_type": "stream",
     "text": [
      "number : 4\n",
      "o\n",
      "o\n",
      "x\n",
      "o\n",
      "x\n",
      "x\n",
      "o\n",
      "x\n",
      "x\n",
      "x\n",
      "o\n",
      "x\n",
      "x\n",
      "x\n",
      "x\n"
     ]
    }
   ],
   "source": [
    "def new_f(n):\n",
    "    for i in range(0,n+1): \n",
    "         print(\"o\")\n",
    "         for j in range(0,i):\n",
    "            print(\"x\")\n",
    "            \n",
    "n=int(input('number : '))\n",
    "new_f(n)"
   ]
  },
  {
   "cell_type": "code",
   "execution_count": null,
   "metadata": {},
   "outputs": [],
   "source": []
  },
  {
   "cell_type": "code",
   "execution_count": null,
   "metadata": {},
   "outputs": [],
   "source": []
  },
  {
   "cell_type": "code",
   "execution_count": null,
   "metadata": {},
   "outputs": [],
   "source": []
  }
 ],
 "metadata": {
  "kernelspec": {
   "display_name": "Python 3",
   "language": "python",
   "name": "python3"
  },
  "language_info": {
   "codemirror_mode": {
    "name": "ipython",
    "version": 3
   },
   "file_extension": ".py",
   "mimetype": "text/x-python",
   "name": "python",
   "nbconvert_exporter": "python",
   "pygments_lexer": "ipython3",
   "version": "3.6.5"
  }
 },
 "nbformat": 4,
 "nbformat_minor": 2
}
