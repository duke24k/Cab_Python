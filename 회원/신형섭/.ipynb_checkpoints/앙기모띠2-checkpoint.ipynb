{
 "cells": [
  {
   "cell_type": "code",
   "execution_count": 6,
   "metadata": {},
   "outputs": [
    {
     "name": "stdout",
     "output_type": "stream",
     "text": [
      "2.718281828459045\n"
     ]
    }
   ],
   "source": [
    "from math import exp\n",
    "\n",
    "def f(x):\n",
    "    return exp(x)\n",
    "print(f(1))"
   ]
  },
  {
   "cell_type": "code",
   "execution_count": null,
   "metadata": {},
   "outputs": [],
   "source": [
    "import matplotlib.pyplot as plt\n",
    "from math import exp\n",
    "\n",
    "def fac(n):\n",
    "    if(n==1):\n",
    "        return 1;\n",
    "    return fac(n-1)*n\n",
    "\n",
    "def p4_0(x):\n",
    "    return 1 + x + x**2/fac(2) + x**3/fac(3) + x**4/fac(4)\n",
    "def p4_1(x):\n",
    "    return exp(1)*(1 + (x-1) + (x-1)**2/fac(2) + (x-1)**3/fac(3) + (x-1)**4/fac(4))\n",
    "\n"
   ]
  },
  {
   "cell_type": "code",
   "execution_count": null,
   "metadata": {},
   "outputs": [],
   "source": []
  }
 ],
 "metadata": {
  "kernelspec": {
   "display_name": "Python 3",
   "language": "python",
   "name": "python3"
  },
  "language_info": {
   "codemirror_mode": {
    "name": "ipython",
    "version": 3
   },
   "file_extension": ".py",
   "mimetype": "text/x-python",
   "name": "python",
   "nbconvert_exporter": "python",
   "pygments_lexer": "ipython3",
   "version": "3.5.2"
  }
 },
 "nbformat": 4,
 "nbformat_minor": 2
}
