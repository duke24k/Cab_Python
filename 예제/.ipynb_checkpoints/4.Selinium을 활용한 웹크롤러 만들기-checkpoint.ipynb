{
 "cells": [
  {
   "cell_type": "markdown",
   "metadata": {},
   "source": [
    "# 4. Selinium을 활용한 웹크롤러 만들기"
   ]
  },
  {
   "cell_type": "markdown",
   "metadata": {},
   "source": [
    "## 네이버 부동산 크롤링 하기"
   ]
  },
  {
   "cell_type": "markdown",
   "metadata": {},
   "source": [
    "![banner](../image/4-1.jpg)"
   ]
  },
  {
   "cell_type": "code",
   "execution_count": 1,
   "metadata": {},
   "outputs": [],
   "source": [
    "import re\n",
    "from urllib.request import urlopen\n",
    "from bs4 import BeautifulSoup\n",
    "from pandas import DataFrame"
   ]
  },
  {
   "cell_type": "markdown",
   "metadata": {},
   "source": [
    "### 한페이지 크롤링"
   ]
  },
  {
   "cell_type": "code",
   "execution_count": 2,
   "metadata": {},
   "outputs": [],
   "source": [
    "# 페이지(page) 부분을 수정하여 다름 페이지로 넘어갈 수 있다\n",
    "url = 'https://land.naver.com/article/divisionInfo.nhn?rletTypeCd=A01&tradeTypeCd=B2\\\n",
    "&hscpTypeCd=A01%3AA03%3AA04&cortarNo=4211000000&articleOrderCode=&cpId=&minPrc=&\\\n",
    "maxPrc=&minWrrnt=&maxWrrnt=&minLease=&maxLease=&minSpc=&maxSpc=&subDist=&mviDate=&\\\n",
    "hsehCnt=&rltrId=&mnex=&siteOrderCode=&cmplYn=&page={}&location=2339#_content_list_target'.format(1)"
   ]
  },
  {
   "cell_type": "code",
   "execution_count": 3,
   "metadata": {},
   "outputs": [],
   "source": [
    "page = urlopen(url)\n",
    "soup = BeautifulSoup(page, 'html.parser')"
   ]
  },
  {
   "cell_type": "code",
   "execution_count": 4,
   "metadata": {},
   "outputs": [],
   "source": [
    "import re\n",
    "\n",
    "# 공백 문자 제거\n",
    "pattern = re.compile(r'\\s+')"
   ]
  },
  {
   "cell_type": "code",
   "execution_count": 5,
   "metadata": {},
   "outputs": [],
   "source": [
    "col= ['거래', '종류', '확인일자', '매물명', '면적(㎡)', '층', '매물가(만원)', '연락처']"
   ]
  },
  {
   "cell_type": "code",
   "execution_count": 6,
   "metadata": {},
   "outputs": [],
   "source": [
    "# row 값을 가져오기 위한 tbody값 선택\n",
    "tbody = soup.select('.sale_list > tbody > tr')"
   ]
  },
  {
   "cell_type": "code",
   "execution_count": 7,
   "metadata": {},
   "outputs": [],
   "source": [
    "rows = []\n",
    "for i, tr in enumerate(tbody):\n",
    "    if i%2 != 0:\n",
    "        continue\n",
    "    row = []\n",
    "    for i, td in enumerate(tr.select('td')):\n",
    "        if i == 3:\n",
    "            if td.select('img'): \n",
    "                continue\n",
    "        row.append(re.sub(pattern,'', td.text))\n",
    "    rows.append(row)"
   ]
  },
  {
   "cell_type": "code",
   "execution_count": 8,
   "metadata": {},
   "outputs": [
    {
     "data": {
      "text/html": [
       "<div>\n",
       "<style scoped>\n",
       "    .dataframe tbody tr th:only-of-type {\n",
       "        vertical-align: middle;\n",
       "    }\n",
       "\n",
       "    .dataframe tbody tr th {\n",
       "        vertical-align: top;\n",
       "    }\n",
       "\n",
       "    .dataframe thead th {\n",
       "        text-align: right;\n",
       "    }\n",
       "</style>\n",
       "<table border=\"1\" class=\"dataframe\">\n",
       "  <thead>\n",
       "    <tr style=\"text-align: right;\">\n",
       "      <th></th>\n",
       "      <th>거래</th>\n",
       "      <th>종류</th>\n",
       "      <th>확인일자</th>\n",
       "      <th>매물명</th>\n",
       "      <th>면적(㎡)</th>\n",
       "      <th>층</th>\n",
       "      <th>매물가(만원)</th>\n",
       "      <th>연락처</th>\n",
       "    </tr>\n",
       "  </thead>\n",
       "  <tbody>\n",
       "    <tr>\n",
       "      <th>25</th>\n",
       "      <td>월세</td>\n",
       "      <td>아파트</td>\n",
       "      <td>18.09.18.</td>\n",
       "      <td>청와네이버부동산에서보기</td>\n",
       "      <td>53/39공급면적53.9㎡전용면적39.7㎡</td>\n",
       "      <td>5/10</td>\n",
       "      <td>500/30</td>\n",
       "      <td>부동산미소공인중개사사무소033-251-5512</td>\n",
       "    </tr>\n",
       "    <tr>\n",
       "      <th>26</th>\n",
       "      <td>월세</td>\n",
       "      <td>아파트</td>\n",
       "      <td>18.09.17.</td>\n",
       "      <td>현대2차네이버부동산에서보기</td>\n",
       "      <td>78A/59공급면적78.18㎡전용면적59.76㎡</td>\n",
       "      <td>13/15</td>\n",
       "      <td>3,000/45</td>\n",
       "      <td>금탑공인중개사사무소033-254-2454</td>\n",
       "    </tr>\n",
       "    <tr>\n",
       "      <th>27</th>\n",
       "      <td>월세</td>\n",
       "      <td>아파트</td>\n",
       "      <td>18.09.17.</td>\n",
       "      <td>춘천더샵네이버부동산에서보기</td>\n",
       "      <td>109A/84공급면적109.77㎡전용면적84.91㎡</td>\n",
       "      <td>14/25</td>\n",
       "      <td>2,000/70</td>\n",
       "      <td>타워공인중개사사무소033-910-8838</td>\n",
       "    </tr>\n",
       "    <tr>\n",
       "      <th>28</th>\n",
       "      <td>월세</td>\n",
       "      <td>아파트</td>\n",
       "      <td>18.09.17.</td>\n",
       "      <td>휴먼타운네이버부동산에서보기</td>\n",
       "      <td>112/84공급면적112.11㎡전용면적84.89㎡</td>\n",
       "      <td>15/15</td>\n",
       "      <td>2,000/70</td>\n",
       "      <td>호랑이공인중개사033-255-4300</td>\n",
       "    </tr>\n",
       "    <tr>\n",
       "      <th>29</th>\n",
       "      <td>월세</td>\n",
       "      <td>아파트</td>\n",
       "      <td>18.09.17.</td>\n",
       "      <td>동보네이버부동산에서보기</td>\n",
       "      <td>47/28공급면적47㎡전용면적28.38㎡</td>\n",
       "      <td>9/12</td>\n",
       "      <td>200/25</td>\n",
       "      <td>다모아공인중개사사무소033-262-5989</td>\n",
       "    </tr>\n",
       "  </tbody>\n",
       "</table>\n",
       "</div>"
      ],
      "text/plain": [
       "    거래   종류       확인일자             매물명                         면적(㎡)      층  \\\n",
       "25  월세  아파트  18.09.18.    청와네이버부동산에서보기       53/39공급면적53.9㎡전용면적39.7㎡   5/10   \n",
       "26  월세  아파트  18.09.17.  현대2차네이버부동산에서보기    78A/59공급면적78.18㎡전용면적59.76㎡  13/15   \n",
       "27  월세  아파트  18.09.17.  춘천더샵네이버부동산에서보기  109A/84공급면적109.77㎡전용면적84.91㎡  14/25   \n",
       "28  월세  아파트  18.09.17.  휴먼타운네이버부동산에서보기   112/84공급면적112.11㎡전용면적84.89㎡  15/15   \n",
       "29  월세  아파트  18.09.17.    동보네이버부동산에서보기        47/28공급면적47㎡전용면적28.38㎡   9/12   \n",
       "\n",
       "     매물가(만원)                        연락처  \n",
       "25    500/30  부동산미소공인중개사사무소033-251-5512  \n",
       "26  3,000/45     금탑공인중개사사무소033-254-2454  \n",
       "27  2,000/70     타워공인중개사사무소033-910-8838  \n",
       "28  2,000/70       호랑이공인중개사033-255-4300  \n",
       "29    200/25    다모아공인중개사사무소033-262-5989  "
      ]
     },
     "execution_count": 8,
     "metadata": {},
     "output_type": "execute_result"
    }
   ],
   "source": [
    "from pandas import DataFrame\n",
    "\n",
    "df = DataFrame.from_records(rows, columns=col)\n",
    "df.tail(5)"
   ]
  },
  {
   "cell_type": "code",
   "execution_count": 9,
   "metadata": {},
   "outputs": [
    {
     "data": {
      "text/html": [
       "<div>\n",
       "<style scoped>\n",
       "    .dataframe tbody tr th:only-of-type {\n",
       "        vertical-align: middle;\n",
       "    }\n",
       "\n",
       "    .dataframe tbody tr th {\n",
       "        vertical-align: top;\n",
       "    }\n",
       "\n",
       "    .dataframe thead th {\n",
       "        text-align: right;\n",
       "    }\n",
       "</style>\n",
       "<table border=\"1\" class=\"dataframe\">\n",
       "  <thead>\n",
       "    <tr style=\"text-align: right;\">\n",
       "      <th></th>\n",
       "      <th>거래</th>\n",
       "      <th>종류</th>\n",
       "      <th>확인일자</th>\n",
       "      <th>매물명</th>\n",
       "      <th>면적(㎡)</th>\n",
       "      <th>층</th>\n",
       "      <th>매물가(만원)</th>\n",
       "      <th>연락처</th>\n",
       "    </tr>\n",
       "  </thead>\n",
       "  <tbody>\n",
       "    <tr>\n",
       "      <th>25</th>\n",
       "      <td>월세</td>\n",
       "      <td>아파트</td>\n",
       "      <td>18.09.18.</td>\n",
       "      <td>청와</td>\n",
       "      <td>53/39공급면적53.9㎡전용면적39.7㎡</td>\n",
       "      <td>5/10</td>\n",
       "      <td>500/30</td>\n",
       "      <td>부동산미소공인중개사사무소033-251-5512</td>\n",
       "    </tr>\n",
       "    <tr>\n",
       "      <th>26</th>\n",
       "      <td>월세</td>\n",
       "      <td>아파트</td>\n",
       "      <td>18.09.17.</td>\n",
       "      <td>현대2차</td>\n",
       "      <td>78A/59공급면적78.18㎡전용면적59.76㎡</td>\n",
       "      <td>13/15</td>\n",
       "      <td>3,000/45</td>\n",
       "      <td>금탑공인중개사사무소033-254-2454</td>\n",
       "    </tr>\n",
       "    <tr>\n",
       "      <th>27</th>\n",
       "      <td>월세</td>\n",
       "      <td>아파트</td>\n",
       "      <td>18.09.17.</td>\n",
       "      <td>춘천더샵</td>\n",
       "      <td>109A/84공급면적109.77㎡전용면적84.91㎡</td>\n",
       "      <td>14/25</td>\n",
       "      <td>2,000/70</td>\n",
       "      <td>타워공인중개사사무소033-910-8838</td>\n",
       "    </tr>\n",
       "    <tr>\n",
       "      <th>28</th>\n",
       "      <td>월세</td>\n",
       "      <td>아파트</td>\n",
       "      <td>18.09.17.</td>\n",
       "      <td>휴먼타운</td>\n",
       "      <td>112/84공급면적112.11㎡전용면적84.89㎡</td>\n",
       "      <td>15/15</td>\n",
       "      <td>2,000/70</td>\n",
       "      <td>호랑이공인중개사033-255-4300</td>\n",
       "    </tr>\n",
       "    <tr>\n",
       "      <th>29</th>\n",
       "      <td>월세</td>\n",
       "      <td>아파트</td>\n",
       "      <td>18.09.17.</td>\n",
       "      <td>동보</td>\n",
       "      <td>47/28공급면적47㎡전용면적28.38㎡</td>\n",
       "      <td>9/12</td>\n",
       "      <td>200/25</td>\n",
       "      <td>다모아공인중개사사무소033-262-5989</td>\n",
       "    </tr>\n",
       "  </tbody>\n",
       "</table>\n",
       "</div>"
      ],
      "text/plain": [
       "    거래   종류       확인일자   매물명                         면적(㎡)      층   매물가(만원)  \\\n",
       "25  월세  아파트  18.09.18.    청와       53/39공급면적53.9㎡전용면적39.7㎡   5/10    500/30   \n",
       "26  월세  아파트  18.09.17.  현대2차    78A/59공급면적78.18㎡전용면적59.76㎡  13/15  3,000/45   \n",
       "27  월세  아파트  18.09.17.  춘천더샵  109A/84공급면적109.77㎡전용면적84.91㎡  14/25  2,000/70   \n",
       "28  월세  아파트  18.09.17.  휴먼타운   112/84공급면적112.11㎡전용면적84.89㎡  15/15  2,000/70   \n",
       "29  월세  아파트  18.09.17.    동보        47/28공급면적47㎡전용면적28.38㎡   9/12    200/25   \n",
       "\n",
       "                          연락처  \n",
       "25  부동산미소공인중개사사무소033-251-5512  \n",
       "26     금탑공인중개사사무소033-254-2454  \n",
       "27     타워공인중개사사무소033-910-8838  \n",
       "28       호랑이공인중개사033-255-4300  \n",
       "29    다모아공인중개사사무소033-262-5989  "
      ]
     },
     "execution_count": 9,
     "metadata": {},
     "output_type": "execute_result"
    }
   ],
   "source": [
    "# 매물명에서 '네이버부동산에서보기' 제거\n",
    "df['매물명'] = df['매물명'].apply(lambda x : x.replace('네이버부동산에서보기', ''))\n",
    "df.tail(5)"
   ]
  },
  {
   "cell_type": "markdown",
   "metadata": {},
   "source": [
    "## 여러 페이지 크롤링"
   ]
  },
  {
   "cell_type": "markdown",
   "metadata": {},
   "source": [
    "### 모듈화"
   ]
  },
  {
   "cell_type": "code",
   "execution_count": 10,
   "metadata": {},
   "outputs": [],
   "source": [
    "import re\n",
    "from urllib.request import urlopen\n",
    "from bs4 import BeautifulSoup\n",
    "from pandas import DataFrame\n",
    "\n",
    "class Crawler:\n",
    "    def __init__(self):\n",
    "        self.pattern = re.compile(r'\\s+')\n",
    "        self.columns = ['거래', '종류', '확인일자', '매물명', '면적(㎡)', '층', '매물가(보증금)', '매물가(월세)', '연락처']\n",
    "        self.rows = []\n",
    "    \n",
    "    def _make_rows(self, url):\n",
    "        page = urlopen(url)\n",
    "        soup = BeautifulSoup(page, 'html.parser')\n",
    "        tbody = soup.select('.sale_list > tbody > tr')\n",
    "        for i, tr in enumerate(tbody):\n",
    "            if i%2 != 0: # 예외 로우 제거\n",
    "                continue\n",
    "            # 섬네일 이미지가 포함되지 않은 row\n",
    "            if len(tr.select('td')) == 8:\n",
    "                row = []\n",
    "                for i, td in enumerate(tr.select('td')):\n",
    "                    if i == 6: # 매물가 int형으로 변경\n",
    "                        try:\n",
    "                            price = td.text.replace(',', '')\n",
    "                            for p in price.split('/'):\n",
    "                                row.append(int(p))\n",
    "                        except:\n",
    "                            row.append(None)\n",
    "                    else:\n",
    "                        row.append(re.sub(self.pattern,'', td.text))\n",
    "            # 섬네일 이미지가 포함된 row\n",
    "            else:\n",
    "                row = []\n",
    "                for i, td in enumerate(tr.select('td')):\n",
    "                    if i == 6:\n",
    "                        continue\n",
    "                    if i == 7: # 매물가 int형으로 변경\n",
    "                        try:\n",
    "                            price = td.text.replace(',', '')\n",
    "                            for p in price.split('/'):\n",
    "                                row.append(int(p))\n",
    "                        except:\n",
    "                            row.append(None)\n",
    "                    else:\n",
    "                        row.append(re.sub(self.pattern,'', td.text))\n",
    "                        \n",
    "            self.rows.append(row)\n",
    "            \n",
    "    def crawling(self, pages=2):\n",
    "        # 테이블 로우\n",
    "        for page in range(1, pages):\n",
    "            self._make_rows('https://land.naver.com/article/divisionInfo.nhn?rletTypeCd=A01&tradeTypeCd=B2&hscpTypeCd=A01%3AA03%3AA04&cortarNo=4211000000&articleOrderCode=&cpId=&minPrc=&maxPrc=&minWrrnt=&maxWrrnt=&minLease=&maxLease=&minSpc=&maxSpc=&subDist=&mviDate=&hsehCnt=&rltrId=&mnex=&siteOrderCode=&cmplYn=&page={}&location=2339#_content_list_target'.format(page))\n",
    "        df = DataFrame.from_records(self.rows, columns=self.columns)\n",
    "        return df"
   ]
  },
  {
   "cell_type": "code",
   "execution_count": 11,
   "metadata": {},
   "outputs": [],
   "source": [
    "crawler = Crawler()\n",
    "dataset = crawler.crawling(10)"
   ]
  },
  {
   "cell_type": "code",
   "execution_count": 12,
   "metadata": {},
   "outputs": [
    {
     "name": "stdout",
     "output_type": "stream",
     "text": [
      "데이터 크기: 183\n"
     ]
    },
    {
     "data": {
      "text/html": [
       "<div>\n",
       "<style scoped>\n",
       "    .dataframe tbody tr th:only-of-type {\n",
       "        vertical-align: middle;\n",
       "    }\n",
       "\n",
       "    .dataframe tbody tr th {\n",
       "        vertical-align: top;\n",
       "    }\n",
       "\n",
       "    .dataframe thead th {\n",
       "        text-align: right;\n",
       "    }\n",
       "</style>\n",
       "<table border=\"1\" class=\"dataframe\">\n",
       "  <thead>\n",
       "    <tr style=\"text-align: right;\">\n",
       "      <th></th>\n",
       "      <th>거래</th>\n",
       "      <th>종류</th>\n",
       "      <th>확인일자</th>\n",
       "      <th>매물명</th>\n",
       "      <th>면적(㎡)</th>\n",
       "      <th>층</th>\n",
       "      <th>매물가(보증금)</th>\n",
       "      <th>매물가(월세)</th>\n",
       "      <th>연락처</th>\n",
       "    </tr>\n",
       "  </thead>\n",
       "  <tbody>\n",
       "    <tr>\n",
       "      <th>0</th>\n",
       "      <td>월세</td>\n",
       "      <td>아파트</td>\n",
       "      <td>18.09.19.</td>\n",
       "      <td>집주인동보네이버부동산에서보기</td>\n",
       "      <td>47/28공급면적47㎡전용면적28.38㎡</td>\n",
       "      <td>10/12</td>\n",
       "      <td>300.0</td>\n",
       "      <td>27.0</td>\n",
       "      <td>선율공인중개사사무소033-262-4888</td>\n",
       "    </tr>\n",
       "    <tr>\n",
       "      <th>1</th>\n",
       "      <td>월세</td>\n",
       "      <td>아파트</td>\n",
       "      <td>18.09.29.</td>\n",
       "      <td>보배온의네이버부동산에서보기</td>\n",
       "      <td>147/126공급면적147.81㎡전용면적126.57㎡</td>\n",
       "      <td>6/13</td>\n",
       "      <td>2000.0</td>\n",
       "      <td>70.0</td>\n",
       "      <td>부동산에버빌공인중개사사무소010-9477-2598</td>\n",
       "    </tr>\n",
       "    <tr>\n",
       "      <th>2</th>\n",
       "      <td>월세</td>\n",
       "      <td>아파트</td>\n",
       "      <td>18.09.28.</td>\n",
       "      <td>퇴계주공1단지네이버부동산에서보기</td>\n",
       "      <td>75/49공급면적75.83㎡전용면적49.71㎡</td>\n",
       "      <td>1/15</td>\n",
       "      <td>3000.0</td>\n",
       "      <td>35.0</td>\n",
       "      <td>춘천LH공인중개사사무소033-264-2003</td>\n",
       "    </tr>\n",
       "    <tr>\n",
       "      <th>3</th>\n",
       "      <td>월세</td>\n",
       "      <td>아파트</td>\n",
       "      <td>18.09.28.</td>\n",
       "      <td>진흥네이버부동산에서보기</td>\n",
       "      <td>76/59공급면적76.87㎡전용면적59.15㎡</td>\n",
       "      <td>12/15</td>\n",
       "      <td>1000.0</td>\n",
       "      <td>50.0</td>\n",
       "      <td>그랜드부동산공인중개사사무소033-264-4289</td>\n",
       "    </tr>\n",
       "    <tr>\n",
       "      <th>4</th>\n",
       "      <td>월세</td>\n",
       "      <td>아파트</td>\n",
       "      <td>18.09.28.</td>\n",
       "      <td>장학LH해온채네이버부동산에서보기</td>\n",
       "      <td>111B/84공급면적111.81㎡전용면적84.97㎡</td>\n",
       "      <td>2/15</td>\n",
       "      <td>2000.0</td>\n",
       "      <td>65.0</td>\n",
       "      <td>장학부동산공인중개사사무소033-243-4980</td>\n",
       "    </tr>\n",
       "  </tbody>\n",
       "</table>\n",
       "</div>"
      ],
      "text/plain": [
       "   거래   종류       확인일자                매물명                          면적(㎡)  \\\n",
       "0  월세  아파트  18.09.19.    집주인동보네이버부동산에서보기         47/28공급면적47㎡전용면적28.38㎡   \n",
       "1  월세  아파트  18.09.29.     보배온의네이버부동산에서보기  147/126공급면적147.81㎡전용면적126.57㎡   \n",
       "2  월세  아파트  18.09.28.  퇴계주공1단지네이버부동산에서보기      75/49공급면적75.83㎡전용면적49.71㎡   \n",
       "3  월세  아파트  18.09.28.       진흥네이버부동산에서보기      76/59공급면적76.87㎡전용면적59.15㎡   \n",
       "4  월세  아파트  18.09.28.  장학LH해온채네이버부동산에서보기   111B/84공급면적111.81㎡전용면적84.97㎡   \n",
       "\n",
       "       층  매물가(보증금)  매물가(월세)                          연락처  \n",
       "0  10/12     300.0     27.0       선율공인중개사사무소033-262-4888  \n",
       "1   6/13    2000.0     70.0  부동산에버빌공인중개사사무소010-9477-2598  \n",
       "2   1/15    3000.0     35.0     춘천LH공인중개사사무소033-264-2003  \n",
       "3  12/15    1000.0     50.0   그랜드부동산공인중개사사무소033-264-4289  \n",
       "4   2/15    2000.0     65.0    장학부동산공인중개사사무소033-243-4980  "
      ]
     },
     "execution_count": 12,
     "metadata": {},
     "output_type": "execute_result"
    }
   ],
   "source": [
    "print(\"데이터 크기: {}\".format(len(dataset)))\n",
    "dataset.head(5)"
   ]
  },
  {
   "cell_type": "markdown",
   "metadata": {},
   "source": [
    "### None값 제거"
   ]
  },
  {
   "cell_type": "code",
   "execution_count": 13,
   "metadata": {},
   "outputs": [
    {
     "name": "stdout",
     "output_type": "stream",
     "text": [
      "데이터 크기: 173\n"
     ]
    }
   ],
   "source": [
    "dataset = dataset.dropna()\n",
    "print(\"데이터 크기: {}\".format(len(dataset)))"
   ]
  },
  {
   "cell_type": "code",
   "execution_count": 14,
   "metadata": {},
   "outputs": [
    {
     "data": {
      "text/html": [
       "<div>\n",
       "<style scoped>\n",
       "    .dataframe tbody tr th:only-of-type {\n",
       "        vertical-align: middle;\n",
       "    }\n",
       "\n",
       "    .dataframe tbody tr th {\n",
       "        vertical-align: top;\n",
       "    }\n",
       "\n",
       "    .dataframe thead th {\n",
       "        text-align: right;\n",
       "    }\n",
       "</style>\n",
       "<table border=\"1\" class=\"dataframe\">\n",
       "  <thead>\n",
       "    <tr style=\"text-align: right;\">\n",
       "      <th></th>\n",
       "      <th>거래</th>\n",
       "      <th>종류</th>\n",
       "      <th>확인일자</th>\n",
       "      <th>매물명</th>\n",
       "      <th>면적(㎡)</th>\n",
       "      <th>층</th>\n",
       "      <th>매물가(보증금)</th>\n",
       "      <th>매물가(월세)</th>\n",
       "      <th>연락처</th>\n",
       "    </tr>\n",
       "  </thead>\n",
       "  <tbody>\n",
       "    <tr>\n",
       "      <th>0</th>\n",
       "      <td>월세</td>\n",
       "      <td>아파트</td>\n",
       "      <td>18.09.19.</td>\n",
       "      <td>집주인동보</td>\n",
       "      <td>47/28공급면적47㎡전용면적28.38㎡</td>\n",
       "      <td>10/12</td>\n",
       "      <td>300.0</td>\n",
       "      <td>27.0</td>\n",
       "      <td>선율공인중개사사무소033-262-4888</td>\n",
       "    </tr>\n",
       "    <tr>\n",
       "      <th>1</th>\n",
       "      <td>월세</td>\n",
       "      <td>아파트</td>\n",
       "      <td>18.09.29.</td>\n",
       "      <td>보배온의</td>\n",
       "      <td>147/126공급면적147.81㎡전용면적126.57㎡</td>\n",
       "      <td>6/13</td>\n",
       "      <td>2000.0</td>\n",
       "      <td>70.0</td>\n",
       "      <td>부동산에버빌공인중개사사무소010-9477-2598</td>\n",
       "    </tr>\n",
       "    <tr>\n",
       "      <th>2</th>\n",
       "      <td>월세</td>\n",
       "      <td>아파트</td>\n",
       "      <td>18.09.28.</td>\n",
       "      <td>퇴계주공1단지</td>\n",
       "      <td>75/49공급면적75.83㎡전용면적49.71㎡</td>\n",
       "      <td>1/15</td>\n",
       "      <td>3000.0</td>\n",
       "      <td>35.0</td>\n",
       "      <td>춘천LH공인중개사사무소033-264-2003</td>\n",
       "    </tr>\n",
       "    <tr>\n",
       "      <th>3</th>\n",
       "      <td>월세</td>\n",
       "      <td>아파트</td>\n",
       "      <td>18.09.28.</td>\n",
       "      <td>진흥</td>\n",
       "      <td>76/59공급면적76.87㎡전용면적59.15㎡</td>\n",
       "      <td>12/15</td>\n",
       "      <td>1000.0</td>\n",
       "      <td>50.0</td>\n",
       "      <td>그랜드부동산공인중개사사무소033-264-4289</td>\n",
       "    </tr>\n",
       "    <tr>\n",
       "      <th>4</th>\n",
       "      <td>월세</td>\n",
       "      <td>아파트</td>\n",
       "      <td>18.09.28.</td>\n",
       "      <td>장학LH해온채</td>\n",
       "      <td>111B/84공급면적111.81㎡전용면적84.97㎡</td>\n",
       "      <td>2/15</td>\n",
       "      <td>2000.0</td>\n",
       "      <td>65.0</td>\n",
       "      <td>장학부동산공인중개사사무소033-243-4980</td>\n",
       "    </tr>\n",
       "  </tbody>\n",
       "</table>\n",
       "</div>"
      ],
      "text/plain": [
       "   거래   종류       확인일자      매물명                          면적(㎡)      층  \\\n",
       "0  월세  아파트  18.09.19.    집주인동보         47/28공급면적47㎡전용면적28.38㎡  10/12   \n",
       "1  월세  아파트  18.09.29.     보배온의  147/126공급면적147.81㎡전용면적126.57㎡   6/13   \n",
       "2  월세  아파트  18.09.28.  퇴계주공1단지      75/49공급면적75.83㎡전용면적49.71㎡   1/15   \n",
       "3  월세  아파트  18.09.28.       진흥      76/59공급면적76.87㎡전용면적59.15㎡  12/15   \n",
       "4  월세  아파트  18.09.28.  장학LH해온채   111B/84공급면적111.81㎡전용면적84.97㎡   2/15   \n",
       "\n",
       "   매물가(보증금)  매물가(월세)                          연락처  \n",
       "0     300.0     27.0       선율공인중개사사무소033-262-4888  \n",
       "1    2000.0     70.0  부동산에버빌공인중개사사무소010-9477-2598  \n",
       "2    3000.0     35.0     춘천LH공인중개사사무소033-264-2003  \n",
       "3    1000.0     50.0   그랜드부동산공인중개사사무소033-264-4289  \n",
       "4    2000.0     65.0    장학부동산공인중개사사무소033-243-4980  "
      ]
     },
     "execution_count": 14,
     "metadata": {},
     "output_type": "execute_result"
    }
   ],
   "source": [
    "# 매물명의 '네이버부동산에서보기' 제거\n",
    "dataset['매물명'] = dataset['매물명'].apply(lambda x:x.replace('네이버부동산에서보기', ''))\n",
    "dataset.head(5)"
   ]
  },
  {
   "cell_type": "markdown",
   "metadata": {},
   "source": [
    "### 시각화"
   ]
  },
  {
   "cell_type": "code",
   "execution_count": 15,
   "metadata": {},
   "outputs": [
    {
     "data": {
      "image/png": "[encoded data removed]",
      "text/plain": [
       "<Figure size 720x360 with 1 Axes>"
      ]
     },
     "metadata": {},
     "output_type": "display_data"
    }
   ],
   "source": [
    "import matplotlib.pyplot as plt\n",
    "import seaborn as sns\n",
    "\n",
    "plt.figure(figsize=(10, 5))\n",
    "fig = sns.distplot(dataset['매물가(보증금)'], rug=True, axlabel='price', norm_hist=True)\n",
    "plt.show(fig)\n",
    "plt.clf()"
   ]
  },
  {
   "cell_type": "code",
   "execution_count": 16,
   "metadata": {},
   "outputs": [
    {
     "data": {
      "text/plain": [
       "<Figure size 432x288 with 0 Axes>"
      ]
     },
     "metadata": {},
     "output_type": "display_data"
    },
    {
     "data": {
      "image/png": "[encoded data removed]",
      "text/plain": [
       "<Figure size 720x360 with 1 Axes>"
      ]
     },
     "metadata": {},
     "output_type": "display_data"
    }
   ],
   "source": [
    "plt.figure(figsize=(10, 5))\n",
    "fig = sns.distplot(dataset['매물가(월세)'], rug=True, axlabel='price')\n",
    "plt.show(fig)\n",
    "plt.clf()"
   ]
  },
  {
   "cell_type": "code",
   "execution_count": null,
   "metadata": {},
   "outputs": [],
   "source": []
  }
 ],
 "metadata": {
  "kernelspec": {
   "display_name": "Python 3",
   "language": "python",
   "name": "python3"
  },
  "language_info": {
   "codemirror_mode": {
    "name": "ipython",
    "version": 3
   },
   "file_extension": ".py",
   "mimetype": "text/x-python",
   "name": "python",
   "nbconvert_exporter": "python",
   "pygments_lexer": "ipython3",
   "version": "3.5.2"
  }
 },
 "nbformat": 4,
 "nbformat_minor": 2
}
