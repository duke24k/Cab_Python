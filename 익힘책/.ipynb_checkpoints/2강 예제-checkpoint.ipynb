{
 "cells": [
  {
   "cell_type": "markdown",
   "metadata": {},
   "source": [
    "# 2주차 예제"
   ]
  },
  {
   "cell_type": "markdown",
   "metadata": {},
   "source": [
    "* [기초] 성훈, 상훈, 홍용, 병윤은 비트코인을 각각 100코인, 120코인, 150코인, 130코인을 가지고 있습니다. 아래 인터페이스를 참고하여 이들의 코인 보유량의 총합, 평균, 분산을 구하는 함수를 만들고 출력하세요. 이때 한 함수에서 3개 값을 모두 반환하도록 짜세요.\n",
    "\n",
    "```python\n",
    "def statistic_info(arr):\n",
    "    \"\"\"\n",
    "    Args: \n",
    "        param (list): 코인 보유 리스트\n",
    "\n",
    "    Returns:\n",
    "        tuple: (총합, 평균, 분산)\n",
    "        \n",
    "    Examples:\n",
    "        >>> arr = [100, 120, 150, 130]\n",
    "        >>> total, mean, squares = statistic_info(arr)\n",
    "        >>> print('총합: ', total)\n",
    "        총합:  500\n",
    "        >>> print('평균: ', mean)\n",
    "        평균:  125.0\n",
    "        >>> print('분산: ', squares)\n",
    "        분산:  325.0\n",
    "    \"\"\"\n",
    "    pass\n",
    "```"
   ]
  },
  {
   "cell_type": "code",
   "execution_count": 2,
   "metadata": {},
   "outputs": [
    {
     "name": "stdout",
     "output_type": "stream",
     "text": [
      "총합:  500\n",
      "평균:  125.0\n",
      "분산:  325.0\n"
     ]
    }
   ],
   "source": [
    "def statistic_info(arr):\n",
    "    total = 0\n",
    "    for each in arr:\n",
    "        total += each\n",
    "    # 평균 구하기\n",
    "    mean = total/len(arr)\n",
    "    # 분산 구하기\n",
    "    squares = 0\n",
    "    for each in arr:\n",
    "        squares += (each - mean)**2\n",
    "    squares = squares/len(arr)\n",
    "    return total, mean, squares\n",
    "\n",
    "arr = [100, 120, 150, 130]\n",
    "total, mean, squares = statistic_info(arr)\n",
    "print('총합: ', total)\n",
    "print('평균: ', mean)\n",
    "print('분산: ', squares)"
   ]
  },
  {
   "cell_type": "markdown",
   "metadata": {},
   "source": [
    "* [기초] 1부터 16까지 정수값을 요소로 가지는 리스트를 구현하고 출력하세요\n",
    "\n",
    "```\n",
    "print(리스트)\n",
    ">>> [1, 2, 3, 4, 5, 6, 7, 8, 9, 10, 11, 12, 13, 14, 15]\n",
    "\n",
    "```"
   ]
  },
  {
   "cell_type": "code",
   "execution_count": 3,
   "metadata": {},
   "outputs": [
    {
     "name": "stdout",
     "output_type": "stream",
     "text": [
      "[1, 2, 3, 4, 5, 6, 7, 8, 9, 10, 11, 12, 13, 14, 15]\n"
     ]
    }
   ],
   "source": [
    "arr = []\n",
    "for i in range(1, 16):\n",
    "    arr.append(i)\n",
    "print(arr)"
   ]
  },
  {
   "cell_type": "markdown",
   "metadata": {},
   "source": [
    "* [기초] 위의 리스트에서 3의 배수인 값들을 제거하세오\n",
    "\n",
    "```\n",
    "print(리스트)\n",
    ">>> [1, 2, 4, 5, 7, 8, 10, 11, 13, 14]\n",
    "```"
   ]
  },
  {
   "cell_type": "code",
   "execution_count": 4,
   "metadata": {},
   "outputs": [
    {
     "name": "stdout",
     "output_type": "stream",
     "text": [
      "[1, 2, 4, 5, 7, 8, 10, 11, 13, 14]\n"
     ]
    }
   ],
   "source": [
    "for v in arr:\n",
    "    if v%3 ==0:\n",
    "        arr.remove(v)\n",
    "print(arr)"
   ]
  },
  {
   "cell_type": "markdown",
   "metadata": {},
   "source": [
    "* [기초] 위의 리스트를 무작위로 섞으세요\n",
    "\n",
    "    <span style=\"color:gray\">[Tip] random 패키지를 활용해보세요</span>\n",
    "```\n",
    "print(리스트)\n",
    ">>> [8, 10, 14, 11, 5, 13, 4, 2, 7, 1]\n",
    "```"
   ]
  },
  {
   "cell_type": "code",
   "execution_count": 5,
   "metadata": {},
   "outputs": [
    {
     "name": "stdout",
     "output_type": "stream",
     "text": [
      "[8, 10, 14, 11, 5, 13, 4, 2, 7, 1]\n"
     ]
    }
   ],
   "source": [
    "import random\n",
    "\n",
    "random.shuffle(arr)\n",
    "print(arr)"
   ]
  },
  {
   "cell_type": "markdown",
   "metadata": {},
   "source": [
    "* [기초] 위의 리스트를 역순으로 정렬하세요\n",
    "\n",
    "```\n",
    "print(리스트)\n",
    ">>> [14, 13, 11, 10, 8, 7, 5, 4, 2, 1]\n",
    "```"
   ]
  },
  {
   "cell_type": "code",
   "execution_count": 6,
   "metadata": {},
   "outputs": [
    {
     "name": "stdout",
     "output_type": "stream",
     "text": [
      "[14, 13, 11, 10, 8, 7, 5, 4, 2, 1]\n"
     ]
    }
   ],
   "source": [
    "arr.sort(reverse=True)\n",
    "print(arr)"
   ]
  },
  {
   "cell_type": "markdown",
   "metadata": {},
   "source": [
    "* [기초] 5의 배수를 요소로 가지는 리스트를 작성하세요. 요소 값의 범위는 5부터 50까지로 하세요.\n",
    "\n",
    "```\n",
    "print(리스트)\n",
    ">>> [5, 10, 15, 20, 25, 30, 35, 40, 45, 50]\n",
    "```"
   ]
  },
  {
   "cell_type": "code",
   "execution_count": 7,
   "metadata": {},
   "outputs": [
    {
     "data": {
      "text/plain": [
       "[5, 10, 15, 20, 25, 30, 35, 40, 45, 50]"
      ]
     },
     "execution_count": 7,
     "metadata": {},
     "output_type": "execute_result"
    }
   ],
   "source": [
    "리스트 = []\n",
    "for i in range(1, 11):\n",
    "    리스트.append(5*i)\n",
    "리스트"
   ]
  },
  {
   "cell_type": "markdown",
   "metadata": {},
   "source": [
    "* [기초] 재훈이는 홈커밍 준비를 위해 회원들에게 참석여부를 묻고 참가하는 사람의 리스트를 만들고 참가비 총액을 계산하려 합니다. 참가비는 재학생은 1만5천원, 졸업생은 3만원 입니다. 또한 참여회원을 보기 좋게 사전순으로 리스트를 정렬해야합니다. 재훈이를 도와주세요.\n",
    "\n",
    "```\n",
    "졸업생참여자 : 유인덕, 박태양, 이규호, 김진수, 정우현, 이충산, 이상림, 이선우, 홍지웅\n",
    "재학생참여자: 김민규, 신형섭, 변재훈, 문성진, 염민호, 황혜선, 안수정, 오형근, 안중현, 조병윤\n",
    "\n",
    ">>> print(\"총액: \", format(total, \",\"), \"원\")\n",
    "총액:  370,000 원\n",
    ">>> print(\"졸업생: \", graduate)\n",
    "졸업생:  ['김진수', '박태양', '유인덕', '이규호', '이상림', '이선우', '이충산', '정우현', '홍지웅']\n",
    ">>> print(\"재학생: \", enroll)\n",
    "재학생:  ['김민규', '문성진', '신형섭', '안수정', '안중현', '염민호', '오형근', '조병윤', '허상훈', '황혜선']\n",
    "```"
   ]
  },
  {
   "cell_type": "code",
   "execution_count": 23,
   "metadata": {},
   "outputs": [
    {
     "name": "stdout",
     "output_type": "stream",
     "text": [
      "총액:  370,000 원\n",
      "졸업생:  ['김진수', '박태양', '유인덕', '이규호', '이상림', '이선우', '이충산', '정우현', '홍지웅']\n",
      "재학생:  ['김민규', '문성진', '신형섭', '안수정', '안중현', '염민호', '오형근', '조병윤', '허상훈', '황혜선']\n"
     ]
    }
   ],
   "source": [
    "graduate = ['유인덕', '박태양', '이규호', '김진수', '정우현', '이충산', '이상림', '이선우', '홍지웅']\n",
    "enroll = ['김민규', '신형섭', '허상훈', '문성진', '염민호', '황혜선', '안수정', '오형근', '안중현', '조병윤']\n",
    "\n",
    "total = 30000*len(graduate)\n",
    "total += 10000*len(enroll)\n",
    "\n",
    "graduate.sort()\n",
    "enroll.sort()\n",
    "\n",
    "print(\"총액: \", format(total, \",\"), \"원\")\n",
    "print(\"졸업생: \", graduate)\n",
    "print(\"재학생: \", enroll)"
   ]
  },
  {
   "cell_type": "markdown",
   "metadata": {},
   "source": [
    "* [기초] 1부터 50까지 소수를 구하세요\n",
    "\n",
    "```\n",
    ">>> print(prime)\n",
    "[2, 3, 5, 7, 11, 13, 17, 19, 23, 29, 31, 37, 41, 43, 47]\n",
    "```"
   ]
  },
  {
   "cell_type": "code",
   "execution_count": 8,
   "metadata": {},
   "outputs": [
    {
     "data": {
      "text/plain": [
       "[2, 3, 5, 7, 11, 13, 17, 19, 23, 29, 31, 37, 41, 43, 47]"
      ]
     },
     "execution_count": 8,
     "metadata": {},
     "output_type": "execute_result"
    }
   ],
   "source": [
    "prime = [2]\n",
    "for i in range(2, 50):\n",
    "    isPrime = True\n",
    "    for p in prime:\n",
    "        if i%p == 0:\n",
    "            isPrime = False\n",
    "            break\n",
    "    if isPrime:\n",
    "        prime.append(i)\n",
    "prime"
   ]
  },
  {
   "cell_type": "markdown",
   "metadata": {},
   "source": [
    "* [심화] 피보나치 수열을 구하는 함수를 구현하고 20번째 값을 출력하세요\n",
    "\n",
    "    <span style=\"color:gray\">[ Tip ] 재귀함수를 이용하면 간단하게 구할수 있어요</span>\n",
    "```\n",
    ">>> print(fibo(20))\n",
    "6765\n",
    "```"
   ]
  },
  {
   "cell_type": "code",
   "execution_count": 34,
   "metadata": {},
   "outputs": [
    {
     "name": "stdout",
     "output_type": "stream",
     "text": [
      "6765\n"
     ]
    }
   ],
   "source": [
    "def fibo(n):\n",
    "    if n < 2:\n",
    "        return n\n",
    "    return fibo(n-1) + fibo(n-2)\n",
    "\n",
    "print(fibo(20))"
   ]
  },
  {
   "cell_type": "markdown",
   "metadata": {},
   "source": [
    "* [기초] 주민등록번호 검증기를 만들어봅시다.\n",
    "\n",
    "    * 주민등록번호의 의미\n",
    "\n",
    "| 생년  | 생년  | 월  | 월  | 일  | 일  |   | 성별  | 출생지역  | 출생지역  | 출생지역  | 출생지역  | 순번  |오류검증번호|\n",
    "|---|---|---|---|---|---|---|---|---|---|---|---|---|\n",
    "| 0 | 1 | 2 | 3 | 4 | 5 | - | 6 | 7 | 8 | 9 | 10 | 11 | 12 |\n",
    "| 2 | 3 | 4 | 5 | 6 | 7 |   | 8 | 9 | 2 | 3 | 4  | 5  | 0  |\n",
    "\n",
    "   1. 오류 검증번호가 맞아야 합니다. \n",
    "        ```\n",
    "        오류검증번호 = 11 - { ( 첫줄과 아랫줄의 곱의 합 ) / 11 }\n",
    "        ```\n",
    "        \n",
    "   2. 지역번호 네자리중 첫자리는 아래와 같습니다.\n",
    "       ```\n",
    "        서울 : 0\n",
    "        부산 : 1\n",
    "        경기인천: 2\n",
    "        강원/충북: 3\n",
    "        충남/대전: 4\n",
    "        전북/전주: 5\n",
    "        전남/광주: 6\n",
    "        경북/대구: 7\n",
    "        경남/울산: 8\n",
    "        제주도: 9\n",
    "        ```\n",
    "   3. 뒷자리 첫번째는 성별을 표시합니다. 성별은 남성과 여성만 있다고 가정하기로 해요\n",
    "        * 1900년대(1900~1999) 출생한 남성은 1, 1900년대(1900~1999) 출생한 여성은 2\n",
    "        * 2000년대(2000~2099) 출생한 남성은 3, 2000년대(2000~2099) 출생한 여성은 4\n",
    "        * 1800년대(1800~1899) 출생한 남성은 9, 1800년대(1800~1899) 출생한 여성은 0\n",
    "\n",
    "* 950203-1238616 이 올바른 주민등록번호인지 확인해 보세요\n",
    "```\n",
    ">>> number = '9502031238618'\n",
    ">>> print(checkNumber(number))\n",
    "```"
   ]
  },
  {
   "cell_type": "code",
   "execution_count": 9,
   "metadata": {},
   "outputs": [
    {
     "data": {
      "text/plain": [
       "False"
      ]
     },
     "execution_count": 9,
     "metadata": {},
     "output_type": "execute_result"
    }
   ],
   "source": [
    "def checkNumber(number):\n",
    "    if number[6] not in ['1', '2', '3', '4', '9', '0']:\n",
    "        return False\n",
    "    if int(number[7]) > 9:\n",
    "        return False\n",
    "    fvalue = '234567892345'\n",
    "    s = 0\n",
    "    i = 0\n",
    "    for v in number[:-1]:\n",
    "        s += int(v)*int(fvalue[i])\n",
    "        i += 1\n",
    "    result = 11 - s%11\n",
    "    if result >= 10:\n",
    "        result = result%10\n",
    "    return result==int(number[-1])\n",
    "\n",
    "number = '9502031238618'\n",
    "checkNumber(number)"
   ]
  },
  {
   "cell_type": "markdown",
   "metadata": {},
   "source": [
    "* [기초] type 함수를 이용하여 주어진 리스트 내부 변수의 타입을 출력한 함수를 만드세요. 리스트는 아래 입력값을 값으로 가지도록 만드세요.\n",
    "\n",
    "```\n",
    "입력값: '지갑', 50, ('아메리카노','카페라떼','밀크티'), 32.2\n",
    "\n",
    "출력값:\n",
    "<class 'str'>\n",
    "<class 'int'>\n",
    "<class 'tuple'>\n",
    "<class 'float'>\n",
    "```"
   ]
  },
  {
   "cell_type": "code",
   "execution_count": 2,
   "metadata": {},
   "outputs": [
    {
     "name": "stdout",
     "output_type": "stream",
     "text": [
      "<class 'str'>\n",
      "<class 'int'>\n",
      "<class 'tuple'>\n",
      "<class 'float'>\n"
     ]
    }
   ],
   "source": [
    "def checkType(value):\n",
    "    print(type(value))\n",
    "    \n",
    "valueList = ['지갑', 50, ('아메리카노','카페라떼','밀크티'), 32.2]\n",
    "for value in valueList:\n",
    "    checkType(value)"
   ]
  },
  {
   "cell_type": "code",
   "execution_count": null,
   "metadata": {
    "collapsed": true
   },
   "outputs": [],
   "source": []
  }
 ],
 "metadata": {
  "kernelspec": {
   "display_name": "Python 3",
   "language": "python",
   "name": "python3"
  },
  "language_info": {
   "codemirror_mode": {
    "name": "ipython",
    "version": 3
   },
   "file_extension": ".py",
   "mimetype": "text/x-python",
   "name": "python",
   "nbconvert_exporter": "python",
   "pygments_lexer": "ipython3",
   "version": "3.6.2"
  }
 },
 "nbformat": 4,
 "nbformat_minor": 2
}
