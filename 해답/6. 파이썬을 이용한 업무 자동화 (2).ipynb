{
 "cells": [
  {
   "cell_type": "markdown",
   "metadata": {},
   "source": [
    "# 6. Selenium을 활용한 웹크롤러 만들기 - 1"
   ]
  },
  {
   "cell_type": "markdown",
   "metadata": {},
   "source": [
    "![banner](../image/4-1.jpg)"
   ]
  },
  {
   "cell_type": "markdown",
   "metadata": {},
   "source": [
    "## 웹이란 무엇일까요?"
   ]
  },
  {
   "cell_type": "markdown",
   "metadata": {},
   "source": [
    "> 웹은 ‘월드 와이드 웹(World Wide Web)’의 줄임말이에요. 첫 글자를 따서 WWW라고 부르기도 합니다. ‘웹(web)’을 영어 뜻 그대로 풀이하면 ‘거미줄’이라는 뜻인데, 거미줄처럼 서로 연결된 모습을 상상하면 딱 알맞는 용어겠죠?\n",
    "\n",
    "> 웹은 뼈대를 이루는 html, 꾸며주기를 담당하는 css, 동작을 담당하는 javascript로 이루어져 있어요. 이를 실제로 살펴볼까요? Chrome 브라우져에서 오른쪽 버튼을 눌러 검사 옵션에 들어가보세요."
   ]
  },
  {
   "cell_type": "markdown",
   "metadata": {},
   "source": [
    "![banner](../image/4-4.jpg)"
   ]
  },
  {
   "cell_type": "markdown",
   "metadata": {},
   "source": [
    "> 오른쪽에서 첫번째 Elements 창이 보이시나요? 보고계신 내용이 웹페이지의 뼈대를 이루는 html문서에요. 보는것 처럼 html은 태그(tag)를 활용해서 만들어졌으며 이를 어려운말로 마크업언어(Markup language)라고 합니다. 두번째 창에 보면 웹페이지를 꾸며주는 css를 확인할수 있고 Source 탭을 누르면 웹페이지의 작동을 관리하는 javascript를 확인해볼수 있어요."
   ]
  },
  {
   "cell_type": "markdown",
   "metadata": {},
   "source": [
    "![banner](../image/4-3.jpg)"
   ]
  },
  {
   "cell_type": "markdown",
   "metadata": {},
   "source": [
    "## 웹의 구조"
   ]
  },
  {
   "cell_type": "markdown",
   "metadata": {},
   "source": [
    "> 아래 그림은 모델-뷰-컨트롤러(Model–View–Controller, MVC) 패턴을 보여줘요. MCV패턴은 소프트웨어 공학에서 사용되는 소프트웨어 디자인 패턴을 말해요"
   ]
  },
  {
   "cell_type": "markdown",
   "metadata": {},
   "source": [
    "![banner](../image/4-5.jpg)"
   ]
  },
  {
   "cell_type": "markdown",
   "metadata": {},
   "source": [
    "> 먼저 사용자(Client)에서 서버(Server)로 정보제공을 요청합니다. 이를 요청(Request)라고 해요. Request의 방식은 GET방식과 POST방식이 있어요.\n",
    "\n",
    "> GET방식은 url 뒤에 붙여서 서버로 보내는 방식이에요. `?` 뒤에 값이 이어붙는 방식이죠. 이 때문에 보내는 값을 볼수 있을뿐만 아니라 많은 데이터를 보내기엔 적합하지 않습니다. 그래서 일반적으로 데이터를 주고받기보다는 서버에 요청후 데이터를 받을때 주로 사용해요.\n",
    "\n",
    "> POST방식은 GET방식과 달리 숨겨진 형태로 서버에 전송할때 보내는 방식이에요. 때문에 상대적으로 GET방식에 비해선 많은 데이터를 보낼수 있고, 값이 보여지지 않기때문에 주로 로그인을 할때 서버로 정보를 보내기 위해 사용하는 방식이에요. "
   ]
  },
  {
   "cell_type": "markdown",
   "metadata": {},
   "source": [
    "> 서버가 요청을 받으면 사용자에게 보내기 위해 데이터베이스(Model)로 부터 값을 받고 `html`과 `css`, 그리고 `javscript`를 이용해서 `Component`를 만들어서 사용자에게 보내줘요. 물론 데이터만 보내는것도 가능해요. 이럴땐 주로 사전형(`dict`)으로 생긴 `json`형태로 값을 보내준답니다.\n",
    "\n",
    "> 이런 과정을 통해 여러분은 웹사이트에 있는 내용을 보게 되는거에요!"
   ]
  },
  {
   "cell_type": "markdown",
   "metadata": {},
   "source": [
    "![banner](../image/4-6.jpg)"
   ]
  },
  {
   "cell_type": "markdown",
   "metadata": {},
   "source": [
    "## 웹크롤러란 무엇일까요?"
   ]
  },
  {
   "cell_type": "markdown",
   "metadata": {},
   "source": [
    "> 웹 크롤러(web crawler)는 조직적, 자동화된 방법으로 월드 와이드 웹을 탐색하는 컴퓨터 프로그램입니다. 검색엔진의 경우는 자료의 최신화를 위해서 사용하기도 하고 주로 정보수집을 위해 활용하고 있어요.\n",
    "\n",
    "> 정식 명칭은 'Web Scraping'이라고 하며 영어로 자료를 찾으실때는 해당 명칭을 활용하는게 좋아요."
   ]
  },
  {
   "cell_type": "markdown",
   "metadata": {},
   "source": [
    "## 네이버 부동산 크롤링 하기"
   ]
  },
  {
   "cell_type": "markdown",
   "metadata": {},
   "source": [
    "![banner_example1](../image/4-2.jpg)"
   ]
  },
  {
   "cell_type": "markdown",
   "metadata": {},
   "source": [
    "### 한페이지 크롤링"
   ]
  },
  {
   "cell_type": "code",
   "execution_count": 1,
   "metadata": {
    "collapsed": true
   },
   "outputs": [],
   "source": [
    "from urllib.request import urlopen\n",
    "from bs4 import BeautifulSoup\n",
    "from pandas import DataFrame"
   ]
  },
  {
   "cell_type": "code",
   "execution_count": 2,
   "metadata": {
    "collapsed": true
   },
   "outputs": [],
   "source": [
    "# 페이지(page) 부분을 수정하여 다름 페이지로 넘어갈 수 있어요\n",
    "url = 'https://land.naver.com/article/divisionInfo.nhn?rletTypeCd=A01&tradeTypeCd=B2\\\n",
    "&hscpTypeCd=A01%3AA03%3AA04&cortarNo=4211000000&articleOrderCode=&cpId=&minPrc=&\\\n",
    "maxPrc=&minWrrnt=&maxWrrnt=&minLease=&maxLease=&minSpc=&maxSpc=&subDist=&mviDate=&\\\n",
    "hsehCnt=&rltrId=&mnex=&siteOrderCode=&cmplYn=&page={}&location=2339#_content_list_target'.format(1)"
   ]
  },
  {
   "cell_type": "markdown",
   "metadata": {},
   "source": [
    "문자열 자료형의 format함수를 이용하면 편해요!"
   ]
  },
  {
   "cell_type": "code",
   "execution_count": 3,
   "metadata": {},
   "outputs": [
    {
     "data": {
      "text/plain": [
       "<http.client.HTTPResponse at 0x10c55c4a8>"
      ]
     },
     "execution_count": 3,
     "metadata": {},
     "output_type": "execute_result"
    }
   ],
   "source": [
    "page = urlopen(url) # 파라미터로 data에 값을 넣어 보내면 post방식으로 통신할 수 있어요\n",
    "page"
   ]
  },
  {
   "cell_type": "code",
   "execution_count": 4,
   "metadata": {
    "collapsed": true
   },
   "outputs": [],
   "source": [
    "# BeautifulSoup를 이용해서 HTTPResponse를 보기좋게 파싱(parsing)할 수 있어요\n",
    "soup = BeautifulSoup(page, 'html.parser')"
   ]
  },
  {
   "cell_type": "code",
   "execution_count": 5,
   "metadata": {
    "collapsed": true
   },
   "outputs": [],
   "source": [
    "# row 값을 가져오기 위한 tbody값 선택\n",
    "tbody = soup.select('.sale_list > tbody > tr')"
   ]
  },
  {
   "cell_type": "code",
   "execution_count": 6,
   "metadata": {
    "collapsed": true
   },
   "outputs": [],
   "source": [
    "import re\n",
    "\n",
    "# 공백 문자 제거\n",
    "pattern = re.compile(r'\\s+')"
   ]
  },
  {
   "cell_type": "markdown",
   "metadata": {},
   "source": [
    "위에는 처음보는 함수죠? re 패키지를 사용하면 정규식을 활용해 문자열을 다룰수 있어요. 하나만 더 새로운걸 배워볼까요?\n",
    "\n",
    "반복문을 활용하면서 값과 인덱스를 동시에 쓰고싶으신적이 많죠? 방법을 알려드릴께요!"
   ]
  },
  {
   "cell_type": "code",
   "execution_count": 7,
   "metadata": {},
   "outputs": [
    {
     "name": "stdout",
     "output_type": "stream",
     "text": [
      "0 :  첫번째값\n",
      "1 :  두번째값\n",
      "2 :  세번째값\n",
      "3 :  네번째값\n",
      "4 :  다섯번째값\n"
     ]
    }
   ],
   "source": [
    "리스트 = ['첫번째값', '두번째값', '세번째값', '네번째값', '다섯번째값']\n",
    "for 인덱스, 값 in enumerate(리스트):\n",
    "    print(인덱스, ': ',값)"
   ]
  },
  {
   "cell_type": "markdown",
   "metadata": {},
   "source": [
    "`enumerate`를 활용하면 리스트에 있는 값과 인덱스를 튜플(`tuple`)형태로 반환해요\n",
    "\n",
    "진짜 마직막 하나만 더 해봐요!\n",
    "\n",
    "`zip`함수는 동일한 개수로 이루어진 자료형을 묶어 주는 역할을 하는 함수에요 직접 볼까요?"
   ]
  },
  {
   "cell_type": "code",
   "execution_count": 8,
   "metadata": {},
   "outputs": [
    {
     "data": {
      "text/plain": [
       "[('첫번째값', '사과'),\n",
       " ('두번째값', '딸기'),\n",
       " ('세번째값', '포도'),\n",
       " ('네번째값', '배'),\n",
       " ('다섯번째값', '사과')]"
      ]
     },
     "execution_count": 8,
     "metadata": {},
     "output_type": "execute_result"
    }
   ],
   "source": [
    "리스트_2 = ['사과', '딸기', '포도', '배', '사과']\n",
    "합리스트 = list(zip(리스트, 리스트_2))\n",
    "합리스트"
   ]
  },
  {
   "cell_type": "code",
   "execution_count": 9,
   "metadata": {},
   "outputs": [
    {
     "name": "stdout",
     "output_type": "stream",
     "text": [
      "0 첫번째값 사과\n",
      "1 두번째값 딸기\n",
      "2 세번째값 포도\n",
      "3 네번째값 배\n",
      "4 다섯번째값 사과\n"
     ]
    }
   ],
   "source": [
    "# 위에껄 다 합치면 이런식을 사용할수도 있겠죠?\n",
    "for 인덱스, (값순서, 값) in enumerate(zip(리스트, 리스트_2)):\n",
    "    print(인덱스, 값순서, 값)"
   ]
  },
  {
   "cell_type": "markdown",
   "metadata": {},
   "source": [
    "<img src=\"../image/4-7.jpg\" alt=\"Drawing\" style=\"width: 200px;\"/>"
   ]
  },
  {
   "cell_type": "markdown",
   "metadata": {},
   "source": [
    "큼.... 너무 뜬금없이 너무 길어졌군요....\n",
    "\n",
    "자 계속 해봅시다!"
   ]
  },
  {
   "cell_type": "code",
   "execution_count": 10,
   "metadata": {
    "collapsed": true
   },
   "outputs": [],
   "source": [
    "rows = []\n",
    "for i, tr in enumerate(tbody):\n",
    "    if i%2 != 0:\n",
    "        continue\n",
    "    row = []\n",
    "    for i, td in enumerate(tr.select('td')):\n",
    "        if i == 3:\n",
    "            if td.select('img'): \n",
    "                continue\n",
    "        row.append(re.sub(pattern,'', td.text))\n",
    "    rows.append(row)"
   ]
  },
  {
   "cell_type": "code",
   "execution_count": 11,
   "metadata": {},
   "outputs": [
    {
     "data": {
      "text/html": [
       "<div>\n",
       "<style>\n",
       "    .dataframe thead tr:only-child th {\n",
       "        text-align: right;\n",
       "    }\n",
       "\n",
       "    .dataframe thead th {\n",
       "        text-align: left;\n",
       "    }\n",
       "\n",
       "    .dataframe tbody tr th {\n",
       "        vertical-align: top;\n",
       "    }\n",
       "</style>\n",
       "<table border=\"1\" class=\"dataframe\">\n",
       "  <thead>\n",
       "    <tr style=\"text-align: right;\">\n",
       "      <th></th>\n",
       "      <th>거래</th>\n",
       "      <th>종류</th>\n",
       "      <th>확인일자</th>\n",
       "      <th>매물명</th>\n",
       "      <th>면적(㎡)</th>\n",
       "      <th>층</th>\n",
       "      <th>매물가(만원)</th>\n",
       "      <th>연락처</th>\n",
       "    </tr>\n",
       "  </thead>\n",
       "  <tbody>\n",
       "    <tr>\n",
       "      <th>25</th>\n",
       "      <td>월세</td>\n",
       "      <td>아파트</td>\n",
       "      <td>18.10.30.</td>\n",
       "      <td>퇴계주공2단지네이버부동산에서보기</td>\n",
       "      <td>81A/59공급면적81.27㎡전용면적59.99㎡</td>\n",
       "      <td>17/18</td>\n",
       "      <td>2,000/45</td>\n",
       "      <td>미래로공인중개사033-263-0014</td>\n",
       "    </tr>\n",
       "    <tr>\n",
       "      <th>26</th>\n",
       "      <td>월세</td>\n",
       "      <td>아파트</td>\n",
       "      <td>18.10.29.</td>\n",
       "      <td>보배온의네이버부동산에서보기</td>\n",
       "      <td>147/126공급면적147.81㎡전용면적126.57㎡</td>\n",
       "      <td>3/13</td>\n",
       "      <td>3,000/60</td>\n",
       "      <td>e편한춘천부동산공인중개사사무소033-264-7979</td>\n",
       "    </tr>\n",
       "    <tr>\n",
       "      <th>27</th>\n",
       "      <td>월세</td>\n",
       "      <td>아파트</td>\n",
       "      <td>18.11.01.</td>\n",
       "      <td>롯데인벤스네이버부동산에서보기</td>\n",
       "      <td>114/84공급면적114.06㎡전용면적84.93㎡</td>\n",
       "      <td>3/15</td>\n",
       "      <td>2,000/6018.11.01.자호가일뿐실거래가로확인된금액이아닙니다.</td>\n",
       "      <td>우두롯데공인중개사사무소033-253-8289</td>\n",
       "    </tr>\n",
       "    <tr>\n",
       "      <th>28</th>\n",
       "      <td>월세</td>\n",
       "      <td>아파트</td>\n",
       "      <td>18.10.29.</td>\n",
       "      <td>세경1차네이버부동산에서보기</td>\n",
       "      <td>62/51공급면적62.39㎡전용면적51.62㎡</td>\n",
       "      <td>1/5</td>\n",
       "      <td>700/40</td>\n",
       "      <td>왕공인중개사무소033-910-9898</td>\n",
       "    </tr>\n",
       "    <tr>\n",
       "      <th>29</th>\n",
       "      <td>월세</td>\n",
       "      <td>아파트</td>\n",
       "      <td>18.10.29.</td>\n",
       "      <td>청구네이버부동산에서보기</td>\n",
       "      <td>79A/59공급면적79.33㎡전용면적59.96㎡</td>\n",
       "      <td>3/12</td>\n",
       "      <td>1,000/55</td>\n",
       "      <td>장학부동산공인중개사사무소033-243-4980</td>\n",
       "    </tr>\n",
       "  </tbody>\n",
       "</table>\n",
       "</div>"
      ],
      "text/plain": [
       "    거래   종류       확인일자                매물명                          면적(㎡)  \\\n",
       "25  월세  아파트  18.10.30.  퇴계주공2단지네이버부동산에서보기     81A/59공급면적81.27㎡전용면적59.99㎡   \n",
       "26  월세  아파트  18.10.29.     보배온의네이버부동산에서보기  147/126공급면적147.81㎡전용면적126.57㎡   \n",
       "27  월세  아파트  18.11.01.    롯데인벤스네이버부동산에서보기    114/84공급면적114.06㎡전용면적84.93㎡   \n",
       "28  월세  아파트  18.10.29.     세경1차네이버부동산에서보기      62/51공급면적62.39㎡전용면적51.62㎡   \n",
       "29  월세  아파트  18.10.29.       청구네이버부동산에서보기     79A/59공급면적79.33㎡전용면적59.96㎡   \n",
       "\n",
       "        층                                 매물가(만원)  \\\n",
       "25  17/18                                2,000/45   \n",
       "26   3/13                                3,000/60   \n",
       "27   3/15  2,000/6018.11.01.자호가일뿐실거래가로확인된금액이아닙니다.   \n",
       "28    1/5                                  700/40   \n",
       "29   3/12                                1,000/55   \n",
       "\n",
       "                             연락처  \n",
       "25          미래로공인중개사033-263-0014  \n",
       "26  e편한춘천부동산공인중개사사무소033-264-7979  \n",
       "27      우두롯데공인중개사사무소033-253-8289  \n",
       "28          왕공인중개사무소033-910-9898  \n",
       "29     장학부동산공인중개사사무소033-243-4980  "
      ]
     },
     "execution_count": 11,
     "metadata": {},
     "output_type": "execute_result"
    }
   ],
   "source": [
    "from pandas import DataFrame\n",
    "\n",
    "df = DataFrame.from_records(rows, columns=['거래', '종류', '확인일자', '매물명', '면적(㎡)', '층', '매물가(만원)', '연락처'])\n",
    "df.tail(5)"
   ]
  },
  {
   "cell_type": "code",
   "execution_count": 12,
   "metadata": {},
   "outputs": [
    {
     "data": {
      "text/html": [
       "<div>\n",
       "<style>\n",
       "    .dataframe thead tr:only-child th {\n",
       "        text-align: right;\n",
       "    }\n",
       "\n",
       "    .dataframe thead th {\n",
       "        text-align: left;\n",
       "    }\n",
       "\n",
       "    .dataframe tbody tr th {\n",
       "        vertical-align: top;\n",
       "    }\n",
       "</style>\n",
       "<table border=\"1\" class=\"dataframe\">\n",
       "  <thead>\n",
       "    <tr style=\"text-align: right;\">\n",
       "      <th></th>\n",
       "      <th>거래</th>\n",
       "      <th>종류</th>\n",
       "      <th>확인일자</th>\n",
       "      <th>매물명</th>\n",
       "      <th>면적(㎡)</th>\n",
       "      <th>층</th>\n",
       "      <th>매물가(만원)</th>\n",
       "      <th>연락처</th>\n",
       "    </tr>\n",
       "  </thead>\n",
       "  <tbody>\n",
       "    <tr>\n",
       "      <th>25</th>\n",
       "      <td>월세</td>\n",
       "      <td>아파트</td>\n",
       "      <td>18.10.30.</td>\n",
       "      <td>퇴계주공2단지</td>\n",
       "      <td>81A/59공급면적81.27㎡전용면적59.99㎡</td>\n",
       "      <td>17/18</td>\n",
       "      <td>2,000/45</td>\n",
       "      <td>미래로공인중개사033-263-0014</td>\n",
       "    </tr>\n",
       "    <tr>\n",
       "      <th>26</th>\n",
       "      <td>월세</td>\n",
       "      <td>아파트</td>\n",
       "      <td>18.10.29.</td>\n",
       "      <td>보배온의</td>\n",
       "      <td>147/126공급면적147.81㎡전용면적126.57㎡</td>\n",
       "      <td>3/13</td>\n",
       "      <td>3,000/60</td>\n",
       "      <td>e편한춘천부동산공인중개사사무소033-264-7979</td>\n",
       "    </tr>\n",
       "    <tr>\n",
       "      <th>27</th>\n",
       "      <td>월세</td>\n",
       "      <td>아파트</td>\n",
       "      <td>18.11.01.</td>\n",
       "      <td>롯데인벤스</td>\n",
       "      <td>114/84공급면적114.06㎡전용면적84.93㎡</td>\n",
       "      <td>3/15</td>\n",
       "      <td>2,000/6018.11.01.자호가일뿐실거래가로확인된금액이아닙니다.</td>\n",
       "      <td>우두롯데공인중개사사무소033-253-8289</td>\n",
       "    </tr>\n",
       "    <tr>\n",
       "      <th>28</th>\n",
       "      <td>월세</td>\n",
       "      <td>아파트</td>\n",
       "      <td>18.10.29.</td>\n",
       "      <td>세경1차</td>\n",
       "      <td>62/51공급면적62.39㎡전용면적51.62㎡</td>\n",
       "      <td>1/5</td>\n",
       "      <td>700/40</td>\n",
       "      <td>왕공인중개사무소033-910-9898</td>\n",
       "    </tr>\n",
       "    <tr>\n",
       "      <th>29</th>\n",
       "      <td>월세</td>\n",
       "      <td>아파트</td>\n",
       "      <td>18.10.29.</td>\n",
       "      <td>청구</td>\n",
       "      <td>79A/59공급면적79.33㎡전용면적59.96㎡</td>\n",
       "      <td>3/12</td>\n",
       "      <td>1,000/55</td>\n",
       "      <td>장학부동산공인중개사사무소033-243-4980</td>\n",
       "    </tr>\n",
       "  </tbody>\n",
       "</table>\n",
       "</div>"
      ],
      "text/plain": [
       "    거래   종류       확인일자      매물명                          면적(㎡)      층  \\\n",
       "25  월세  아파트  18.10.30.  퇴계주공2단지     81A/59공급면적81.27㎡전용면적59.99㎡  17/18   \n",
       "26  월세  아파트  18.10.29.     보배온의  147/126공급면적147.81㎡전용면적126.57㎡   3/13   \n",
       "27  월세  아파트  18.11.01.    롯데인벤스    114/84공급면적114.06㎡전용면적84.93㎡   3/15   \n",
       "28  월세  아파트  18.10.29.     세경1차      62/51공급면적62.39㎡전용면적51.62㎡    1/5   \n",
       "29  월세  아파트  18.10.29.       청구     79A/59공급면적79.33㎡전용면적59.96㎡   3/12   \n",
       "\n",
       "                                   매물가(만원)                           연락처  \n",
       "25                                2,000/45          미래로공인중개사033-263-0014  \n",
       "26                                3,000/60  e편한춘천부동산공인중개사사무소033-264-7979  \n",
       "27  2,000/6018.11.01.자호가일뿐실거래가로확인된금액이아닙니다.      우두롯데공인중개사사무소033-253-8289  \n",
       "28                                  700/40          왕공인중개사무소033-910-9898  \n",
       "29                                1,000/55     장학부동산공인중개사사무소033-243-4980  "
      ]
     },
     "execution_count": 12,
     "metadata": {},
     "output_type": "execute_result"
    }
   ],
   "source": [
    "# 매물명에서 '네이버부동산에서보기' 제거\n",
    "df['매물명'] = df['매물명'].apply(lambda x : x.replace('네이버부동산에서보기', ''))\n",
    "df.tail(5)"
   ]
  },
  {
   "cell_type": "code",
   "execution_count": 13,
   "metadata": {},
   "outputs": [
    {
     "data": {
      "text/html": [
       "<div>\n",
       "<style>\n",
       "    .dataframe thead tr:only-child th {\n",
       "        text-align: right;\n",
       "    }\n",
       "\n",
       "    .dataframe thead th {\n",
       "        text-align: left;\n",
       "    }\n",
       "\n",
       "    .dataframe tbody tr th {\n",
       "        vertical-align: top;\n",
       "    }\n",
       "</style>\n",
       "<table border=\"1\" class=\"dataframe\">\n",
       "  <thead>\n",
       "    <tr style=\"text-align: right;\">\n",
       "      <th></th>\n",
       "      <th>거래</th>\n",
       "      <th>종류</th>\n",
       "      <th>확인일자</th>\n",
       "      <th>매물명</th>\n",
       "      <th>면적(㎡)</th>\n",
       "      <th>층</th>\n",
       "      <th>매물가(만원)</th>\n",
       "      <th>연락처</th>\n",
       "    </tr>\n",
       "  </thead>\n",
       "  <tbody>\n",
       "  </tbody>\n",
       "</table>\n",
       "</div>"
      ],
      "text/plain": [
       "Empty DataFrame\n",
       "Columns: [거래, 종류, 확인일자, 매물명, 면적(㎡), 층, 매물가(만원), 연락처]\n",
       "Index: []"
      ]
     },
     "execution_count": 13,
     "metadata": {},
     "output_type": "execute_result"
    }
   ],
   "source": [
    "df[df['매물가(만원)'] == '3,000/9018.10.01.자호가일뿐실거래가로확인된금액이아닙니다.']"
   ]
  },
  {
   "cell_type": "code",
   "execution_count": 14,
   "metadata": {},
   "outputs": [
    {
     "data": {
      "text/html": [
       "<div>\n",
       "<style>\n",
       "    .dataframe thead tr:only-child th {\n",
       "        text-align: right;\n",
       "    }\n",
       "\n",
       "    .dataframe thead th {\n",
       "        text-align: left;\n",
       "    }\n",
       "\n",
       "    .dataframe tbody tr th {\n",
       "        vertical-align: top;\n",
       "    }\n",
       "</style>\n",
       "<table border=\"1\" class=\"dataframe\">\n",
       "  <thead>\n",
       "    <tr style=\"text-align: right;\">\n",
       "      <th></th>\n",
       "      <th>거래</th>\n",
       "      <th>종류</th>\n",
       "      <th>확인일자</th>\n",
       "      <th>매물명</th>\n",
       "      <th>면적(㎡)</th>\n",
       "      <th>층</th>\n",
       "      <th>매물가(만원)</th>\n",
       "      <th>연락처</th>\n",
       "    </tr>\n",
       "  </thead>\n",
       "  <tbody>\n",
       "    <tr>\n",
       "      <th>0</th>\n",
       "      <td>월세</td>\n",
       "      <td>아파트</td>\n",
       "      <td>18.11.07.</td>\n",
       "      <td>석사3지구부영</td>\n",
       "      <td>82/59공급면적82.7㎡전용면적59.76㎡</td>\n",
       "      <td>1/14</td>\n",
       "      <td>1,000/40</td>\n",
       "      <td>황금부동산공인중개사사무소033-264-5566</td>\n",
       "    </tr>\n",
       "    <tr>\n",
       "      <th>1</th>\n",
       "      <td>월세</td>\n",
       "      <td>아파트</td>\n",
       "      <td>18.11.06.</td>\n",
       "      <td>춘천두산위브</td>\n",
       "      <td>108A/84공급면적108.73㎡전용면적84.98㎡</td>\n",
       "      <td>2/15</td>\n",
       "      <td>2,000/65</td>\n",
       "      <td>두산공인중개사사무소033-241-8959</td>\n",
       "    </tr>\n",
       "    <tr>\n",
       "      <th>2</th>\n",
       "      <td>월세</td>\n",
       "      <td>아파트</td>\n",
       "      <td>18.11.06.</td>\n",
       "      <td>세경2차</td>\n",
       "      <td>60/55공급면적60.9㎡전용면적55.26㎡</td>\n",
       "      <td>1/5</td>\n",
       "      <td>1,000/28</td>\n",
       "      <td>최강부동산공인중개사사무소033-251-6778</td>\n",
       "    </tr>\n",
       "    <tr>\n",
       "      <th>3</th>\n",
       "      <td>월세</td>\n",
       "      <td>아파트</td>\n",
       "      <td>18.11.06.</td>\n",
       "      <td>현진</td>\n",
       "      <td>77/59공급면적77.98㎡전용면적59.94㎡</td>\n",
       "      <td>7/13</td>\n",
       "      <td>1,000/50</td>\n",
       "      <td>가화부동산공인중개사사무소033-253-4500</td>\n",
       "    </tr>\n",
       "    <tr>\n",
       "      <th>4</th>\n",
       "      <td>월세</td>\n",
       "      <td>아파트</td>\n",
       "      <td>18.11.06.</td>\n",
       "      <td>석사주공2단지</td>\n",
       "      <td>78/58공급면적78.98㎡전용면적58.14㎡</td>\n",
       "      <td>13/15</td>\n",
       "      <td>1,500/40</td>\n",
       "      <td>나래공인중개사사무소033-255-8947</td>\n",
       "    </tr>\n",
       "  </tbody>\n",
       "</table>\n",
       "</div>"
      ],
      "text/plain": [
       "   거래   종류       확인일자      매물명                         면적(㎡)      층   매물가(만원)  \\\n",
       "0  월세  아파트  18.11.07.  석사3지구부영      82/59공급면적82.7㎡전용면적59.76㎡   1/14  1,000/40   \n",
       "1  월세  아파트  18.11.06.   춘천두산위브  108A/84공급면적108.73㎡전용면적84.98㎡   2/15  2,000/65   \n",
       "2  월세  아파트  18.11.06.     세경2차      60/55공급면적60.9㎡전용면적55.26㎡    1/5  1,000/28   \n",
       "3  월세  아파트  18.11.06.       현진     77/59공급면적77.98㎡전용면적59.94㎡   7/13  1,000/50   \n",
       "4  월세  아파트  18.11.06.  석사주공2단지     78/58공급면적78.98㎡전용면적58.14㎡  13/15  1,500/40   \n",
       "\n",
       "                         연락처  \n",
       "0  황금부동산공인중개사사무소033-264-5566  \n",
       "1     두산공인중개사사무소033-241-8959  \n",
       "2  최강부동산공인중개사사무소033-251-6778  \n",
       "3  가화부동산공인중개사사무소033-253-4500  \n",
       "4     나래공인중개사사무소033-255-8947  "
      ]
     },
     "execution_count": 14,
     "metadata": {},
     "output_type": "execute_result"
    }
   ],
   "source": [
    "droplist = []\n",
    "for i, row in enumerate(df.iterrows()):\n",
    "    if '실거래가로확인된금액이아닙니다' in row[1]['매물가(만원)']:\n",
    "        droplist.append(i)\n",
    "\n",
    "df = df.drop(droplist, axis=0)\n",
    "df.head(5)"
   ]
  },
  {
   "cell_type": "code",
   "execution_count": 15,
   "metadata": {},
   "outputs": [
    {
     "data": {
      "text/html": [
       "<div>\n",
       "<style>\n",
       "    .dataframe thead tr:only-child th {\n",
       "        text-align: right;\n",
       "    }\n",
       "\n",
       "    .dataframe thead th {\n",
       "        text-align: left;\n",
       "    }\n",
       "\n",
       "    .dataframe tbody tr th {\n",
       "        vertical-align: top;\n",
       "    }\n",
       "</style>\n",
       "<table border=\"1\" class=\"dataframe\">\n",
       "  <thead>\n",
       "    <tr style=\"text-align: right;\">\n",
       "      <th></th>\n",
       "      <th>거래</th>\n",
       "      <th>종류</th>\n",
       "      <th>확인일자</th>\n",
       "      <th>매물명</th>\n",
       "      <th>면적(㎡)</th>\n",
       "      <th>층</th>\n",
       "      <th>매물가(만원)</th>\n",
       "      <th>연락처</th>\n",
       "      <th>매물가(보증금)</th>\n",
       "      <th>매물가(월세)</th>\n",
       "    </tr>\n",
       "  </thead>\n",
       "  <tbody>\n",
       "    <tr>\n",
       "      <th>0</th>\n",
       "      <td>월세</td>\n",
       "      <td>아파트</td>\n",
       "      <td>18.11.07.</td>\n",
       "      <td>석사3지구부영</td>\n",
       "      <td>82/59공급면적82.7㎡전용면적59.76㎡</td>\n",
       "      <td>1/14</td>\n",
       "      <td>1,000/40</td>\n",
       "      <td>황금부동산공인중개사사무소033-264-5566</td>\n",
       "      <td>1000.0</td>\n",
       "      <td>40.0</td>\n",
       "    </tr>\n",
       "    <tr>\n",
       "      <th>1</th>\n",
       "      <td>월세</td>\n",
       "      <td>아파트</td>\n",
       "      <td>18.11.06.</td>\n",
       "      <td>춘천두산위브</td>\n",
       "      <td>108A/84공급면적108.73㎡전용면적84.98㎡</td>\n",
       "      <td>2/15</td>\n",
       "      <td>2,000/65</td>\n",
       "      <td>두산공인중개사사무소033-241-8959</td>\n",
       "      <td>2000.0</td>\n",
       "      <td>65.0</td>\n",
       "    </tr>\n",
       "    <tr>\n",
       "      <th>2</th>\n",
       "      <td>월세</td>\n",
       "      <td>아파트</td>\n",
       "      <td>18.11.06.</td>\n",
       "      <td>세경2차</td>\n",
       "      <td>60/55공급면적60.9㎡전용면적55.26㎡</td>\n",
       "      <td>1/5</td>\n",
       "      <td>1,000/28</td>\n",
       "      <td>최강부동산공인중개사사무소033-251-6778</td>\n",
       "      <td>1000.0</td>\n",
       "      <td>28.0</td>\n",
       "    </tr>\n",
       "    <tr>\n",
       "      <th>3</th>\n",
       "      <td>월세</td>\n",
       "      <td>아파트</td>\n",
       "      <td>18.11.06.</td>\n",
       "      <td>현진</td>\n",
       "      <td>77/59공급면적77.98㎡전용면적59.94㎡</td>\n",
       "      <td>7/13</td>\n",
       "      <td>1,000/50</td>\n",
       "      <td>가화부동산공인중개사사무소033-253-4500</td>\n",
       "      <td>1000.0</td>\n",
       "      <td>50.0</td>\n",
       "    </tr>\n",
       "    <tr>\n",
       "      <th>4</th>\n",
       "      <td>월세</td>\n",
       "      <td>아파트</td>\n",
       "      <td>18.11.06.</td>\n",
       "      <td>석사주공2단지</td>\n",
       "      <td>78/58공급면적78.98㎡전용면적58.14㎡</td>\n",
       "      <td>13/15</td>\n",
       "      <td>1,500/40</td>\n",
       "      <td>나래공인중개사사무소033-255-8947</td>\n",
       "      <td>1500.0</td>\n",
       "      <td>40.0</td>\n",
       "    </tr>\n",
       "  </tbody>\n",
       "</table>\n",
       "</div>"
      ],
      "text/plain": [
       "   거래   종류       확인일자      매물명                         면적(㎡)      층   매물가(만원)  \\\n",
       "0  월세  아파트  18.11.07.  석사3지구부영      82/59공급면적82.7㎡전용면적59.76㎡   1/14  1,000/40   \n",
       "1  월세  아파트  18.11.06.   춘천두산위브  108A/84공급면적108.73㎡전용면적84.98㎡   2/15  2,000/65   \n",
       "2  월세  아파트  18.11.06.     세경2차      60/55공급면적60.9㎡전용면적55.26㎡    1/5  1,000/28   \n",
       "3  월세  아파트  18.11.06.       현진     77/59공급면적77.98㎡전용면적59.94㎡   7/13  1,000/50   \n",
       "4  월세  아파트  18.11.06.  석사주공2단지     78/58공급면적78.98㎡전용면적58.14㎡  13/15  1,500/40   \n",
       "\n",
       "                         연락처  매물가(보증금)  매물가(월세)  \n",
       "0  황금부동산공인중개사사무소033-264-5566    1000.0     40.0  \n",
       "1     두산공인중개사사무소033-241-8959    2000.0     65.0  \n",
       "2  최강부동산공인중개사사무소033-251-6778    1000.0     28.0  \n",
       "3  가화부동산공인중개사사무소033-253-4500    1000.0     50.0  \n",
       "4     나래공인중개사사무소033-255-8947    1500.0     40.0  "
      ]
     },
     "execution_count": 15,
     "metadata": {},
     "output_type": "execute_result"
    }
   ],
   "source": [
    "#'/'로 split후에 천단위 쉼표제거 후 정수형변환\n",
    "df['매물가(보증금)'] = df['매물가(만원)'].apply(lambda x: float(x.split('/')[0].replace(',','')))\n",
    "df['매물가(월세)'] = df['매물가(만원)'].apply(lambda x: float(x.split('/')[1].replace(',','')))\n",
    "\n",
    "df.head(5)"
   ]
  },
  {
   "cell_type": "code",
   "execution_count": 16,
   "metadata": {},
   "outputs": [
    {
     "data": {
      "text/html": [
       "<div>\n",
       "<style>\n",
       "    .dataframe thead tr:only-child th {\n",
       "        text-align: right;\n",
       "    }\n",
       "\n",
       "    .dataframe thead th {\n",
       "        text-align: left;\n",
       "    }\n",
       "\n",
       "    .dataframe tbody tr th {\n",
       "        vertical-align: top;\n",
       "    }\n",
       "</style>\n",
       "<table border=\"1\" class=\"dataframe\">\n",
       "  <thead>\n",
       "    <tr style=\"text-align: right;\">\n",
       "      <th></th>\n",
       "      <th>거래</th>\n",
       "      <th>종류</th>\n",
       "      <th>확인일자</th>\n",
       "      <th>매물명</th>\n",
       "      <th>면적(㎡)</th>\n",
       "      <th>층</th>\n",
       "      <th>연락처</th>\n",
       "      <th>매물가(보증금)</th>\n",
       "      <th>매물가(월세)</th>\n",
       "    </tr>\n",
       "  </thead>\n",
       "  <tbody>\n",
       "    <tr>\n",
       "      <th>0</th>\n",
       "      <td>월세</td>\n",
       "      <td>아파트</td>\n",
       "      <td>18.11.07.</td>\n",
       "      <td>석사3지구부영</td>\n",
       "      <td>82/59공급면적82.7㎡전용면적59.76㎡</td>\n",
       "      <td>1/14</td>\n",
       "      <td>황금부동산공인중개사사무소033-264-5566</td>\n",
       "      <td>1000.0</td>\n",
       "      <td>40.0</td>\n",
       "    </tr>\n",
       "    <tr>\n",
       "      <th>1</th>\n",
       "      <td>월세</td>\n",
       "      <td>아파트</td>\n",
       "      <td>18.11.06.</td>\n",
       "      <td>춘천두산위브</td>\n",
       "      <td>108A/84공급면적108.73㎡전용면적84.98㎡</td>\n",
       "      <td>2/15</td>\n",
       "      <td>두산공인중개사사무소033-241-8959</td>\n",
       "      <td>2000.0</td>\n",
       "      <td>65.0</td>\n",
       "    </tr>\n",
       "    <tr>\n",
       "      <th>2</th>\n",
       "      <td>월세</td>\n",
       "      <td>아파트</td>\n",
       "      <td>18.11.06.</td>\n",
       "      <td>세경2차</td>\n",
       "      <td>60/55공급면적60.9㎡전용면적55.26㎡</td>\n",
       "      <td>1/5</td>\n",
       "      <td>최강부동산공인중개사사무소033-251-6778</td>\n",
       "      <td>1000.0</td>\n",
       "      <td>28.0</td>\n",
       "    </tr>\n",
       "    <tr>\n",
       "      <th>3</th>\n",
       "      <td>월세</td>\n",
       "      <td>아파트</td>\n",
       "      <td>18.11.06.</td>\n",
       "      <td>현진</td>\n",
       "      <td>77/59공급면적77.98㎡전용면적59.94㎡</td>\n",
       "      <td>7/13</td>\n",
       "      <td>가화부동산공인중개사사무소033-253-4500</td>\n",
       "      <td>1000.0</td>\n",
       "      <td>50.0</td>\n",
       "    </tr>\n",
       "    <tr>\n",
       "      <th>4</th>\n",
       "      <td>월세</td>\n",
       "      <td>아파트</td>\n",
       "      <td>18.11.06.</td>\n",
       "      <td>석사주공2단지</td>\n",
       "      <td>78/58공급면적78.98㎡전용면적58.14㎡</td>\n",
       "      <td>13/15</td>\n",
       "      <td>나래공인중개사사무소033-255-8947</td>\n",
       "      <td>1500.0</td>\n",
       "      <td>40.0</td>\n",
       "    </tr>\n",
       "  </tbody>\n",
       "</table>\n",
       "</div>"
      ],
      "text/plain": [
       "   거래   종류       확인일자      매물명                         면적(㎡)      층  \\\n",
       "0  월세  아파트  18.11.07.  석사3지구부영      82/59공급면적82.7㎡전용면적59.76㎡   1/14   \n",
       "1  월세  아파트  18.11.06.   춘천두산위브  108A/84공급면적108.73㎡전용면적84.98㎡   2/15   \n",
       "2  월세  아파트  18.11.06.     세경2차      60/55공급면적60.9㎡전용면적55.26㎡    1/5   \n",
       "3  월세  아파트  18.11.06.       현진     77/59공급면적77.98㎡전용면적59.94㎡   7/13   \n",
       "4  월세  아파트  18.11.06.  석사주공2단지     78/58공급면적78.98㎡전용면적58.14㎡  13/15   \n",
       "\n",
       "                         연락처  매물가(보증금)  매물가(월세)  \n",
       "0  황금부동산공인중개사사무소033-264-5566    1000.0     40.0  \n",
       "1     두산공인중개사사무소033-241-8959    2000.0     65.0  \n",
       "2  최강부동산공인중개사사무소033-251-6778    1000.0     28.0  \n",
       "3  가화부동산공인중개사사무소033-253-4500    1000.0     50.0  \n",
       "4     나래공인중개사사무소033-255-8947    1500.0     40.0  "
      ]
     },
     "execution_count": 16,
     "metadata": {},
     "output_type": "execute_result"
    }
   ],
   "source": [
    "df = df.drop('매물가(만원)', 1)\n",
    "df.head(5)"
   ]
  },
  {
   "cell_type": "markdown",
   "metadata": {},
   "source": [
    "## 여러 페이지 크롤링"
   ]
  },
  {
   "cell_type": "markdown",
   "metadata": {},
   "source": [
    "아직 객체에 대해서 다루지 않았어요! 본 예제는 참고로만 확인해보세요"
   ]
  },
  {
   "cell_type": "markdown",
   "metadata": {},
   "source": [
    "### 모듈화"
   ]
  },
  {
   "cell_type": "code",
   "execution_count": 17,
   "metadata": {
    "collapsed": true
   },
   "outputs": [],
   "source": [
    "import re\n",
    "from urllib.request import urlopen\n",
    "from bs4 import BeautifulSoup\n",
    "from pandas import DataFrame\n",
    "\n",
    "class Crawler:\n",
    "    def __init__(self):\n",
    "        self.pattern = re.compile(r'\\s+')\n",
    "        self.columns = ['거래', '종류', '확인일자', '매물명', '면적(㎡)', '층', '매물가(보증금)', '매물가(월세)', '연락처']\n",
    "        self.rows = []\n",
    "    \n",
    "    def _make_rows(self, url):\n",
    "        page = urlopen(url)\n",
    "        soup = BeautifulSoup(page, 'html.parser')\n",
    "        tbody = soup.select('.sale_list > tbody > tr')\n",
    "        for i, tr in enumerate(tbody):\n",
    "            if i%2 != 0: # 예외 로우 제거\n",
    "                continue\n",
    "            # 섬네일 이미지가 포함되지 않은 row\n",
    "            if len(tr.select('td')) == 8:\n",
    "                row = []\n",
    "                for i, td in enumerate(tr.select('td')):\n",
    "                    if i == 6: # 매물가 int형으로 변경\n",
    "                        try:\n",
    "                            price = td.text.replace(',', '')\n",
    "                            for p in price.split('/'):\n",
    "                                row.append(int(p))\n",
    "                        except:\n",
    "                            row.append(None)\n",
    "                    else:\n",
    "                        row.append(re.sub(self.pattern,'', td.text))\n",
    "            # 섬네일 이미지가 포함된 row\n",
    "            else:\n",
    "                row = []\n",
    "                for i, td in enumerate(tr.select('td')):\n",
    "                    if i == 6:\n",
    "                        continue\n",
    "                    if i == 7: # 매물가 int형으로 변경\n",
    "                        try:\n",
    "                            price = td.text.replace(',', '')\n",
    "                            for p in price.split('/'):\n",
    "                                row.append(int(p))\n",
    "                        except:\n",
    "                            row.append(None)\n",
    "                    else:\n",
    "                        row.append(re.sub(self.pattern,'', td.text))\n",
    "                        \n",
    "            self.rows.append(row)\n",
    "            \n",
    "    def crawling(self, pages=2):\n",
    "        # 테이블 로우\n",
    "        for page in range(1, pages):\n",
    "            self._make_rows('https://land.naver.com/article/divisionInfo.nhn?rletTypeCd=A01&tradeTypeCd=B2&hscpTypeCd=A01%3AA03%3AA04&cortarNo=4211000000&articleOrderCode=&cpId=&minPrc=&maxPrc=&minWrrnt=&maxWrrnt=&minLease=&maxLease=&minSpc=&maxSpc=&subDist=&mviDate=&hsehCnt=&rltrId=&mnex=&siteOrderCode=&cmplYn=&page={}&location=2339#_content_list_target'.format(page))\n",
    "        df = DataFrame.from_records(self.rows, columns=self.columns)\n",
    "        return df"
   ]
  },
  {
   "cell_type": "code",
   "execution_count": 18,
   "metadata": {
    "collapsed": true
   },
   "outputs": [],
   "source": [
    "crawler = Crawler()\n",
    "dataset = crawler.crawling(10)"
   ]
  },
  {
   "cell_type": "code",
   "execution_count": 19,
   "metadata": {},
   "outputs": [
    {
     "name": "stdout",
     "output_type": "stream",
     "text": [
      "데이터 크기: 171\n"
     ]
    },
    {
     "data": {
      "text/html": [
       "<div>\n",
       "<style>\n",
       "    .dataframe thead tr:only-child th {\n",
       "        text-align: right;\n",
       "    }\n",
       "\n",
       "    .dataframe thead th {\n",
       "        text-align: left;\n",
       "    }\n",
       "\n",
       "    .dataframe tbody tr th {\n",
       "        vertical-align: top;\n",
       "    }\n",
       "</style>\n",
       "<table border=\"1\" class=\"dataframe\">\n",
       "  <thead>\n",
       "    <tr style=\"text-align: right;\">\n",
       "      <th></th>\n",
       "      <th>거래</th>\n",
       "      <th>종류</th>\n",
       "      <th>확인일자</th>\n",
       "      <th>매물명</th>\n",
       "      <th>면적(㎡)</th>\n",
       "      <th>층</th>\n",
       "      <th>매물가(보증금)</th>\n",
       "      <th>매물가(월세)</th>\n",
       "      <th>연락처</th>\n",
       "    </tr>\n",
       "  </thead>\n",
       "  <tbody>\n",
       "    <tr>\n",
       "      <th>0</th>\n",
       "      <td>월세</td>\n",
       "      <td>아파트</td>\n",
       "      <td>18.11.07.</td>\n",
       "      <td>석사3지구부영네이버부동산에서보기</td>\n",
       "      <td>82/59공급면적82.7㎡전용면적59.76㎡</td>\n",
       "      <td>1/14</td>\n",
       "      <td>1000.0</td>\n",
       "      <td>40.0</td>\n",
       "      <td>황금부동산공인중개사사무소033-264-5566</td>\n",
       "    </tr>\n",
       "    <tr>\n",
       "      <th>1</th>\n",
       "      <td>월세</td>\n",
       "      <td>아파트</td>\n",
       "      <td>18.11.06.</td>\n",
       "      <td>춘천두산위브네이버부동산에서보기</td>\n",
       "      <td>108A/84공급면적108.73㎡전용면적84.98㎡</td>\n",
       "      <td>2/15</td>\n",
       "      <td>2000.0</td>\n",
       "      <td>65.0</td>\n",
       "      <td>두산공인중개사사무소033-241-8959</td>\n",
       "    </tr>\n",
       "    <tr>\n",
       "      <th>2</th>\n",
       "      <td>월세</td>\n",
       "      <td>아파트</td>\n",
       "      <td>18.11.06.</td>\n",
       "      <td>세경2차네이버부동산에서보기</td>\n",
       "      <td>60/55공급면적60.9㎡전용면적55.26㎡</td>\n",
       "      <td>1/5</td>\n",
       "      <td>1000.0</td>\n",
       "      <td>28.0</td>\n",
       "      <td>최강부동산공인중개사사무소033-251-6778</td>\n",
       "    </tr>\n",
       "    <tr>\n",
       "      <th>3</th>\n",
       "      <td>월세</td>\n",
       "      <td>아파트</td>\n",
       "      <td>18.11.06.</td>\n",
       "      <td>현진네이버부동산에서보기</td>\n",
       "      <td>77/59공급면적77.98㎡전용면적59.94㎡</td>\n",
       "      <td>7/13</td>\n",
       "      <td>1000.0</td>\n",
       "      <td>50.0</td>\n",
       "      <td>가화부동산공인중개사사무소033-253-4500</td>\n",
       "    </tr>\n",
       "    <tr>\n",
       "      <th>4</th>\n",
       "      <td>월세</td>\n",
       "      <td>아파트</td>\n",
       "      <td>18.11.06.</td>\n",
       "      <td>석사주공2단지네이버부동산에서보기</td>\n",
       "      <td>78/58공급면적78.98㎡전용면적58.14㎡</td>\n",
       "      <td>13/15</td>\n",
       "      <td>1500.0</td>\n",
       "      <td>40.0</td>\n",
       "      <td>나래공인중개사사무소033-255-8947</td>\n",
       "    </tr>\n",
       "  </tbody>\n",
       "</table>\n",
       "</div>"
      ],
      "text/plain": [
       "   거래   종류       확인일자                매물명                         면적(㎡)      층  \\\n",
       "0  월세  아파트  18.11.07.  석사3지구부영네이버부동산에서보기      82/59공급면적82.7㎡전용면적59.76㎡   1/14   \n",
       "1  월세  아파트  18.11.06.   춘천두산위브네이버부동산에서보기  108A/84공급면적108.73㎡전용면적84.98㎡   2/15   \n",
       "2  월세  아파트  18.11.06.     세경2차네이버부동산에서보기      60/55공급면적60.9㎡전용면적55.26㎡    1/5   \n",
       "3  월세  아파트  18.11.06.       현진네이버부동산에서보기     77/59공급면적77.98㎡전용면적59.94㎡   7/13   \n",
       "4  월세  아파트  18.11.06.  석사주공2단지네이버부동산에서보기     78/58공급면적78.98㎡전용면적58.14㎡  13/15   \n",
       "\n",
       "   매물가(보증금)  매물가(월세)                        연락처  \n",
       "0    1000.0     40.0  황금부동산공인중개사사무소033-264-5566  \n",
       "1    2000.0     65.0     두산공인중개사사무소033-241-8959  \n",
       "2    1000.0     28.0  최강부동산공인중개사사무소033-251-6778  \n",
       "3    1000.0     50.0  가화부동산공인중개사사무소033-253-4500  \n",
       "4    1500.0     40.0     나래공인중개사사무소033-255-8947  "
      ]
     },
     "execution_count": 19,
     "metadata": {},
     "output_type": "execute_result"
    }
   ],
   "source": [
    "print(\"데이터 크기: {}\".format(len(dataset)))\n",
    "dataset.head(5)"
   ]
  },
  {
   "cell_type": "markdown",
   "metadata": {},
   "source": [
    "### None값 제거"
   ]
  },
  {
   "cell_type": "code",
   "execution_count": 20,
   "metadata": {},
   "outputs": [
    {
     "name": "stdout",
     "output_type": "stream",
     "text": [
      "데이터 크기: 155\n"
     ]
    }
   ],
   "source": [
    "dataset = dataset.dropna()\n",
    "print(\"데이터 크기: {}\".format(len(dataset)))"
   ]
  },
  {
   "cell_type": "code",
   "execution_count": 21,
   "metadata": {},
   "outputs": [
    {
     "data": {
      "text/html": [
       "<div>\n",
       "<style>\n",
       "    .dataframe thead tr:only-child th {\n",
       "        text-align: right;\n",
       "    }\n",
       "\n",
       "    .dataframe thead th {\n",
       "        text-align: left;\n",
       "    }\n",
       "\n",
       "    .dataframe tbody tr th {\n",
       "        vertical-align: top;\n",
       "    }\n",
       "</style>\n",
       "<table border=\"1\" class=\"dataframe\">\n",
       "  <thead>\n",
       "    <tr style=\"text-align: right;\">\n",
       "      <th></th>\n",
       "      <th>거래</th>\n",
       "      <th>종류</th>\n",
       "      <th>확인일자</th>\n",
       "      <th>매물명</th>\n",
       "      <th>면적(㎡)</th>\n",
       "      <th>층</th>\n",
       "      <th>매물가(보증금)</th>\n",
       "      <th>매물가(월세)</th>\n",
       "      <th>연락처</th>\n",
       "    </tr>\n",
       "  </thead>\n",
       "  <tbody>\n",
       "    <tr>\n",
       "      <th>0</th>\n",
       "      <td>월세</td>\n",
       "      <td>아파트</td>\n",
       "      <td>18.11.07.</td>\n",
       "      <td>석사3지구부영</td>\n",
       "      <td>82/59공급면적82.7㎡전용면적59.76㎡</td>\n",
       "      <td>1/14</td>\n",
       "      <td>1000.0</td>\n",
       "      <td>40.0</td>\n",
       "      <td>황금부동산공인중개사사무소033-264-5566</td>\n",
       "    </tr>\n",
       "    <tr>\n",
       "      <th>1</th>\n",
       "      <td>월세</td>\n",
       "      <td>아파트</td>\n",
       "      <td>18.11.06.</td>\n",
       "      <td>춘천두산위브</td>\n",
       "      <td>108A/84공급면적108.73㎡전용면적84.98㎡</td>\n",
       "      <td>2/15</td>\n",
       "      <td>2000.0</td>\n",
       "      <td>65.0</td>\n",
       "      <td>두산공인중개사사무소033-241-8959</td>\n",
       "    </tr>\n",
       "    <tr>\n",
       "      <th>2</th>\n",
       "      <td>월세</td>\n",
       "      <td>아파트</td>\n",
       "      <td>18.11.06.</td>\n",
       "      <td>세경2차</td>\n",
       "      <td>60/55공급면적60.9㎡전용면적55.26㎡</td>\n",
       "      <td>1/5</td>\n",
       "      <td>1000.0</td>\n",
       "      <td>28.0</td>\n",
       "      <td>최강부동산공인중개사사무소033-251-6778</td>\n",
       "    </tr>\n",
       "    <tr>\n",
       "      <th>3</th>\n",
       "      <td>월세</td>\n",
       "      <td>아파트</td>\n",
       "      <td>18.11.06.</td>\n",
       "      <td>현진</td>\n",
       "      <td>77/59공급면적77.98㎡전용면적59.94㎡</td>\n",
       "      <td>7/13</td>\n",
       "      <td>1000.0</td>\n",
       "      <td>50.0</td>\n",
       "      <td>가화부동산공인중개사사무소033-253-4500</td>\n",
       "    </tr>\n",
       "    <tr>\n",
       "      <th>4</th>\n",
       "      <td>월세</td>\n",
       "      <td>아파트</td>\n",
       "      <td>18.11.06.</td>\n",
       "      <td>석사주공2단지</td>\n",
       "      <td>78/58공급면적78.98㎡전용면적58.14㎡</td>\n",
       "      <td>13/15</td>\n",
       "      <td>1500.0</td>\n",
       "      <td>40.0</td>\n",
       "      <td>나래공인중개사사무소033-255-8947</td>\n",
       "    </tr>\n",
       "  </tbody>\n",
       "</table>\n",
       "</div>"
      ],
      "text/plain": [
       "   거래   종류       확인일자      매물명                         면적(㎡)      층  매물가(보증금)  \\\n",
       "0  월세  아파트  18.11.07.  석사3지구부영      82/59공급면적82.7㎡전용면적59.76㎡   1/14    1000.0   \n",
       "1  월세  아파트  18.11.06.   춘천두산위브  108A/84공급면적108.73㎡전용면적84.98㎡   2/15    2000.0   \n",
       "2  월세  아파트  18.11.06.     세경2차      60/55공급면적60.9㎡전용면적55.26㎡    1/5    1000.0   \n",
       "3  월세  아파트  18.11.06.       현진     77/59공급면적77.98㎡전용면적59.94㎡   7/13    1000.0   \n",
       "4  월세  아파트  18.11.06.  석사주공2단지     78/58공급면적78.98㎡전용면적58.14㎡  13/15    1500.0   \n",
       "\n",
       "   매물가(월세)                        연락처  \n",
       "0     40.0  황금부동산공인중개사사무소033-264-5566  \n",
       "1     65.0     두산공인중개사사무소033-241-8959  \n",
       "2     28.0  최강부동산공인중개사사무소033-251-6778  \n",
       "3     50.0  가화부동산공인중개사사무소033-253-4500  \n",
       "4     40.0     나래공인중개사사무소033-255-8947  "
      ]
     },
     "execution_count": 21,
     "metadata": {},
     "output_type": "execute_result"
    }
   ],
   "source": [
    "# 매물명의 '네이버부동산에서보기' 제거\n",
    "dataset['매물명'] = dataset['매물명'].apply(lambda x:x.replace('네이버부동산에서보기', ''))\n",
    "dataset.head(5)"
   ]
  },
  {
   "cell_type": "markdown",
   "metadata": {},
   "source": [
    "### 시각화"
   ]
  },
  {
   "cell_type": "code",
   "execution_count": 22,
   "metadata": {},
   "outputs": [
    {
     "data": {
      "image/png": "[encoded data removed]",
      "text/plain": [
       "<matplotlib.figure.Figure at 0x10e12c860>"
      ]
     },
     "metadata": {},
     "output_type": "display_data"
    }
   ],
   "source": [
    "import matplotlib.pyplot as plt\n",
    "import seaborn as sns\n",
    "\n",
    "plt.figure(figsize=(10, 5))\n",
    "fig = sns.distplot(dataset['매물가(보증금)'], rug=True, axlabel='price', norm_hist=True)\n",
    "plt.show(fig)\n",
    "plt.clf()"
   ]
  },
  {
   "cell_type": "code",
   "execution_count": 23,
   "metadata": {},
   "outputs": [
    {
     "data": {
      "text/plain": [
       "<matplotlib.figure.Figure at 0x1a0fc1aba8>"
      ]
     },
     "metadata": {},
     "output_type": "display_data"
    },
    {
     "data": {
      "image/png": "[encoded data removed]",
      "text/plain": [
       "<matplotlib.figure.Figure at 0x10e12c940>"
      ]
     },
     "metadata": {},
     "output_type": "display_data"
    }
   ],
   "source": [
    "plt.figure(figsize=(10, 5))\n",
    "fig = sns.distplot(dataset['매물가(월세)'], rug=True, axlabel='price')\n",
    "plt.show(fig)\n",
    "plt.clf()"
   ]
  }
 ],
 "metadata": {
  "kernelspec": {
   "display_name": "Python 3",
   "language": "python",
   "name": "python3"
  },
  "language_info": {
   "codemirror_mode": {
    "name": "ipython",
    "version": 3
   },
   "file_extension": ".py",
   "mimetype": "text/x-python",
   "name": "python",
   "nbconvert_exporter": "python",
   "pygments_lexer": "ipython3",
   "version": "3.6.2"
  }
 },
 "nbformat": 4,
 "nbformat_minor": 2
}
