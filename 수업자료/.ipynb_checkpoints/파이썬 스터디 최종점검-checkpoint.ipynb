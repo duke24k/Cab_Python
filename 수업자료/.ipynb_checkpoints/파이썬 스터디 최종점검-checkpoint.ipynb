{
 "cells": [
  {
   "cell_type": "markdown",
   "metadata": {},
   "source": [
    "* 아래와 같은 삼각형을 출력하세요\n",
    "\n",
    "<출력>\n",
    "<pre>\n",
    "***********\n",
    " *********\n",
    "  *******\n",
    "   *****\n",
    "    ***\n",
    "     *\n",
    "</pre>"
   ]
  },
  {
   "cell_type": "markdown",
   "metadata": {},
   "source": [
    "* 5개의 정수를 입력받고 값들의 합을 출력하세요\n",
    "\n",
    "<출력>\n",
    "```python\n",
    "정수를 입력하세요: 1\n",
    "정수를 입력하세요: 2\n",
    "정수를 입력하세요: 3\n",
    "정수를 입력하세요: 4\n",
    "정수를 입력하세요: 5\n",
    "\n",
    "print(합)\n",
    ">>> 15\n",
    "```"
   ]
  },
  {
   "cell_type": "markdown",
   "metadata": {},
   "source": [
    "* 1부터 50 사이의 소수(prime number)로 구성된 리스트를 만들고 출력하세요. 소수란 1과 자기 자신을 제외한 어떤수로도 나눠지지 않는 수를 말합니다\n",
    "\n",
    "<출력>\n",
    "```python\n",
    "print(소수리스트)\n",
    ">>> [2, 3, 5, 7, 11, 13, 17, 19, 23, 29, 31, 37, 41, 43, 47]\n",
    "```"
   ]
  },
  {
   "cell_type": "markdown",
   "metadata": {},
   "source": [
    "* 점과 점 사이의 거리를 구하는 함수를 만드세요. 입력 파라미터는 x1, y1, x2, y2 입니다.\n",
    "\n",
    "<출력>\n",
    "```python\n",
    "def euclidean_distance(x1, y1, x2, y2):\n",
    "    return 점과 점사이의 거리\n",
    "    \n",
    "euclidean_distance(1, 2, 1, 0)\n",
    ">> 2.0\n",
    "```\n"
   ]
  },
  {
   "cell_type": "markdown",
   "metadata": {},
   "source": [
    "* Student class를 만드세요. 인자로는 이름(name), 성별(sex)를 받고 인자 모두 `propery`와 `setter` 함수를 적용하세요. `name`의 `setter`함수는 새로 바뀔 값의 형식이 `str`형식인지 확인하고 `sex`의`setter`함수에서는 새로 바뀔값이 '여자' 또는 '남자'인지 체크후 아닐경우에 에러 메세지를 반환하세요"
   ]
  },
  {
   "cell_type": "markdown",
   "metadata": {},
   "source": [
    "<출력>\n",
    "```python\n",
    "class Student:\n",
    "    def __init__(self, name, sex):\n",
    "        self._name = name\n",
    "        self._sex = sex\n",
    "    ...\n",
    "    \n",
    "student1 = Student('권혁민', '남자')\n",
    "\n",
    "print(student1.name)\n",
    ">>> 권혁민\n",
    "\n",
    "st1.sex = '마법사'\n",
    ">>> ValueError: 잘못된 형식입니다\n",
    "```"
   ]
  },
  {
   "cell_type": "markdown",
   "metadata": {},
   "source": [
    "* `Student class`를 상속받아 `KNUStudent class`를 만들세요. `KNUStudent class`에는 `grade`(학점)인자를 추가하고 숫자형(정수, 실수)인지와 크기가 0에서 4.5 사이인지 체크하고 아닐경우 에러메세지를 출력하세요. 또한 `repr`함수를 오버로딩(overloading)하여 출력문도 정의하세요\n",
    "\n",
    "<출력>\n",
    "```python\n",
    "knustudent = KNUStudent('권혁민', '남자', 4.3)\n",
    "\n",
    "print(knustudent)\n",
    ">>> KNUStudent(권혁민, 남자, 4.3)\n",
    "\n",
    "knustudent.grade = 4.7\n",
    ">>> ValueError: 잘못된 형식입니다\n",
    "\n",
    "```"
   ]
  }
 ],
 "metadata": {
  "kernelspec": {
   "display_name": "Python 3",
   "language": "python",
   "name": "python3"
  },
  "language_info": {
   "codemirror_mode": {
    "name": "ipython",
    "version": 3
   },
   "file_extension": ".py",
   "mimetype": "text/x-python",
   "name": "python",
   "nbconvert_exporter": "python",
   "pygments_lexer": "ipython3",
   "version": "3.6.2"
  }
 },
 "nbformat": 4,
 "nbformat_minor": 2
}
