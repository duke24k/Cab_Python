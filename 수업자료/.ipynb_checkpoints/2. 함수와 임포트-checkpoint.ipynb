{
 "cells": [
  {
   "cell_type": "markdown",
   "metadata": {},
   "source": [
    "# 2. 함수와 임포트"
   ]
  },
  {
   "cell_type": "markdown",
   "metadata": {},
   "source": [
    "## 파이썬의 함수"
   ]
  },
  {
   "cell_type": "markdown",
   "metadata": {},
   "source": [
    "![2-9](../image/2-9.jpg)"
   ]
  },
  {
   "cell_type": "markdown",
   "metadata": {},
   "source": [
    "> 같은기능을 하는 코드를 사용할때마다 적어주면 매우 비효율적인 작업이지요. 그래서 코드를 재사용하여 비효율적인것을 피하기 위해 특정기능을 하는 모듈(module)을 만들어서 활용할 수 있습니다. 이러한 작업을 모듈화(modulation)이라고 합니다. 파이썬에서는(다른 언어도 마찬가지로) 함수(method 또는 function)이라는 기능을 제공합니다. 사용법은 간단합니다! `def`를 활용하면 되요! 형식은 아래와 같습니다\n",
    "\n",
    "```python\n",
    "def 함수이름(매개변수):\n",
    "    수행할 코드\n",
    "    return 결과값\n",
    "```\n",
    "\n",
    "> 매개변수(parameter)를 통해서 함수가 실행될때 함수 안으로 값을 전달할수 있어요. 물론 안으로 전달할 필요가 없는 함수는 애초에 칸을 비워서 정의를 하지 않으면 되겠죠? 결과값은 함수가 실행되고 나온값을 함수 밖으로 전달해줄때 사용하죠. 결과값은 1개이거나 0개여야 합니다.(고등학교 수학을 떠올려보세요) 결과값이 없는 함수를 보이드(void)함수라고 해요. 백문이불여일견! 직접 해볼까요?"
   ]
  },
  {
   "cell_type": "markdown",
   "metadata": {},
   "source": [
    "### 함수정의"
   ]
  },
  {
   "cell_type": "markdown",
   "metadata": {},
   "source": [
    "자바(java)나 C언어로 개발해보신 분들은 함수를 정의할 때 중괄호({ })를 이용해서 범위를 지정했죠? 파이썬에서는 들여쓰기를 이용해서 함수의 범위를 정해줘요. 들여쓰기는 주로 탭(tab)을 주로 쓰지만 공백 4번을 활용하는 경우도 많다는것 알고 계세요."
   ]
  },
  {
   "cell_type": "code",
   "execution_count": 1,
   "metadata": {},
   "outputs": [],
   "source": [
    "def 값더하기(첫번째값, 두번째값):\n",
    "    결과값 = 첫번째값 + 두번째값\n",
    "    return 결과값"
   ]
  },
  {
   "cell_type": "code",
   "execution_count": 2,
   "metadata": {},
   "outputs": [
    {
     "data": {
      "text/plain": [
       "3"
      ]
     },
     "execution_count": 2,
     "metadata": {},
     "output_type": "execute_result"
    }
   ],
   "source": [
    "값더하기(1, 2)"
   ]
  },
  {
   "cell_type": "code",
   "execution_count": 3,
   "metadata": {},
   "outputs": [
    {
     "data": {
      "text/plain": [
       "3"
      ]
     },
     "execution_count": 3,
     "metadata": {},
     "output_type": "execute_result"
    }
   ],
   "source": [
    "# 이런식으로 바로 변수에 저장할수도 있어요\n",
    "결과값 = 값더하기(1, 2)\n",
    "결과값"
   ]
  },
  {
   "cell_type": "code",
   "execution_count": 4,
   "metadata": {},
   "outputs": [
    {
     "data": {
      "text/plain": [
       "3"
      ]
     },
     "execution_count": 4,
     "metadata": {},
     "output_type": "execute_result"
    }
   ],
   "source": [
    "# 매개변수 값을 직접 지정해줄수도 있습니다\n",
    "값더하기(첫번째값=1, 두번째값=2)"
   ]
  },
  {
   "cell_type": "code",
   "execution_count": 5,
   "metadata": {},
   "outputs": [
    {
     "name": "stdout",
     "output_type": "stream",
     "text": [
      "안녕 파이썬\n"
     ]
    }
   ],
   "source": [
    "# 결과값이 없는 햠수\n",
    "def pprint(문자열):\n",
    "    print(문자열)\n",
    "\n",
    "pprint('안녕 파이썬')"
   ]
  },
  {
   "cell_type": "markdown",
   "metadata": {},
   "source": [
    "### 매개변수 기본값 지정하기"
   ]
  },
  {
   "cell_type": "markdown",
   "metadata": {},
   "source": [
    "함수 매개변수의 기본값 또한 설정할 수 있어요. 이렇게 하면 값을 넣지 않았을 시, 기본값으로 매개변수가 대체됩니다"
   ]
  },
  {
   "cell_type": "code",
   "execution_count": 6,
   "metadata": {},
   "outputs": [
    {
     "ename": "SyntaxError",
     "evalue": "non-default argument follows default argument (<ipython-input-6-22a7c4b1ab1d>, line 3)",
     "output_type": "error",
     "traceback": [
      "\u001b[0;36m  File \u001b[0;32m\"<ipython-input-6-22a7c4b1ab1d>\"\u001b[0;36m, line \u001b[0;32m3\u001b[0m\n\u001b[0;31m    def 값더하기2(두번째값 = 5, 첫번째값):\u001b[0m\n\u001b[0m                     ^\u001b[0m\n\u001b[0;31mSyntaxError\u001b[0m\u001b[0;31m:\u001b[0m non-default argument follows default argument\n"
     ]
    }
   ],
   "source": [
    "# 기본값 정의는 맨 뒤에 써야해요. 예를들어 def 값더하기2(두번째값 = 5, 첫번째값) 으로 하면 에러가 납니다\n",
    "# 에러가 나는 함수\n",
    "def 값더하기2(두번째값 = 5, 첫번째값):\n",
    "    결과값 = 첫번째값 + 두번째값\n",
    "    return 결과값"
   ]
  },
  {
   "cell_type": "code",
   "execution_count": 7,
   "metadata": {},
   "outputs": [],
   "source": [
    "# 잘 작동하는 함수\n",
    "def 값더하기2(첫번째값, 두번째값 = 5):\n",
    "    결과값 = 첫번째값 + 두번째값\n",
    "    return 결과값"
   ]
  },
  {
   "cell_type": "code",
   "execution_count": 8,
   "metadata": {},
   "outputs": [
    {
     "data": {
      "text/plain": [
       "5"
      ]
     },
     "execution_count": 8,
     "metadata": {},
     "output_type": "execute_result"
    }
   ],
   "source": [
    "값더하기2(3, 2)"
   ]
  },
  {
   "cell_type": "code",
   "execution_count": 9,
   "metadata": {},
   "outputs": [
    {
     "data": {
      "text/plain": [
       "8"
      ]
     },
     "execution_count": 9,
     "metadata": {},
     "output_type": "execute_result"
    }
   ],
   "source": [
    "값더하기2(3)"
   ]
  },
  {
   "cell_type": "markdown",
   "metadata": {},
   "source": [
    "### 예제"
   ]
  },
  {
   "cell_type": "markdown",
   "metadata": {},
   "source": [
    "![background](../image/2-1.jpg)"
   ]
  },
  {
   "cell_type": "markdown",
   "metadata": {},
   "source": [
    "* [기초] 타노스가 우주 전체의 반을 제거하려고 합니다. 함수 이름은 '타노스손가락튕기기', 매개변수는 인구수를 가지고 반으로 줄어든 인구수를 반환하는 함수를 정의하세요. 추가로 인구수의 기본값은 30으로 해보세요."
   ]
  },
  {
   "cell_type": "markdown",
   "metadata": {},
   "source": [
    "* [기초] 데스가 있다면 타노스는 손가락튕기기를 쓸수 없어요. 데스가 있으면 결과값을 그대로 반환하고 없으면 인구수를 반으로 줄여 반환하는 함수를 만들어보세요. 데스가 있으면 True를, 없으면 False를 매개변수로 넣으면 됩니다."
   ]
  },
  {
   "cell_type": "markdown",
   "metadata": {},
   "source": [
    "* [고급] 인구수가 100명일때 타노스가 두번 손가락을 튕기면 몇명이 될까요? 반복문을 사용해서 구현해보세요"
   ]
  },
  {
   "cell_type": "markdown",
   "metadata": {},
   "source": [
    "## import문의 활용"
   ]
  },
  {
   "cell_type": "markdown",
   "metadata": {},
   "source": [
    "> 여러분들이 모든 함수를 다 구현할 필요는 없습니다. 꼭 내장함수만 사용할 필요는 없어요! 저 높이 똑똑한분들이 미리 준비해놓은 여러 함수들이 있답니다. \n",
    "\n",
    "![2-8](../image/2-8.jpg)\n",
    "\n",
    "> 이것을 라이브러리(library) 또는 패키지(package)라고 해요. 이들을 import구문을 이용해서 불러올수 있습니다. \n",
    "\n"
   ]
  },
  {
   "cell_type": "markdown",
   "metadata": {},
   "source": [
    "### pip를 활용한 패키지 관리"
   ]
  },
  {
   "cell_type": "markdown",
   "metadata": {},
   "source": [
    "![2-5](../image/2-5.jpg)"
   ]
  },
  {
   "cell_type": "markdown",
   "metadata": {},
   "source": [
    "> 기본적으로 준비되있지 않은 패키지는 먼저 설치를 해야겠죠? 이것은 pip라는 도구를 활용하면 됩니다. pip는 파이썬으로 작성된 패키지 관리자 입니다. [Python Package Index (PyPI)](https://pypi.org/) 에서 많은 파이썬 패키지를 찾을 수 있어요. 자세한 내용은 링크의 페이지를 참고하세요.\n",
    "> 활용법은 아래와 같습니다.\n",
    "```unix\n",
    "# 기본 파이썬버전에 설치할 때\n",
    "pip install [설치할 패키지]\n",
    "```\n",
    "```unix\n",
    "# 파이썬 3 버전에 패키지를 설치할 때:\n",
    "pip3 install [설치할 패키지]\n",
    "```"
   ]
  },
  {
   "cell_type": "code",
   "execution_count": 10,
   "metadata": {
    "scrolled": true
   },
   "outputs": [],
   "source": [
    "# 설치 예시\n",
    "#!pip3 install daily-tweeter"
   ]
  },
  {
   "cell_type": "markdown",
   "metadata": {},
   "source": [
    "자, 이제 이러한 외장함수들 중 대표적인 패키지인 math와 time, random 패키지를 활용해볼께요."
   ]
  },
  {
   "cell_type": "markdown",
   "metadata": {},
   "source": [
    "#### time 패키지"
   ]
  },
  {
   "cell_type": "code",
   "execution_count": 11,
   "metadata": {},
   "outputs": [],
   "source": [
    "# time함수에는 시간과 관련된 여러 함수들을 내장하고 있습니다\n",
    "import time"
   ]
  },
  {
   "cell_type": "code",
   "execution_count": 12,
   "metadata": {},
   "outputs": [
    {
     "data": {
      "text/plain": [
       "1548922784.842447"
      ]
     },
     "execution_count": 12,
     "metadata": {},
     "output_type": "execute_result"
    }
   ],
   "source": [
    "# 1970년 1월 1일 자정(00:00) 부터 현재 시간(초)을 반환합니다\n",
    "# 1970년 1월 1일 자정(00:00) -> 세계 표준시 (UTC)\n",
    "time.time()"
   ]
  },
  {
   "cell_type": "code",
   "execution_count": 13,
   "metadata": {},
   "outputs": [],
   "source": [
    "time.sleep(5) # 5초간 딜레이 시킵니다"
   ]
  },
  {
   "cell_type": "markdown",
   "metadata": {},
   "source": [
    "### 예제"
   ]
  },
  {
   "cell_type": "markdown",
   "metadata": {},
   "source": [
    "* [기초] time 함수를 이용하여 5초를 딜레이 시킨 후 사이 시간을 측정해보세요"
   ]
  },
  {
   "cell_type": "markdown",
   "metadata": {},
   "source": [
    "#### math 패키지"
   ]
  },
  {
   "cell_type": "code",
   "execution_count": 14,
   "metadata": {},
   "outputs": [],
   "source": [
    "# math함수에는 수학과 관련된 여러 함수들을 내장하고 있습니다\n",
    "# as구문을 이용하면 import한 패키지의 이름을 지정해 줄수 있습니다. 이를 네임스페이스(name space)라고 합니다\n",
    "import math as m"
   ]
  },
  {
   "cell_type": "code",
   "execution_count": 15,
   "metadata": {},
   "outputs": [
    {
     "data": {
      "text/plain": [
       "2.0"
      ]
     },
     "execution_count": 15,
     "metadata": {},
     "output_type": "execute_result"
    }
   ],
   "source": [
    "# 제곱근 함수의 활용\n",
    "m.sqrt(4)"
   ]
  },
  {
   "cell_type": "code",
   "execution_count": 16,
   "metadata": {},
   "outputs": [
    {
     "data": {
      "text/plain": [
       "1024.0"
      ]
     },
     "execution_count": 16,
     "metadata": {},
     "output_type": "execute_result"
    }
   ],
   "source": [
    "# 제곱 함수의 활용\n",
    "m.pow(2, 10)"
   ]
  },
  {
   "cell_type": "markdown",
   "metadata": {},
   "source": [
    "### 예제"
   ]
  },
  {
   "cell_type": "markdown",
   "metadata": {},
   "source": [
    "* [기초] 삼각형의 밑변과 높이를 주면 빗변의 길이를 구하는 함수를 구하세요\n",
    "    * 빗변의 길이 공식 : $c = \\sqrt{a^2 + b^2}$"
   ]
  },
  {
   "cell_type": "markdown",
   "metadata": {},
   "source": [
    "![2-2](../image/2-3.jpg)"
   ]
  },
  {
   "cell_type": "markdown",
   "metadata": {},
   "source": [
    "* [기초] 점과 점사이의 거리를 반환하는 함수를 구현해보세요. 입력값은 x1, y1, x2, y2로 주고 math함수의 pow와 sqrt함수를 활용하면 됩니다.\n",
    "    * 점과 점사이의 거리 공식 : $\\sqrt{(x_2 - x_1)^2 + (y_2 - y_1)^2}$"
   ]
  },
  {
   "cell_type": "markdown",
   "metadata": {},
   "source": [
    "![프리저02](../image/2-2.jpg)"
   ]
  },
  {
   "cell_type": "markdown",
   "metadata": {},
   "source": [
    "#### random 패키지"
   ]
  },
  {
   "cell_type": "code",
   "execution_count": 17,
   "metadata": {},
   "outputs": [],
   "source": [
    "# random 패키지에는 랜덤에 관련한 여러가지 함수들을 제공해요\n",
    "import random"
   ]
  },
  {
   "cell_type": "code",
   "execution_count": 18,
   "metadata": {},
   "outputs": [
    {
     "data": {
      "text/plain": [
       "1"
      ]
     },
     "execution_count": 18,
     "metadata": {},
     "output_type": "execute_result"
    }
   ],
   "source": [
    "# randomint함수는 a부터 b사이의 랜덤 정수값을 반환합니다\n",
    "랜덤변수 = random.randint(a=1, b=10)\n",
    "랜덤변수"
   ]
  },
  {
   "cell_type": "code",
   "execution_count": 19,
   "metadata": {},
   "outputs": [
    {
     "data": {
      "text/plain": [
       "1"
      ]
     },
     "execution_count": 19,
     "metadata": {},
     "output_type": "execute_result"
    }
   ],
   "source": [
    "# randrange는 randomint함수와 비슷하지만 start부터 stop-1 사이의 값을 반환한다는 차이점이 있어요. \n",
    "# 또한 step을 활용할수 있는데 간단히 생각하면 시작값(start) 부터 끝값(stop)까지 차이값(step)을 가지는 값들을 생성후 하나를 뽑는겁니다.\n",
    "랜덤변수 = random.randrange(start=1, stop=5, step=2)\n",
    "랜덤변수"
   ]
  },
  {
   "cell_type": "markdown",
   "metadata": {},
   "source": [
    "랜덤패키지는 리스트를 이용하는 여러 함수들도 제공합니다. 리스트는 여러 값을 모아둔 형태의 모음을 얘기하는데 리스트에 대해선 뒤에서 자세히 설명할께요. 지금은 그냥 간단히 여러개의 값을 모아둔 형태라고 생각하고 넘어갑시다."
   ]
  },
  {
   "cell_type": "code",
   "execution_count": 20,
   "metadata": {},
   "outputs": [
    {
     "data": {
      "text/plain": [
       "[3, 2, 4, 1, 5]"
      ]
     },
     "execution_count": 20,
     "metadata": {},
     "output_type": "execute_result"
    }
   ],
   "source": [
    "# shuffle함수를 이용하면 리스트의 값을 섞어줄수 있습니다\n",
    "리스트 = [1, 2, 3, 4, 5] # 리스트의 선언(초기화, initial)\n",
    "random.shuffle(리스트)\n",
    "리스트"
   ]
  },
  {
   "cell_type": "code",
   "execution_count": 21,
   "metadata": {},
   "outputs": [
    {
     "data": {
      "text/plain": [
       "3"
      ]
     },
     "execution_count": 21,
     "metadata": {},
     "output_type": "execute_result"
    }
   ],
   "source": [
    "# choice함수를 이용하여 리스트에서 값을 뽑을수도 있어요\n",
    "리스트 = [1, 2, 3, 4, 5]\n",
    "random.choice(리스트)"
   ]
  },
  {
   "cell_type": "code",
   "execution_count": 22,
   "metadata": {},
   "outputs": [
    {
     "data": {
      "text/plain": [
       "[5, 4]"
      ]
     },
     "execution_count": 22,
     "metadata": {},
     "output_type": "execute_result"
    }
   ],
   "source": [
    "# sample함수를 이용하면 리스트에서 지정한 만큼의 변수를 뽑아낼수 있어요. 이를 샘플링이라고 합니다.\n",
    "리스트 = [1, 2, 3, 4, 5]\n",
    "random.sample(리스트, 2)"
   ]
  },
  {
   "cell_type": "markdown",
   "metadata": {},
   "source": [
    "### 예제"
   ]
  },
  {
   "cell_type": "markdown",
   "metadata": {},
   "source": [
    "* [기초] 간단한 O, X 문제를 만들어 볼까요? random 패키지를 활용해서 정답을 0또는 1로 정하고 사용자가 입력한 값이 맞는지 검사해서 맞으면 \"정답입니다\"를, 틀리면 \"정답이 아닙니다\"를 출력하는 코드를 작성해보세요. 참고로 input함수는 입력값을 모두 문자열(str)로 인식합니다. 정수(int)로 활용 하려면 형변환(casting)하여 활용하세요.\n",
    "\n",
    "```python\n",
    "입력값 = int(input(\"값을 입력하세요: \"))\n",
    "```\n",
    "\n",
    "* <출력예시>\n",
    "<pre>\n",
    "정답을 입력하세요: 0\n",
    "정답이 아닙니다\n",
    "</pre>"
   ]
  },
  {
   "cell_type": "markdown",
   "metadata": {},
   "source": [
    "* [고급] 랜덤 함수를 이용해서 업앤다운(Up and down) 게임을 만들어보세요. 랜덤함수를 1부터 50사이의 이용해서 정답을 정해놓고 사용자가 입력한 답이 정답보다 작으면 \"UP\"을 출력하고 사용자가 입력한 답이 정답보다 높으면 \"DOWN\"을 출력하세요. 사용자가 정답을 맞추면 \"정답입니다\"를 출력한 후 게임을 종료하고 20회 반복후에도 정답을 맞추지 못하면 \"패배하였습니다\"를 출력하세요.\n",
    "\n",
    "\n",
    "* <출력예시>\n",
    "<pre>\n",
    "정답을 입력하세요: 10\n",
    "DOWN\n",
    "정답을 입력하세요: 5\n",
    "DOWN\n",
    "정답을 입력하세요: 2\n",
    "UP\n",
    "정답을 입력하세요: 3\n",
    "UP\n",
    "정답을 입력하세요: 4\n",
    "정답입니다\n",
    "</pre>"
   ]
  },
  {
   "cell_type": "markdown",
   "metadata": {},
   "source": [
    "* [고급] 위의 문제에서 정답을 맞출때까지 걸린 시간을 측정하는 코드를 추가해서 사용자가 정답을 맞추면 맞출때까지 걸린 시간을 출력하세요.\n",
    "\n",
    "* <출력예시>\n",
    "<pre>\n",
    "정답을 입력하세요: 10\n",
    "UP\n",
    "정답을 입력하세요: 20\n",
    "UP\n",
    "정답을 입력하세요: 40\n",
    "UP\n",
    "정답을 입력하세요: 45\n",
    "정답입니다\n",
    "걸린시간:  10.273590326309204 초\n",
    "</pre>"
   ]
  }
 ],
 "metadata": {
  "kernelspec": {
   "display_name": "Python 3",
   "language": "python",
   "name": "python3"
  },
  "language_info": {
   "codemirror_mode": {
    "name": "ipython",
    "version": 3
   },
   "file_extension": ".py",
   "mimetype": "text/x-python",
   "name": "python",
   "nbconvert_exporter": "python",
   "pygments_lexer": "ipython3",
   "version": "3.6.0"
  }
 },
 "nbformat": 4,
 "nbformat_minor": 2
}
