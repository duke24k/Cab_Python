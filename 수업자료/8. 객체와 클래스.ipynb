{
 "cells": [
  {
   "cell_type": "markdown",
   "metadata": {},
   "source": [
    "# 8. 객체와 클래스"
   ]
  },
  {
   "cell_type": "markdown",
   "metadata": {},
   "source": [
    "여러분은 이제 건축갑니다. 호텔를 짓는 것이 여러분의 과제입니다. 호텔의 뼈대는 완성되었고 안에 객실을 넣여줘야 합니다. 호텔 안에는 여러 객실이 들어가는데 모두 같은 구조로 만들어주려고 합니다. 여러분이 설계도를 만들면 여러개의 객실을 지어서 호텔어 넣어줄 수 있습니다.\n",
    "\n",
    "여기서 설계도가 바로 클래스고 이 설계도를 통해 만들어진 각 객실들을 객체라고 합니다."
   ]
  },
  {
   "cell_type": "markdown",
   "metadata": {},
   "source": [
    "![8-2](../image/8-2.jpg)"
   ]
  },
  {
   "cell_type": "markdown",
   "metadata": {},
   "source": [
    "위처럼 필요한 객실타입을 정의해주고 타입별로 같은 객실들을 여러개 만들어 호텔 안에 넣어주기만 하면 되죠. 여러분이 할 일은 A1Type, A2Type, B1Type등의 클래스를 설계하고 이를 이용해서 여러 객실들을 만들어 주면 되는겁니다.\n",
    "```python\n",
    "1호실 = A1Type()\n",
    "2호실 = A1Type()\n",
    "\n",
    "3호실 = A2Type()\n",
    "4호실 = A2Type()\n",
    "5호실 = A2Type()\n",
    "\n",
    "6호실 = B1Type()\n",
    ".\n",
    ".\n",
    ".\n",
    "```\n",
    "구체적인 내용은 아래 좌표클래스를 통해 살펴보겠습니다."
   ]
  },
  {
   "cell_type": "markdown",
   "metadata": {},
   "source": [
    "## 좌표 클래스(Coordinate class) 만들기"
   ]
  },
  {
   "cell_type": "code",
   "execution_count": 1,
   "metadata": {},
   "outputs": [],
   "source": [
    "class Coordinate:\n",
    "    def __init__(self, x, y, z):\n",
    "        self.__x = x\n",
    "        self.__y = y\n",
    "        self.__z = z\n",
    "        \n",
    "    @property\n",
    "    def x(self):\n",
    "        return self.__x\n",
    "    @x.setter\n",
    "    def x(self, new_x):\n",
    "        if type(new_x)!=float and type(new_x)!=int:\n",
    "            raise ValueError(\"'{}' object is not available\".format(type(new_x).__name__))\n",
    "        self.__x = new_x\n",
    "        \n",
    "    @property\n",
    "    def y(self):\n",
    "        return self.__y\n",
    "    @y.setter\n",
    "    def y(self, new_y):\n",
    "        if type(new_y)!=float and type(new_x)!=int:\n",
    "            raise ValueError(\"'{}' object is not available\".format(type(new_y).__name__))\n",
    "        self.__y = new_y\n",
    "        \n",
    "    @property\n",
    "    def z(self):\n",
    "        return self.__z\n",
    "    @z.setter\n",
    "    def z(self, new_z):\n",
    "        if type(new_z)!=float and type(new_x)!=int:\n",
    "            raise ValueError(\"'{}' object is not available\".format(type(new_z).__name__))\n",
    "        self.__z = new_z\n",
    "        \n",
    "    def __add__(self, other):\n",
    "        return Coordinate(self.x+other.x, self.y+other.y, self.z+other.z)\n",
    "    def __sub__(self, other):\n",
    "        return Coordinate(self.x-other.x, self.y-other.y, self.z-other.z)\n",
    "    def __mul__(self, other):\n",
    "        return self.x*other.x + self.y*other.y + self.z*other.z\n",
    "    \n",
    "    def __repr__(self):\n",
    "        return \"Coordinate({}, {}, {})\".format(self.x, self.y, self.z)\n",
    "    \n",
    "    def distance(self, other):\n",
    "        '''\n",
    "        Returns the distance between two points\n",
    "        \n",
    "        Parameters\n",
    "        ----------\n",
    "        other : Coordinate\n",
    "            Coordinate class which want to calculate distance\n",
    "        \n",
    "        Returns\n",
    "        ----------\n",
    "        distance : int or float\n",
    "        \n",
    "        Examples\n",
    "        ----------\n",
    "        >>> coordinate_1 = Coordinate(4.0, 2, 3)\n",
    "        >>> coordinate_2 = Coordinate(2, 5, 7)\n",
    "        >>> coordinate_1.distance(coordinate_2)\n",
    "        29.0\n",
    "        '''\n",
    "        return (self.x - other.x)**2 + (self.y - other.y)**2 + (self.z - other.z)**2"
   ]
  },
  {
   "cell_type": "markdown",
   "metadata": {},
   "source": [
    "클래스는 이런식으로 정의 할 수 있어요. `class` 뒤에 정의할 클래스의 이름을 넣어주시면 되요! 일반적으로 클래스의 이름은 대문자로 시작합니다!\n",
    "```python\n",
    "class Coordinate:\n",
    "```\n"
   ]
  },
  {
   "cell_type": "markdown",
   "metadata": {},
   "source": [
    "클래스의 초기값 설정입니다. 이를 생성자(constructor)라고 해요. 이렇게 하면 처음에 넣어줘야 할 인자값을 받아올 수 있어요\n",
    "```python\n",
    "def __init__(self, x, y, z):\n",
    "    self.__x = x\n",
    "    self.__y = y\n",
    "    self.__z = z\n",
    "```\n",
    "함수 내부에서만 사용할 변수는 앞에 `_`(언더스코어, under score)를 붙이고 외부에서 사용할 수 없게 만드려면 언더스코어를 두번 붙인 `__`(더블 언더스코어, double under score)를 앞에 붙여서 써요. 더블 언더스코어는 줄여서 '던더스코어'라고도 합니다. 저희는 x, y, z 값을 외부에서 바꿀수 없게 할꺼기 때문에 변수앞에 던더스코어를 추가할께요"
   ]
  },
  {
   "cell_type": "code",
   "execution_count": 2,
   "metadata": {
    "collapsed": true
   },
   "outputs": [],
   "source": [
    "# 객체 생성\n",
    "coordinate_1 = Coordinate(1, 2, 3)"
   ]
  },
  {
   "cell_type": "markdown",
   "metadata": {},
   "source": [
    "### 함수 재정의 (오버라이드, override)"
   ]
  },
  {
   "cell_type": "markdown",
   "metadata": {},
   "source": [
    "첫 강의시간에 썻던 연산자 기억나시나요? 복잡하게 할 필요 없이 이런 연산자를 우리가 다시 정의해서 사용할 수 있어요. 예를 들어 더하기 연산자(+)를 재정의해서 사용해 볼까요? 더하기 연산자는 `__add__`함수를 재정의하면 사용할 수 있어요.\n",
    "\n",
    "좌표에서 더하기는 x, y, z를 차례로 더해서 나와야하죠? 예를들어 `(1, 2, 3)`과 `(1, 1, 1)`을 더하면 `(2, 3, 4)`가 나오는것 처럼 말이죠. \n",
    "```python\n",
    "def __add__(self, other):\n",
    "    return Coordinate(self.x+other.x, self.y+other.y, self.z+other.z)\n",
    "```"
   ]
  },
  {
   "cell_type": "code",
   "execution_count": 3,
   "metadata": {},
   "outputs": [],
   "source": [
    "# 객체 선언\n",
    "coordinate_1 = Coordinate(1, 2, 3)\n",
    "coordinate_2 = Coordinate(1, 1, 1)"
   ]
  },
  {
   "cell_type": "code",
   "execution_count": 4,
   "metadata": {},
   "outputs": [
    {
     "data": {
      "text/plain": [
       "Coordinate(2, 3, 4)"
      ]
     },
     "execution_count": 4,
     "metadata": {},
     "output_type": "execute_result"
    }
   ],
   "source": [
    "# 더하기\n",
    "coordinate_1 + coordinate_2"
   ]
  },
  {
   "cell_type": "markdown",
   "metadata": {},
   "source": [
    "같은 방식으로 빼기, 곱하기 연산도 정의가 가능해요. 이 클래스에서 곱하기 연산자는 내적으로 구현했어요\n",
    "```python\n",
    "def __sub__(self, other):\n",
    "        return Coordinate(self.x-other.x, self.y-other.y, self.z-other.z)\n",
    "def __mul__(self, other):\n",
    "    return self.x*other.x + self.y*other.y + self.z*other.z\n",
    "```"
   ]
  },
  {
   "cell_type": "code",
   "execution_count": 5,
   "metadata": {},
   "outputs": [
    {
     "data": {
      "text/plain": [
       "Coordinate(0, 1, 2)"
      ]
     },
     "execution_count": 5,
     "metadata": {},
     "output_type": "execute_result"
    }
   ],
   "source": [
    "# 빼기\n",
    "coordinate_1 - coordinate_2"
   ]
  },
  {
   "cell_type": "code",
   "execution_count": 6,
   "metadata": {},
   "outputs": [
    {
     "data": {
      "text/plain": [
       "6"
      ]
     },
     "execution_count": 6,
     "metadata": {},
     "output_type": "execute_result"
    }
   ],
   "source": [
    "# 곱하기(내적)\n",
    "coordinate_1 * coordinate_2"
   ]
  },
  {
   "cell_type": "markdown",
   "metadata": {},
   "source": [
    "변수를 출력했을때 변수에 관한 정보를 출력하면 좋겠죠? `__repr__` 함수를 재정의하면 이런 기능을 여러분의 입맛에 맛게 바꿀수 있습니다. Coordinate 클래스의 출력은 `Coordinate(x좌표, y좌표, z좌표)` 형식으로 정의했습니다."
   ]
  },
  {
   "cell_type": "markdown",
   "metadata": {},
   "source": [
    "```python\n",
    "def __repr__(self):\n",
    "    return \"Coordinate({}, {}, {})\".format(self.x, self.y, self.z)\n",
    "```"
   ]
  },
  {
   "cell_type": "code",
   "execution_count": 7,
   "metadata": {},
   "outputs": [
    {
     "data": {
      "text/plain": [
       "Coordinate(1, 2, 4)"
      ]
     },
     "execution_count": 7,
     "metadata": {},
     "output_type": "execute_result"
    }
   ],
   "source": [
    "coordinate_1 = Coordinate(1, 2, 4)\n",
    "# 클래스 출력\n",
    "coordinate_1"
   ]
  },
  {
   "cell_type": "markdown",
   "metadata": {},
   "source": [
    "이 뿐만 아니라 다른 연산자들도 재정의가 가능합니다. 나머진 직접 찾아보세요!"
   ]
  },
  {
   "cell_type": "markdown",
   "metadata": {},
   "source": [
    "### 내부변수 변경"
   ]
  },
  {
   "cell_type": "markdown",
   "metadata": {},
   "source": [
    "외부에서 값을 변경할 필요가 있을때는 어떻할까요? 이를 위해서 필요한 함수가 `getter`, `setter`함수에요. 어떻게 활용하는지는 직접 코드를 보면서 확인해볼께요.\n",
    "```python\n",
    "@property\n",
    "def x(self):\n",
    "    return self.__x\n",
    "@x.setter\n",
    "def x(self, new_x):\n",
    "    if type(new_x)!=float and type(new_x)!=int:\n",
    "        raise ValueError(\"'{}' object is not available\".format(type(new_x).__name__))\n",
    "    self.__x = new_x\n",
    "```\n",
    "외부에서 값을 읽도록 하려면 `getter`함수를, 값을 변경하도록 하려면 `setter`함수를 정의해야 해요. 함수 위에 `@property`를 넣으면 `getter`함수를 정의할 수 있어요. 일반적으로 `getter`함수 이름은 변수이름과 똑같이 만듭니다. `setter`함수는 `@property`에서 정의한 변수명.setter 형식으로 정의해요. 이렇게하면 값을 읽고 수정하는것이 가능합니다."
   ]
  },
  {
   "cell_type": "code",
   "execution_count": 8,
   "metadata": {},
   "outputs": [],
   "source": [
    "coordinate_1.x = 3"
   ]
  },
  {
   "cell_type": "code",
   "execution_count": 9,
   "metadata": {},
   "outputs": [],
   "source": [
    "coordinate_1.y = 4.0"
   ]
  },
  {
   "cell_type": "code",
   "execution_count": 10,
   "metadata": {},
   "outputs": [
    {
     "data": {
      "text/plain": [
       "Coordinate(3, 4.0, 4)"
      ]
     },
     "execution_count": 10,
     "metadata": {},
     "output_type": "execute_result"
    }
   ],
   "source": [
    "coordinate_1"
   ]
  },
  {
   "cell_type": "markdown",
   "metadata": {},
   "source": [
    "물론 애초에 던더바를 안쓰고 그냥 외부에서 접근할 수 있게 만들수도 있어요. 그러나 중요한 변수를 마음대로 바깥에서 접근하거나 수정한다면 예기치 못한 문제를 만날수 있어요. 예를 들어 좌표에서 값을 문자열 형태로 받는다면 우리가 정의한 함수가 전부 오류가 나거나 의도치 않은 값들을 반환하겠죠? 따라서 위에 예시는 setter함수에 타입을 체크해서 값의 자료형이 숫자(`float`, `int`) 타입이 아니면 에러메세지를 발생하도록 해놨어요."
   ]
  },
  {
   "cell_type": "code",
   "execution_count": 11,
   "metadata": {
    "scrolled": true
   },
   "outputs": [
    {
     "ename": "ValueError",
     "evalue": "'str' object is not available",
     "output_type": "error",
     "traceback": [
      "\u001b[0;31m---------------------------------------------------------------------------\u001b[0m",
      "\u001b[0;31mValueError\u001b[0m                                Traceback (most recent call last)",
      "\u001b[0;32m<ipython-input-11-0a862541deb2>\u001b[0m in \u001b[0;36m<module>\u001b[0;34m()\u001b[0m\n\u001b[0;32m----> 1\u001b[0;31m \u001b[0mcoordinate_1\u001b[0m\u001b[0;34m.\u001b[0m\u001b[0mx\u001b[0m \u001b[0;34m=\u001b[0m \u001b[0;34m'하나'\u001b[0m\u001b[0;34m\u001b[0m\u001b[0m\n\u001b[0m",
      "\u001b[0;32m<ipython-input-1-d9a2dd3a0bec>\u001b[0m in \u001b[0;36mx\u001b[0;34m(self, new_x)\u001b[0m\n\u001b[1;32m     11\u001b[0m     \u001b[0;32mdef\u001b[0m \u001b[0mx\u001b[0m\u001b[0;34m(\u001b[0m\u001b[0mself\u001b[0m\u001b[0;34m,\u001b[0m \u001b[0mnew_x\u001b[0m\u001b[0;34m)\u001b[0m\u001b[0;34m:\u001b[0m\u001b[0;34m\u001b[0m\u001b[0m\n\u001b[1;32m     12\u001b[0m         \u001b[0;32mif\u001b[0m \u001b[0mtype\u001b[0m\u001b[0;34m(\u001b[0m\u001b[0mnew_x\u001b[0m\u001b[0;34m)\u001b[0m\u001b[0;34m!=\u001b[0m\u001b[0mfloat\u001b[0m \u001b[0;32mand\u001b[0m \u001b[0mtype\u001b[0m\u001b[0;34m(\u001b[0m\u001b[0mnew_x\u001b[0m\u001b[0;34m)\u001b[0m\u001b[0;34m!=\u001b[0m\u001b[0mint\u001b[0m\u001b[0;34m:\u001b[0m\u001b[0;34m\u001b[0m\u001b[0m\n\u001b[0;32m---> 13\u001b[0;31m             \u001b[0;32mraise\u001b[0m \u001b[0mValueError\u001b[0m\u001b[0;34m(\u001b[0m\u001b[0;34m\"'{}' object is not available\"\u001b[0m\u001b[0;34m.\u001b[0m\u001b[0mformat\u001b[0m\u001b[0;34m(\u001b[0m\u001b[0mtype\u001b[0m\u001b[0;34m(\u001b[0m\u001b[0mnew_x\u001b[0m\u001b[0;34m)\u001b[0m\u001b[0;34m.\u001b[0m\u001b[0m__name__\u001b[0m\u001b[0;34m)\u001b[0m\u001b[0;34m)\u001b[0m\u001b[0;34m\u001b[0m\u001b[0m\n\u001b[0m\u001b[1;32m     14\u001b[0m         \u001b[0mself\u001b[0m\u001b[0;34m.\u001b[0m\u001b[0m__x\u001b[0m \u001b[0;34m=\u001b[0m \u001b[0mnew_x\u001b[0m\u001b[0;34m\u001b[0m\u001b[0m\n\u001b[1;32m     15\u001b[0m \u001b[0;34m\u001b[0m\u001b[0m\n",
      "\u001b[0;31mValueError\u001b[0m: 'str' object is not available"
     ]
    }
   ],
   "source": [
    "coordinate_1.x = '하나'"
   ]
  },
  {
   "cell_type": "markdown",
   "metadata": {},
   "source": [
    "* `raise`는 에러를 발생시키는 함수에요. 여기서는 이정도만 이해하고 이 후 '예외처리'편 강의에서 자세하게 다루도록 할께요"
   ]
  },
  {
   "cell_type": "markdown",
   "metadata": {},
   "source": [
    "클래스 안에 일반적인 함수또한 정의할 수 있어요. 이 전에 사용해본 것을 예시로 들어볼까요?"
   ]
  },
  {
   "cell_type": "code",
   "execution_count": 12,
   "metadata": {},
   "outputs": [
    {
     "data": {
      "text/plain": [
       "[1]"
      ]
     },
     "execution_count": 12,
     "metadata": {},
     "output_type": "execute_result"
    }
   ],
   "source": [
    "리스트 = []\n",
    "리스트.append(1)\n",
    "리스트"
   ]
  },
  {
   "cell_type": "markdown",
   "metadata": {},
   "source": [
    "리스트 객체를 선언하고 `.메소드` 형식으로 객체 안의 함수를 불러왔던것 기억 나시나요? 이것과 똑같습니다.\n",
    "\n",
    "선언하는것은 이제까지와 같습니다. 클래스 안에 `def`로 정의하시면 되요. 이때 파라미터(parameter)로 `self`를 넣어한다는것 잊지마세요! `self`에 대한 내용은 어려우니 추후에 다시 설명드리도록 하고 **지금은 그냥 외우세요~!**"
   ]
  },
  {
   "cell_type": "markdown",
   "metadata": {},
   "source": [
    "<img src=\"../image/8-1.jpg\" width=600px></img>"
   ]
  },
  {
   "cell_type": "markdown",
   "metadata": {},
   "source": [
    "```python\n",
    "def distance(self, other):\n",
    "    return (self.x - other.x)**2 + (self.y - other.y)**2 + (self.z - other.z)**2\n",
    "```"
   ]
  },
  {
   "cell_type": "code",
   "execution_count": 13,
   "metadata": {},
   "outputs": [
    {
     "name": "stdout",
     "output_type": "stream",
     "text": [
      "Coordinate(1, 2, 3)\n",
      "Coordinate(2, 5, 7)\n"
     ]
    }
   ],
   "source": [
    "# 객체 생성\n",
    "coordinate_1 = Coordinate(1, 2, 3)\n",
    "coordinate_2 = Coordinate(2, 5, 7)\n",
    "print(coordinate_1)\n",
    "print(coordinate_2)"
   ]
  },
  {
   "cell_type": "code",
   "execution_count": 14,
   "metadata": {},
   "outputs": [
    {
     "data": {
      "text/plain": [
       "26"
      ]
     },
     "execution_count": 14,
     "metadata": {},
     "output_type": "execute_result"
    }
   ],
   "source": [
    "# 두 점사이의 거리를 구하는 함수\n",
    "coordinate_1.distance(coordinate_2)"
   ]
  },
  {
   "cell_type": "markdown",
   "metadata": {},
   "source": [
    "---"
   ]
  },
  {
   "cell_type": "markdown",
   "metadata": {},
   "source": [
    "[예제] 객체를 실제로 구현해보세요"
   ]
  },
  {
   "cell_type": "code",
   "execution_count": null,
   "metadata": {
    "collapsed": true
   },
   "outputs": [],
   "source": []
  }
 ],
 "metadata": {
  "kernelspec": {
   "display_name": "Python 3",
   "language": "python",
   "name": "python3"
  },
  "language_info": {
   "codemirror_mode": {
    "name": "ipython",
    "version": 3
   },
   "file_extension": ".py",
   "mimetype": "text/x-python",
   "name": "python",
   "nbconvert_exporter": "python",
   "pygments_lexer": "ipython3",
   "version": "3.6.2"
  }
 },
 "nbformat": 4,
 "nbformat_minor": 2
}
