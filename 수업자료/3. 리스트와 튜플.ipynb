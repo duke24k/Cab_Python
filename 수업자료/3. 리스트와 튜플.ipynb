{
 "cells": [
  {
   "cell_type": "markdown",
   "metadata": {},
   "source": [
    "# 3. 리스트(list)와 튜플(tuple)"
   ]
  },
  {
   "cell_type": "markdown",
   "metadata": {},
   "source": [
    "## 리스트란 무엇일까요?"
   ]
  },
  {
   "cell_type": "markdown",
   "metadata": {},
   "source": [
    "![2-4](../image/2-6.jpg)"
   ]
  },
  {
   "cell_type": "markdown",
   "metadata": {},
   "source": [
    "> **[ 리스트의 사전적 정의 ]**<br>\n",
    "다수의 품명(品名)이나 인명(人名) 등을 기억하거나 점검하기 쉽도록 특별한 순서로 적어 놓은 것으로 순화어는 목록, 명단\n",
    "\n",
    "> 사전적언어 표현이라 말이 어렵습니다. 쉽게 설명을 하면 여러개의 변수를 하나로 묶어주는것입니다. 마치 열차에 화물칸이 연결되고 그 안에 물건을 원하는 순서에 정리하는것과 같습니다. 열차가 바로 물건이라는 변수들을 묶어주는 리스트라 생각하시면 됩니다."
   ]
  },
  {
   "cell_type": "markdown",
   "metadata": {},
   "source": [
    "프로그래밍을 통해 리스트를 알아볼까요? 열차 변수를 만들어 보겠습니다."
   ]
  },
  {
   "cell_type": "code",
   "execution_count": 1,
   "metadata": {},
   "outputs": [
    {
     "name": "stdout",
     "output_type": "stream",
     "text": [
      "['첫번째칸', '두번째칸', '세번째칸', '네번째칸', '다섯번째칸']\n"
     ]
    }
   ],
   "source": [
    "서랍장 = ['첫번째칸', '두번째칸', '세번째칸', '네번째칸', '다섯번째칸']\n",
    "print(서랍장)"
   ]
  },
  {
   "cell_type": "markdown",
   "metadata": {},
   "source": [
    "열차라는 리스트가 만들어 졌습니다.<br>\n",
    "리스트를 만들 때는 위에서 만들었던것 처럼 대괄호([ ])로 묶어주고 각 요소값들은 쉼표(,)로 구분해 작성 해줍니다.<br>\n",
    "이제 리스트의 여러가지 모습들을 알아보겠습니다."
   ]
  },
  {
   "cell_type": "code",
   "execution_count": 2,
   "metadata": {},
   "outputs": [
    {
     "name": "stdout",
     "output_type": "stream",
     "text": [
      "1. []\n",
      "2. [20, 1, 2, 3, 6, 5, 11, 15]\n",
      "3. ['안녕', '나는', '리스트야', '잘부탁해']\n",
      "4. ['안녕', 3, '리스트', 23]\n",
      "5. [1, 3, 5, ['안녕', '나는', '리스트야']]\n"
     ]
    }
   ],
   "source": [
    "빈리스트  = []\n",
    "숫자리스트 = [20, 1, 2, 3, 6, 5, 11, 15]\n",
    "문자열리스트 = ['안녕', '나는', '리스트야', '잘부탁해']\n",
    "혼합리스트 = ['안녕', 3, '리스트',23]\n",
    "이중리스트 = [1, 3, 5 , ['안녕', '나는', '리스트야',]]\n",
    "\n",
    "print ('1.', 빈리스트)\n",
    "print ('2.', 숫자리스트)\n",
    "print ('3.', 문자열리스트)\n",
    "print ('4.', 혼합리스트)\n",
    "print ('5.', 이중리스트)"
   ]
  },
  {
   "cell_type": "markdown",
   "metadata": {},
   "source": [
    "순서대로 살펴보겠습니다.\n",
    "\n",
    "1. 빈리스트 는 어떤 요소 값도 가지지 않는 리스트.\n",
    "2. 숫자리스트는 숫자형만을 가지는 리스트.\n",
    "3. 문자열리스트는 문자형만을 가지는 리스트.\n",
    "4. 혼합리스트 은 숫자형과 문자형을 같이 가지는 리스트를 만들었습니다. 여기서 보여주는것 처럼 리스트안에 요소값들은 자료형값의 구분을 하지않고 함께 쓸수있다는것을 보여줍니다.\n",
    "5. 리스트 안에 리스트도 요소값으로 넣어줄수 있습니다! 이것을 이중리스트라고 부릅니다.\n",
    "\n",
    "파이썬에서는 리스트 안에 요소값들은 자료형을 따지지 않기 때문에 자료형을 통일할 필요 없이 섞어서 쓸수 있습니다."
   ]
  },
  {
   "cell_type": "markdown",
   "metadata": {},
   "source": [
    "## 인덱싱과 슬라이싱"
   ]
  },
  {
   "cell_type": "markdown",
   "metadata": {},
   "source": [
    "> 리스트도 문자열에서 다루던것처럼 슬라이스와 인덱싱을 사용 할수 있습니다. 이것은 저번 강의에서 배운것처럼 **문자열**(String)은 일종의 **문자**(chr)로 이루어진 리스트기 때문이죠"
   ]
  },
  {
   "cell_type": "markdown",
   "metadata": {},
   "source": [
    "### 인덱싱\n",
    "\n",
    ">인덱싱은(indexing)은 색인이란 뜻이에요. 색인은 책 속의 낱말이나 구절, 또 이에 관련한 지시자를 찾아보기 쉽도록 일정한 순서로 나열한 목록을 말합니다. 즉 찾을려는 정보에서 특정 위치를 가리키죠. 아래 문자열을 살펴볼까요?\n",
    "\n",
    "```python\n",
    "문자열 = '안녕 나는 리스트야'\n",
    "```\n",
    "|  안 |  녕 |   | 나  | 는  |   | 리  | 스  |트   |야   |\n",
    "|---|---|---|---|---|---|---|---|---|---|\n",
    "| 0 |  1 | 2  | 3 | 4  | 5  | 6  | 7  | 8  | 9  |\n",
    "\n",
    ">위에 보이는것 처럼 문자열의 순서대로 인덱스 번호로 접근할수 있습니다.\n",
    "인덱스의 번호는 0부터 시작을 하며 맨끝값의 경우 -1로도 호출이 가능합니다. 즉 인덱스번호 -1, 9  호출하면 '야'가 나옵니다. 그렇기 때문에 '나'를 가지고 올려면 인덱스 번호가 3번을 호출하면 됩니다.\n",
    "인덱스를 호출하는 방법은 문자열[인덱스번호] 작성하면 인덱스번호의 값을 가지고 올수 있습니다."
   ]
  },
  {
   "cell_type": "code",
   "execution_count": 3,
   "metadata": {},
   "outputs": [
    {
     "data": {
      "text/plain": [
       "'나'"
      ]
     },
     "execution_count": 3,
     "metadata": {},
     "output_type": "execute_result"
    }
   ],
   "source": [
    "문자열 = '안녕 나는 리스트야'\n",
    "문자열[3] # 세번째값 가져오기"
   ]
  },
  {
   "cell_type": "code",
   "execution_count": 4,
   "metadata": {},
   "outputs": [
    {
     "name": "stdout",
     "output_type": "stream",
     "text": [
      "하의\n",
      "양말\n"
     ]
    }
   ],
   "source": [
    "서랍장 = ['상의', '하의', '내복', '속옷', '양말']\n",
    "print(서랍장[1]) # 첫번째값 가져오기\n",
    "print(서랍장[-1]) # 마지막값 가져오기"
   ]
  },
  {
   "cell_type": "markdown",
   "metadata": {},
   "source": [
    "### 예제"
   ]
  },
  {
   "cell_type": "markdown",
   "metadata": {},
   "source": [
    "[기초] 서랍장에서 0번째부터 두번째 값까지 꺼내보세요"
   ]
  },
  {
   "cell_type": "markdown",
   "metadata": {},
   "source": [
    "[기초] 아이돌 그룹 5개로 구성된 리스트를 만들고 반복문을 이용하여 출력해보세요"
   ]
  },
  {
   "cell_type": "markdown",
   "metadata": {},
   "source": [
    "두번째 문제를 못풀겠다면 1강의 파이썬 반복문을 다시 확인해보세요\n",
    "\n",
    "![2-7](../image/2-7.jpg)"
   ]
  },
  {
   "cell_type": "markdown",
   "metadata": {},
   "source": [
    "### 슬라이싱\n",
    "\n",
    ">저번 강의에 배운것 처럼 슬라이싱은 '나누다'를 뜻으로 특정범위를 나눌때 사용합니다. \n",
    "\n",
    ">그럼 리스트에서 슬라이싱을 어떻게 사용하는지 알아봅시다.\n",
    "\n",
    ">사용법은 문자열과 유사합니다."
   ]
  },
  {
   "cell_type": "code",
   "execution_count": 7,
   "metadata": {},
   "outputs": [
    {
     "data": {
      "text/plain": [
       "[8, 7, 6]"
      ]
     },
     "execution_count": 7,
     "metadata": {},
     "output_type": "execute_result"
    }
   ],
   "source": [
    "# 리스트 슬라이싱\n",
    "리스트 = [0, 9, 8, 7, 6, 5]\n",
    "# 2부터 4까지\n",
    "리스트[2:5]"
   ]
  },
  {
   "cell_type": "code",
   "execution_count": 8,
   "metadata": {},
   "outputs": [
    {
     "data": {
      "text/plain": [
       "'876'"
      ]
     },
     "execution_count": 8,
     "metadata": {},
     "output_type": "execute_result"
    }
   ],
   "source": [
    "# 문자열 슬라이싱\n",
    "문자열 = '098765'\n",
    "문자열[2:5]"
   ]
  },
  {
   "cell_type": "markdown",
   "metadata": {},
   "source": [
    "문자열과 리스트의 결과값을 비교해보세요. 동일한 결과값이 나오는것을 봤을때 사용법이 동일하다는것을 알 수 있습니다."
   ]
  },
  {
   "cell_type": "markdown",
   "metadata": {},
   "source": [
    "### 예제"
   ]
  },
  {
   "cell_type": "markdown",
   "metadata": {},
   "source": [
    "[기초] 문자열의 맨앞과 맨뒤가 같은 문자인지 확인하는 함수를 작성하세요. 같은 경우에는 \"같습니다\", 다를경우에는 \"다릅니다\" 를 출력합니다"
   ]
  },
  {
   "cell_type": "markdown",
   "metadata": {},
   "source": [
    "[고급] 아이돌그룹 이름에서 두번째 문자까지 출력하세요. 예를들어 [\"모모랜드\", \"에이핑크\", \"방탄소년단\"]에서 \"모모\", \"에이\", \"방탄\" 만 출력하면 됩니다."
   ]
  },
  {
   "cell_type": "markdown",
   "metadata": {},
   "source": [
    "## 리스트 연산자\n",
    "\n",
    ">문자열과 마찬가지로 리스트에서도 연산자를 사용할수 있습니다. 어떻게 사용할수 있는지 알아봅시다.\n"
   ]
  },
  {
   "cell_type": "markdown",
   "metadata": {},
   "source": [
    "### 더하기 (+)"
   ]
  },
  {
   "cell_type": "markdown",
   "metadata": {},
   "source": [
    "리스트끼리 더하기연산(+)을 사용하여 연산을 할수 있습니다."
   ]
  },
  {
   "cell_type": "code",
   "execution_count": 11,
   "metadata": {},
   "outputs": [
    {
     "data": {
      "text/plain": [
       "'안녕 나는 리스트야 잘부탁해'"
      ]
     },
     "execution_count": 11,
     "metadata": {},
     "output_type": "execute_result"
    }
   ],
   "source": [
    "# 문자열 \n",
    "문자열1 = '안녕 나는 '\n",
    "문자열2 = '리스트야 잘부탁해'\n",
    "result = 문자열1 + 문자열2\n",
    "result"
   ]
  },
  {
   "cell_type": "code",
   "execution_count": 12,
   "metadata": {},
   "outputs": [
    {
     "data": {
      "text/plain": [
       "['안녕', '나는', '리스트야', '잘부탁해']"
      ]
     },
     "execution_count": 12,
     "metadata": {},
     "output_type": "execute_result"
    }
   ],
   "source": [
    "# 리스트 \n",
    "리스트1 = ['안녕', '나는']\n",
    "리스트2 = ['리스트야', '잘부탁해']\n",
    "result = 리스트1 + 리스트2\n",
    "result"
   ]
  },
  {
   "cell_type": "markdown",
   "metadata": {},
   "source": [
    "### 곱하기(*)  연산자"
   ]
  },
  {
   "cell_type": "markdown",
   "metadata": {},
   "source": [
    "문자열에서 \\* 연산자를 사용할경우 문자열이 곱한만큼 반복된다는것을 저번 강의에 배웠습니다.\n",
    "문자열과 마찬가지로 리스트도 \\* 연산자를 한만큼 리스트가 반복생성이 됩니다."
   ]
  },
  {
   "cell_type": "code",
   "execution_count": 13,
   "metadata": {},
   "outputs": [
    {
     "data": {
      "text/plain": [
       "'왕밤빵 왕밤빵 왕밤빵 왕밤빵 왕밤빵 왕밤빵 왕밤빵 왕밤빵 왕밤빵 '"
      ]
     },
     "execution_count": 13,
     "metadata": {},
     "output_type": "execute_result"
    }
   ],
   "source": [
    "리스트 = '왕밤빵 왕밤빵 왕밤빵 '\n",
    "result = 리스트*3\n",
    "result"
   ]
  },
  {
   "cell_type": "code",
   "execution_count": 14,
   "metadata": {},
   "outputs": [
    {
     "data": {
      "text/plain": [
       "['홍합', '홍합', '홍합', '홍합', '홍합', '홍합', '홍합', '홍합', '홍합']"
      ]
     },
     "execution_count": 14,
     "metadata": {},
     "output_type": "execute_result"
    }
   ],
   "source": [
    "리스트 = ['홍합','홍합','홍합']\n",
    "result = 리스트*3\n",
    "result"
   ]
  },
  {
   "cell_type": "markdown",
   "metadata": {},
   "source": [
    "## 리스트 수정과 삭제"
   ]
  },
  {
   "cell_type": "code",
   "execution_count": 15,
   "metadata": {},
   "outputs": [
    {
     "data": {
      "text/plain": [
       "['홍합', '홍합', '왕밤빵', '홍합', '홍합']"
      ]
     },
     "execution_count": 15,
     "metadata": {},
     "output_type": "execute_result"
    }
   ],
   "source": [
    "# 리스트의 수정\n",
    "리스트 = ['홍합','홍합','홍합','홍합','홍합']\n",
    "리스트[2] = '왕밤빵'\n",
    "리스트"
   ]
  },
  {
   "cell_type": "code",
   "execution_count": 16,
   "metadata": {},
   "outputs": [
    {
     "data": {
      "text/plain": [
       "[1, 2, 4, 5]"
      ]
     },
     "execution_count": 16,
     "metadata": {},
     "output_type": "execute_result"
    }
   ],
   "source": [
    "# 리스트의 삭제\n",
    "리스트 = [1, 2, 3, 4, 5]\n",
    "리스트[2:3] = []\n",
    "리스트"
   ]
  },
  {
   "cell_type": "markdown",
   "metadata": {},
   "source": [
    "## 리스트의 함수들"
   ]
  },
  {
   "cell_type": "markdown",
   "metadata": {},
   "source": [
    ">리스트에는 여러 유용한 함수들이 있어요. 차근차근 예제를 통해 알아볼까요?"
   ]
  },
  {
   "cell_type": "markdown",
   "metadata": {},
   "source": [
    "### 리스트의 값 추가"
   ]
  },
  {
   "cell_type": "markdown",
   "metadata": {},
   "source": [
    "> `append` 함수와 `extend` 함수는 리스트에 값을 추가하는 함수에요. 그러나 두 함수에는 큰 차이가 존재하죠! `append`는 값을 통째로 추가하고 `extend`는 반복가능한(iterable) 객체의 요소의 값을 추가하게 됩니다. 말이 어렵죠? 예제를 통해 알아볼까요?"
   ]
  },
  {
   "cell_type": "code",
   "execution_count": 17,
   "metadata": {},
   "outputs": [
    {
     "data": {
      "text/plain": [
       "[1, 2, 3, 4, 5, 6]"
      ]
     },
     "execution_count": 17,
     "metadata": {},
     "output_type": "execute_result"
    }
   ],
   "source": [
    "# append 함수\n",
    "리스트 = [1, 2, 3, 4, 5]\n",
    "리스트.append(6)\n",
    "리스트"
   ]
  },
  {
   "cell_type": "code",
   "execution_count": 18,
   "metadata": {},
   "outputs": [
    {
     "ename": "TypeError",
     "evalue": "'int' object is not iterable",
     "output_type": "error",
     "traceback": [
      "\u001b[0;31m---------------------------------------------------------------------------\u001b[0m",
      "\u001b[0;31mTypeError\u001b[0m                                 Traceback (most recent call last)",
      "\u001b[0;32m<ipython-input-18-de56d6b03ba4>\u001b[0m in \u001b[0;36m<module>\u001b[0;34m()\u001b[0m\n\u001b[1;32m      2\u001b[0m \u001b[0;31m# 6은 int형이기 때문에 반복가능한 객체가 아니므로 에러가 납니다\u001b[0m\u001b[0;34m\u001b[0m\u001b[0;34m\u001b[0m\u001b[0m\n\u001b[1;32m      3\u001b[0m \u001b[0m리스트\u001b[0m \u001b[0;34m=\u001b[0m \u001b[0;34m[\u001b[0m\u001b[0;36m1\u001b[0m\u001b[0;34m,\u001b[0m \u001b[0;36m2\u001b[0m\u001b[0;34m,\u001b[0m \u001b[0;36m3\u001b[0m\u001b[0;34m,\u001b[0m \u001b[0;36m4\u001b[0m\u001b[0;34m,\u001b[0m \u001b[0;36m5\u001b[0m\u001b[0;34m]\u001b[0m\u001b[0;34m\u001b[0m\u001b[0m\n\u001b[0;32m----> 4\u001b[0;31m \u001b[0m리스트\u001b[0m\u001b[0;34m.\u001b[0m\u001b[0mextend\u001b[0m\u001b[0;34m(\u001b[0m\u001b[0;36m6\u001b[0m\u001b[0;34m)\u001b[0m\u001b[0;34m\u001b[0m\u001b[0m\n\u001b[0m\u001b[1;32m      5\u001b[0m \u001b[0m리스트\u001b[0m\u001b[0;34m\u001b[0m\u001b[0m\n",
      "\u001b[0;31mTypeError\u001b[0m: 'int' object is not iterable"
     ]
    }
   ],
   "source": [
    "# extend 함수는 반복가능한(iterable) 객체의 요소를 추가합니다\n",
    "# 6은 int형이기 때문에 반복가능한 객체가 아니므로 에러가 납니다\n",
    "리스트 = [1, 2, 3, 4, 5]\n",
    "리스트.extend(6)\n",
    "리스트"
   ]
  },
  {
   "cell_type": "code",
   "execution_count": 19,
   "metadata": {},
   "outputs": [
    {
     "data": {
      "text/plain": [
       "[1, 2, 3, 4, 5, [6, 7]]"
      ]
     },
     "execution_count": 19,
     "metadata": {},
     "output_type": "execute_result"
    }
   ],
   "source": [
    "# append 함수\n",
    "리스트 = [1, 2, 3, 4, 5]\n",
    "리스트.append([6, 7])\n",
    "리스트"
   ]
  },
  {
   "cell_type": "code",
   "execution_count": 20,
   "metadata": {},
   "outputs": [
    {
     "data": {
      "text/plain": [
       "[1, 2, 3, 4, 5, 6, 7]"
      ]
     },
     "execution_count": 20,
     "metadata": {},
     "output_type": "execute_result"
    }
   ],
   "source": [
    "# extend 함수\n",
    "리스트 = [1, 2, 3, 4, 5]\n",
    "리스트.extend([6, 7])\n",
    "리스트"
   ]
  },
  {
   "cell_type": "markdown",
   "metadata": {},
   "source": [
    "이 뿐만 아니라 insert 함수를 이용하여 원하는 위치에 값을 추가시킬수도 있습니다"
   ]
  },
  {
   "cell_type": "code",
   "execution_count": 21,
   "metadata": {},
   "outputs": [
    {
     "data": {
      "text/plain": [
       "[3, 1, 2, 3, 4, 5]"
      ]
     },
     "execution_count": 21,
     "metadata": {},
     "output_type": "execute_result"
    }
   ],
   "source": [
    "# insert(인덱스, 추가시킬값)의 형식으로 사용합니다\n",
    "리스트 = [1, 2, 3, 4, 5]\n",
    "리스트.insert(0, 3) # 0번 인덱스에 3을 추가합니다\n",
    "리스트"
   ]
  },
  {
   "cell_type": "markdown",
   "metadata": {},
   "source": [
    "### 리스트의 값 제거"
   ]
  },
  {
   "cell_type": "markdown",
   "metadata": {},
   "source": [
    ">remove함수와 pop함수를 이용하여 리스트의 값을 제거할 수 있습니다."
   ]
  },
  {
   "cell_type": "code",
   "execution_count": 22,
   "metadata": {},
   "outputs": [
    {
     "data": {
      "text/plain": [
       "['에이핑크', '방탄소년단', '워너원', '트와이스']"
      ]
     },
     "execution_count": 22,
     "metadata": {},
     "output_type": "execute_result"
    }
   ],
   "source": [
    "# remove함수는 값을 기준으로 값을 제거합니다\n",
    "아이돌리스트 = ['모모랜드', '에이핑크', '방탄소년단', '워너원', '트와이스']\n",
    "아이돌리스트.remove('모모랜드') # 모모랜드를 제거\n",
    "아이돌리스트"
   ]
  },
  {
   "cell_type": "code",
   "execution_count": 23,
   "metadata": {},
   "outputs": [
    {
     "data": {
      "text/plain": [
       "['모모랜드', '에이핑크', '워너원', '트와이스']"
      ]
     },
     "execution_count": 23,
     "metadata": {},
     "output_type": "execute_result"
    }
   ],
   "source": [
    "# pop함수는 인덱스를 기준으로 값을 제거합니다\n",
    "아이돌리스트 = ['모모랜드', '에이핑크', '방탄소년단', '워너원', '트와이스']\n",
    "아이돌리스트.pop(2) # 2번(3번째) 값을 제거\n",
    "아이돌리스트"
   ]
  },
  {
   "cell_type": "markdown",
   "metadata": {},
   "source": [
    "## 리스트의 정렬"
   ]
  },
  {
   "cell_type": "markdown",
   "metadata": {},
   "source": [
    "> 리스트는 정렬 기능을 제공합니다. 물론 리스트 안의 값의 타입(type)이 다르면 오류가 나겠죠?"
   ]
  },
  {
   "cell_type": "code",
   "execution_count": 24,
   "metadata": {},
   "outputs": [
    {
     "data": {
      "text/plain": [
       "[1, 2, 3, 4, 5]"
      ]
     },
     "execution_count": 24,
     "metadata": {},
     "output_type": "execute_result"
    }
   ],
   "source": [
    "리스트 = [3, 5, 1, 2, 4]\n",
    "리스트.sort()\n",
    "리스트"
   ]
  },
  {
   "cell_type": "code",
   "execution_count": 25,
   "metadata": {},
   "outputs": [
    {
     "data": {
      "text/plain": [
       "['고아라', '문성진', '변재훈', '성홍용', '안중현', '이예지', '정수현']"
      ]
     },
     "execution_count": 25,
     "metadata": {},
     "output_type": "execute_result"
    }
   ],
   "source": [
    "# 문자열 리스트 정렬\n",
    "회원 = ['안중현', '성홍용', '이예지', '문성진', '고아라', '변재훈', '정수현']\n",
    "회원.sort()\n",
    "회원"
   ]
  },
  {
   "cell_type": "code",
   "execution_count": 26,
   "metadata": {},
   "outputs": [
    {
     "data": {
      "text/plain": [
       "['정수현', '이예지', '안중현', '성홍용', '변재훈', '문성진', '고아라']"
      ]
     },
     "execution_count": 26,
     "metadata": {},
     "output_type": "execute_result"
    }
   ],
   "source": [
    "# 파라미터 reverse값을 True로 주면 반대로 정렬할 수 있습니다\n",
    "회원 = ['안중현', '성홍용', '이예지', '문성진', '고아라', '변재훈', '정수현']\n",
    "회원.sort(reverse=True)\n",
    "회원"
   ]
  },
  {
   "cell_type": "markdown",
   "metadata": {},
   "source": [
    "리스트의 정렬조건을 사용자가 지정한 함수를 활용할 수도 있습니다. 이 부분은 나중에 다뤄보도록 할께요"
   ]
  },
  {
   "cell_type": "markdown",
   "metadata": {},
   "source": [
    "## 리스트의 기타 여러 함수"
   ]
  },
  {
   "cell_type": "code",
   "execution_count": 27,
   "metadata": {},
   "outputs": [
    {
     "data": {
      "text/plain": [
       "2"
      ]
     },
     "execution_count": 27,
     "metadata": {},
     "output_type": "execute_result"
    }
   ],
   "source": [
    "# 리스트 인덱스 위치 반환\n",
    "리스트 = [1, 1, 2, 4]\n",
    "리스트.count(1)"
   ]
  },
  {
   "cell_type": "code",
   "execution_count": 28,
   "metadata": {},
   "outputs": [
    {
     "data": {
      "text/plain": [
       "['정수현', '변재훈', '고아라', '문성진', '이예지', '성홍용', '안중현']"
      ]
     },
     "execution_count": 28,
     "metadata": {},
     "output_type": "execute_result"
    }
   ],
   "source": [
    "# 리스트 뒤집기\n",
    "회원 = ['안중현', '성홍용', '이예지', '문성진', '고아라', '변재훈', '정수현']\n",
    "회원.reverse()\n",
    "회원"
   ]
  },
  {
   "cell_type": "code",
   "execution_count": 29,
   "metadata": {},
   "outputs": [
    {
     "data": {
      "text/plain": [
       "3"
      ]
     },
     "execution_count": 29,
     "metadata": {},
     "output_type": "execute_result"
    }
   ],
   "source": [
    "# 리스트 인덱스 위치 반환\n",
    "회원 = ['안중현', '성홍용', '이예지', '문성진', '고아라', '변재훈', '정수현']\n",
    "회원.index('문성진')"
   ]
  },
  {
   "cell_type": "code",
   "execution_count": 30,
   "metadata": {},
   "outputs": [
    {
     "data": {
      "text/plain": [
       "7"
      ]
     },
     "execution_count": 30,
     "metadata": {},
     "output_type": "execute_result"
    }
   ],
   "source": [
    "# 리스트 크기 반환\n",
    "회원 = ['안중현', '성홍용', '이예지', '문성진', '고아라', '변재훈', '정수현']\n",
    "len(회원)"
   ]
  },
  {
   "cell_type": "code",
   "execution_count": 31,
   "metadata": {},
   "outputs": [
    {
     "name": "stdout",
     "output_type": "stream",
     "text": [
      "안중현\n",
      "성홍용\n",
      "이예지\n",
      "문성진\n",
      "고아라\n",
      "변재훈\n",
      "정수현\n"
     ]
    }
   ],
   "source": [
    "# 반복문에서의 len함수 활용\n",
    "회원 = ['안중현', '성홍용', '이예지', '문성진', '고아라', '변재훈', '정수현']\n",
    "\n",
    "for i in range(len(회원)):\n",
    "    print(회원[i])"
   ]
  },
  {
   "cell_type": "markdown",
   "metadata": {},
   "source": [
    "## 튜플은 무엇일까요?"
   ]
  },
  {
   "cell_type": "markdown",
   "metadata": {},
   "source": [
    "> 튜플은 리스트와 똑같습니다. 개꿀입니다!!<br>\n",
    "![2-4](../image/2-4.jpg)<br>\n",
    "> 딱하나! 튜플은 리스트처럼 값을 바꿀수가 없어요! 뭐.. 그리고 리스트는 [ ]를 써서 선언하고 튜플은 ( )를 사용하여 선언한다 정도 차이가 있겠네요. 실제로 활용해 볼까요?"
   ]
  },
  {
   "cell_type": "code",
   "execution_count": 32,
   "metadata": {},
   "outputs": [
    {
     "name": "stdout",
     "output_type": "stream",
     "text": [
      "(1, 2, 3) <class 'tuple'>\n"
     ]
    }
   ],
   "source": [
    "튜플 = (1, 2, 3)\n",
    "print(튜플, type(튜플))"
   ]
  },
  {
   "cell_type": "code",
   "execution_count": 33,
   "metadata": {},
   "outputs": [
    {
     "ename": "TypeError",
     "evalue": "'tuple' object does not support item assignment",
     "output_type": "error",
     "traceback": [
      "\u001b[0;31m---------------------------------------------------------------------------\u001b[0m",
      "\u001b[0;31mTypeError\u001b[0m                                 Traceback (most recent call last)",
      "\u001b[0;32m<ipython-input-33-474ee2332006>\u001b[0m in \u001b[0;36m<module>\u001b[0;34m()\u001b[0m\n\u001b[1;32m      1\u001b[0m \u001b[0;31m# 튜플의 값을 변경하려 하면 에러가 납니다\u001b[0m\u001b[0;34m\u001b[0m\u001b[0;34m\u001b[0m\u001b[0m\n\u001b[1;32m      2\u001b[0m \u001b[0m튜플\u001b[0m \u001b[0;34m=\u001b[0m \u001b[0;34m(\u001b[0m\u001b[0;36m1\u001b[0m\u001b[0;34m,\u001b[0m \u001b[0;36m2\u001b[0m\u001b[0;34m,\u001b[0m \u001b[0;36m3\u001b[0m\u001b[0;34m)\u001b[0m\u001b[0;34m\u001b[0m\u001b[0m\n\u001b[0;32m----> 3\u001b[0;31m \u001b[0m튜플\u001b[0m\u001b[0;34m[\u001b[0m\u001b[0;36m0\u001b[0m\u001b[0;34m]\u001b[0m \u001b[0;34m=\u001b[0m \u001b[0;36m3\u001b[0m\u001b[0;34m\u001b[0m\u001b[0m\n\u001b[0m",
      "\u001b[0;31mTypeError\u001b[0m: 'tuple' object does not support item assignment"
     ]
    }
   ],
   "source": [
    "# 튜플의 값을 변경하려 하면 에러가 납니다\n",
    "튜플 = (1, 2, 3)\n",
    "튜플[0] = 3"
   ]
  },
  {
   "cell_type": "markdown",
   "metadata": {},
   "source": [
    "나머지 리스트에서 썼던 함수는 모두 활용이 가능해요! 실제로 실습 해보세요"
   ]
  },
  {
   "cell_type": "markdown",
   "metadata": {},
   "source": [
    "### 튜플의 활용"
   ]
  },
  {
   "cell_type": "markdown",
   "metadata": {},
   "source": [
    "앞에서 함수는 기본적으로 한개 또는 0개의 반환값을 가져야 한다고 공부했던것 기억나나요?"
   ]
  },
  {
   "cell_type": "markdown",
   "metadata": {},
   "source": [
    "![2-10](../image/2-10.jpg)"
   ]
  },
  {
   "cell_type": "code",
   "execution_count": 34,
   "metadata": {},
   "outputs": [],
   "source": [
    "def 결과값두개반환():\n",
    "    첫번째값 = 1\n",
    "    두번째값 = 2\n",
    "    return 첫번째값, 두번째값"
   ]
  },
  {
   "cell_type": "code",
   "execution_count": 35,
   "metadata": {},
   "outputs": [
    {
     "name": "stdout",
     "output_type": "stream",
     "text": [
      "1\n",
      "2\n"
     ]
    }
   ],
   "source": [
    "첫번째값, 두번째값 = 결과값두개반환()\n",
    "print(첫번째값)\n",
    "print(두번째값)"
   ]
  },
  {
   "cell_type": "markdown",
   "metadata": {},
   "source": [
    "![2-11](../image/2-11.jpg)"
   ]
  },
  {
   "cell_type": "markdown",
   "metadata": {},
   "source": [
    "이건 뭘까요... 상식을 뛰어넘는군요.. 일단 진정하고 반환값을 좀 확인해봅시다."
   ]
  },
  {
   "cell_type": "code",
   "execution_count": 36,
   "metadata": {},
   "outputs": [
    {
     "name": "stdout",
     "output_type": "stream",
     "text": [
      "(1, 2) <class 'tuple'>\n"
     ]
    }
   ],
   "source": [
    "결과값 = 결과값두개반환()\n",
    "print(결과값, type(결과값))"
   ]
  },
  {
   "cell_type": "markdown",
   "metadata": {},
   "source": [
    "네 맞습니다. 파이썬에서 쉼표로 이어진 값들은 자연스럽게 튜플로 쌓여서 반환시킬수 있습니다. 즉 따로 튜플로 묶어주지 않았지만 결과를 반환할때 첫번째값과 두번째값은 합쳐져서 한개의 튜플변수로 반환이 된것이죠. 이걸 좀 응용해 볼까요?"
   ]
  },
  {
   "cell_type": "code",
   "execution_count": 37,
   "metadata": {},
   "outputs": [
    {
     "name": "stdout",
     "output_type": "stream",
     "text": [
      "2\n",
      "1\n"
     ]
    }
   ],
   "source": [
    "# 변수값 바꾸기\n",
    "# 기존 방법\n",
    "첫번째값 = 1\n",
    "두번째값 = 2\n",
    "임시값 = ''\n",
    "\n",
    "임시값 = 첫번째값\n",
    "첫번째값 = 두번째값\n",
    "두번째값 = 임시값\n",
    "\n",
    "print(첫번째값)\n",
    "print(두번째값)"
   ]
  },
  {
   "cell_type": "code",
   "execution_count": 38,
   "metadata": {},
   "outputs": [
    {
     "name": "stdout",
     "output_type": "stream",
     "text": [
      "2\n",
      "1\n"
     ]
    }
   ],
   "source": [
    "# 변수값 바꾸기\n",
    "# 파이썬 튜플을 이용한 방법\n",
    "첫번째값 = 1\n",
    "두번째값 = 2\n",
    "첫번째값, 두번째값 = 두번째값, 첫번째값\n",
    "\n",
    "print(첫번째값)\n",
    "print(두번째값)"
   ]
  },
  {
   "cell_type": "markdown",
   "metadata": {},
   "source": [
    "![2-12](../image/2-12.jpg)"
   ]
  },
  {
   "cell_type": "code",
   "execution_count": null,
   "metadata": {},
   "outputs": [],
   "source": []
  }
 ],
 "metadata": {
  "kernelspec": {
   "display_name": "Python 3",
   "language": "python",
   "name": "python3"
  },
  "language_info": {
   "codemirror_mode": {
    "name": "ipython",
    "version": 3
   },
   "file_extension": ".py",
   "mimetype": "text/x-python",
   "name": "python",
   "nbconvert_exporter": "python",
   "pygments_lexer": "ipython3",
   "version": "3.5.2"
  }
 },
 "nbformat": 4,
 "nbformat_minor": 2
}
