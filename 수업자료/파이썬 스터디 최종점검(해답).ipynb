{
 "cells": [
  {
   "cell_type": "markdown",
   "metadata": {},
   "source": [
    "* 아래와 같은 삼각형을 출력하세요\n",
    "\n",
    "<출력>\n",
    "<pre>\n",
    "***********\n",
    " *********\n",
    "  *******\n",
    "   *****\n",
    "    ***\n",
    "     *\n",
    "</pre>"
   ]
  },
  {
   "cell_type": "code",
   "execution_count": 111,
   "metadata": {},
   "outputs": [
    {
     "name": "stdout",
     "output_type": "stream",
     "text": [
      "***********\n",
      " *********\n",
      "  *******\n",
      "   *****\n",
      "    ***\n",
      "     *\n"
     ]
    }
   ],
   "source": [
    "for i in range(6):\n",
    "    print(' '*i, end='')\n",
    "    for j in range(11-(2*i)):\n",
    "        print('*', end='')\n",
    "    print()"
   ]
  },
  {
   "cell_type": "markdown",
   "metadata": {},
   "source": [
    "* 5개의 정수를 입력받고 값들의 합을 출력하세요\n",
    "\n",
    "<출력>\n",
    "```python\n",
    "정수를 입력하세요: 1\n",
    "정수를 입력하세요: 2\n",
    "정수를 입력하세요: 3\n",
    "정수를 입력하세요: 4\n",
    "정수를 입력하세요: 5\n",
    "\n",
    "print(합)\n",
    ">>> 15\n",
    "```"
   ]
  },
  {
   "cell_type": "code",
   "execution_count": 11,
   "metadata": {},
   "outputs": [
    {
     "name": "stdout",
     "output_type": "stream",
     "text": [
      "정수를 입력하세요: 1\n",
      "정수를 입력하세요: 2\n",
      "정수를 입력하세요: 3\n",
      "정수를 입력하세요: 4\n",
      "정수를 입력하세요: 5\n",
      "15\n"
     ]
    }
   ],
   "source": [
    "합 = 0\n",
    "for _ in range(5):\n",
    "    합 += int(input('정수를 입력하세요: '))\n",
    "print(합)"
   ]
  },
  {
   "cell_type": "markdown",
   "metadata": {},
   "source": [
    "* 1부터 50 사이의 소수(prime number)로 구성된 리스트를 만들고 출력하세요. 소수란 1과 자기 자신을 제외한 어떤수로도 나눠지지 않는 수를 말합니다\n",
    "\n",
    "<출력>\n",
    "```python\n",
    "print(소수리스트)\n",
    ">>> [2, 3, 5, 7, 11, 13, 17, 19, 23, 29, 31, 37, 41, 43, 47]\n",
    "```"
   ]
  },
  {
   "cell_type": "code",
   "execution_count": 14,
   "metadata": {},
   "outputs": [
    {
     "name": "stdout",
     "output_type": "stream",
     "text": [
      "[2, 3, 5, 7, 11, 13, 17, 19, 23, 29, 31, 37, 41, 43, 47]\n"
     ]
    }
   ],
   "source": [
    "소수리스트 = [2]\n",
    "for n in range(3, 50 + 1):\n",
    "    is_divied = False\n",
    "    for p in 소수리스트:\n",
    "        if n%p == 0:\n",
    "            is_divied = True\n",
    "            break\n",
    "    if not is_divied:\n",
    "        소수리스트.append(n)\n",
    "# 출력\n",
    "print(소수리스트)"
   ]
  },
  {
   "cell_type": "markdown",
   "metadata": {},
   "source": [
    "* 점과 점 사이의 거리를 구하는 함수를 만드세요. 입력 파라미터는 x1, y1, x2, y2 입니다.\n",
    "\n",
    "<출력>\n",
    "```python\n",
    "def euclidean_distance(x1, y1, x2, y2):\n",
    "    return 점과 점사이의 거리\n",
    "    \n",
    "euclidean_distance(1, 2, 1, 0)\n",
    ">> 2.0\n",
    "```\n"
   ]
  },
  {
   "cell_type": "code",
   "execution_count": 15,
   "metadata": {},
   "outputs": [
    {
     "data": {
      "text/plain": [
       "2.0"
      ]
     },
     "execution_count": 15,
     "metadata": {},
     "output_type": "execute_result"
    }
   ],
   "source": [
    "import math\n",
    "\n",
    "def euclidean_distance(x1, y1, x2, y2):\n",
    "    return math.sqrt((x1-x2)**2 + (y1-y2)**2)\n",
    "\n",
    "euclidean_distance(1, 2, 1, 0)"
   ]
  },
  {
   "cell_type": "markdown",
   "metadata": {},
   "source": [
    "* Student class를 만드세요. 인자로는 이름(name), 성별(sex)를 받고 인자 모두 `propery`와 `setter` 함수를 적용하세요. `name`의 `setter`함수는 새로 바뀔 값의 형식이 `str`형식인지 확인하고 `sex`의`setter`함수에서는 새로 바뀔값이 '여자' 또는 '남자'인지 체크후 아닐경우에 에러 메세지를 반환하세요"
   ]
  },
  {
   "cell_type": "markdown",
   "metadata": {},
   "source": [
    "<출력>\n",
    "```python\n",
    "class Student:\n",
    "    def __init__(self, name, sex):\n",
    "        self._name = name\n",
    "        self._sex = sex\n",
    "    ...\n",
    "    \n",
    "student1 = Student('권혁민', '남자')\n",
    "\n",
    "print(student1.name)\n",
    ">>> 권혁민\n",
    "\n",
    "st1.sex = '마법사'\n",
    ">>> ValueError: 잘못된 형식입니다\n",
    "```"
   ]
  },
  {
   "cell_type": "code",
   "execution_count": 31,
   "metadata": {
    "collapsed": true
   },
   "outputs": [],
   "source": [
    "class Student:\n",
    "    def __init__(self, name, sex):\n",
    "        self._name = name\n",
    "        self._sex = sex\n",
    "        \n",
    "    @property\n",
    "    def name(self):\n",
    "        return self._name\n",
    "    @name.setter\n",
    "    def name(self, new_name):\n",
    "        if type(new_name)!=str:\n",
    "            raise ValueError('잘못된 형식입니다')\n",
    "        self._name = new_name\n",
    "    \n",
    "    @property\n",
    "    def sex(self):\n",
    "        return self._sex\n",
    "    @sex.setter\n",
    "    def sex(self, new_sex):\n",
    "        if new_sex!='여자' and new_sex!='남자':\n",
    "            raise ValueError('잘못된 형식입니다')\n",
    "        self._sex = new_sex"
   ]
  },
  {
   "cell_type": "code",
   "execution_count": 36,
   "metadata": {},
   "outputs": [
    {
     "name": "stdout",
     "output_type": "stream",
     "text": [
      "허상훈\n"
     ]
    },
    {
     "ename": "ValueError",
     "evalue": "잘못된 형식입니다",
     "output_type": "error",
     "traceback": [
      "\u001b[0;31m---------------------------------------------------------------------------\u001b[0m",
      "\u001b[0;31mValueError\u001b[0m                                Traceback (most recent call last)",
      "\u001b[0;32m<ipython-input-36-29620c5a2273>\u001b[0m in \u001b[0;36m<module>\u001b[0;34m()\u001b[0m\n\u001b[1;32m      1\u001b[0m \u001b[0mst1\u001b[0m \u001b[0;34m=\u001b[0m \u001b[0mStudent\u001b[0m\u001b[0;34m(\u001b[0m\u001b[0;34m'허상훈'\u001b[0m\u001b[0;34m,\u001b[0m \u001b[0;34m'남자'\u001b[0m\u001b[0;34m)\u001b[0m\u001b[0;34m\u001b[0m\u001b[0m\n\u001b[1;32m      2\u001b[0m \u001b[0mprint\u001b[0m\u001b[0;34m(\u001b[0m\u001b[0mst1\u001b[0m\u001b[0;34m.\u001b[0m\u001b[0mname\u001b[0m\u001b[0;34m)\u001b[0m\u001b[0;34m\u001b[0m\u001b[0m\n\u001b[0;32m----> 3\u001b[0;31m \u001b[0mst1\u001b[0m\u001b[0;34m.\u001b[0m\u001b[0msex\u001b[0m \u001b[0;34m=\u001b[0m \u001b[0;34m'머글'\u001b[0m\u001b[0;34m\u001b[0m\u001b[0m\n\u001b[0m",
      "\u001b[0;32m<ipython-input-31-ada54a4ebd78>\u001b[0m in \u001b[0;36msex\u001b[0;34m(self, new_sex)\u001b[0m\n\u001b[1;32m     19\u001b[0m     \u001b[0;32mdef\u001b[0m \u001b[0msex\u001b[0m\u001b[0;34m(\u001b[0m\u001b[0mself\u001b[0m\u001b[0;34m,\u001b[0m \u001b[0mnew_sex\u001b[0m\u001b[0;34m)\u001b[0m\u001b[0;34m:\u001b[0m\u001b[0;34m\u001b[0m\u001b[0m\n\u001b[1;32m     20\u001b[0m         \u001b[0;32mif\u001b[0m \u001b[0mnew_sex\u001b[0m\u001b[0;34m!=\u001b[0m\u001b[0;34m'여자'\u001b[0m \u001b[0;32mand\u001b[0m \u001b[0mnew_sex\u001b[0m\u001b[0;34m!=\u001b[0m\u001b[0;34m'남자'\u001b[0m\u001b[0;34m:\u001b[0m\u001b[0;34m\u001b[0m\u001b[0m\n\u001b[0;32m---> 21\u001b[0;31m             \u001b[0;32mraise\u001b[0m \u001b[0mValueError\u001b[0m\u001b[0;34m(\u001b[0m\u001b[0;34m'잘못된 형식입니다'\u001b[0m\u001b[0;34m)\u001b[0m\u001b[0;34m\u001b[0m\u001b[0m\n\u001b[0m\u001b[1;32m     22\u001b[0m         \u001b[0mself\u001b[0m\u001b[0;34m.\u001b[0m\u001b[0m_sex\u001b[0m \u001b[0;34m=\u001b[0m \u001b[0mnew_sex\u001b[0m\u001b[0;34m\u001b[0m\u001b[0m\n",
      "\u001b[0;31mValueError\u001b[0m: 잘못된 형식입니다"
     ]
    }
   ],
   "source": [
    "st1 = Student('허상훈', '남자')\n",
    "print(st1.name)\n",
    "st1.sex = '머글'"
   ]
  },
  {
   "cell_type": "markdown",
   "metadata": {},
   "source": [
    "* `Student class`를 상속받아 `KNUStudent class`를 만들세요. `KNUStudent class`에는 `grade`(학점)인자를 추가하고 숫자형(정수, 실수)인지와 크기가 0에서 4.5 사이인지 체크하고 아닐경우 에러메세지를 출력하세요. 또한 `repr`함수를 오버로딩(overloading)하여 출력문도 정의하세요\n",
    "\n",
    "<출력>\n",
    "```python\n",
    "knustudent = KNUStudent('권혁민', '남자', 4.3)\n",
    "\n",
    "print(knustudent)\n",
    ">>> KNUStudent(권혁민, 남자, 4.3)\n",
    "\n",
    "knustudent.grade = 4.7\n",
    ">>> ValueError: 잘못된 형식입니다\n",
    "\n",
    "```"
   ]
  },
  {
   "cell_type": "code",
   "execution_count": 79,
   "metadata": {},
   "outputs": [],
   "source": [
    "class KNUStudent(Student):\n",
    "    def __init__(self, name, sex, grade):\n",
    "        super(KNUStudent, self).__init__(name, sex)\n",
    "        self._grade = grade\n",
    "    \n",
    "    @property\n",
    "    def grade(self):\n",
    "        return self._grade\n",
    "    @grade.setter\n",
    "    def grade(self, new_grade):\n",
    "        if (type(new_grade)!=float and type(new_grade)!=int) or (new_grade<0 or new_grade>4.5):\n",
    "            raise ValueError(\"잘못된 형식입니다\")\n",
    "        self._grade = new_grade\n",
    "        \n",
    "    def __repr__(self):\n",
    "        return \"KNUStudent({}, {}, {})\".format(self._name, self._sex, self._grade)"
   ]
  },
  {
   "cell_type": "code",
   "execution_count": 82,
   "metadata": {},
   "outputs": [
    {
     "name": "stdout",
     "output_type": "stream",
     "text": [
      "KNUStudent(권혁민, 남자, 4.3)\n"
     ]
    },
    {
     "ename": "ValueError",
     "evalue": "잘못된 형식입니다",
     "output_type": "error",
     "traceback": [
      "\u001b[0;31m---------------------------------------------------------------------------\u001b[0m",
      "\u001b[0;31mValueError\u001b[0m                                Traceback (most recent call last)",
      "\u001b[0;32m<ipython-input-82-b68eeb6ee54c>\u001b[0m in \u001b[0;36m<module>\u001b[0;34m()\u001b[0m\n\u001b[1;32m      1\u001b[0m \u001b[0mknustudent\u001b[0m \u001b[0;34m=\u001b[0m \u001b[0mKNUStudent\u001b[0m\u001b[0;34m(\u001b[0m\u001b[0;34m'권혁민'\u001b[0m\u001b[0;34m,\u001b[0m \u001b[0;34m'남자'\u001b[0m\u001b[0;34m,\u001b[0m \u001b[0;36m4.3\u001b[0m\u001b[0;34m)\u001b[0m\u001b[0;34m\u001b[0m\u001b[0m\n\u001b[1;32m      2\u001b[0m \u001b[0mprint\u001b[0m\u001b[0;34m(\u001b[0m\u001b[0mknustudent\u001b[0m\u001b[0;34m)\u001b[0m\u001b[0;34m\u001b[0m\u001b[0m\n\u001b[0;32m----> 3\u001b[0;31m \u001b[0mknustudent\u001b[0m\u001b[0;34m.\u001b[0m\u001b[0mgrade\u001b[0m \u001b[0;34m=\u001b[0m \u001b[0;36m4.7\u001b[0m\u001b[0;34m\u001b[0m\u001b[0m\n\u001b[0m",
      "\u001b[0;32m<ipython-input-79-3489fc8b8a05>\u001b[0m in \u001b[0;36mgrade\u001b[0;34m(self, new_grade)\u001b[0m\n\u001b[1;32m     10\u001b[0m     \u001b[0;32mdef\u001b[0m \u001b[0mgrade\u001b[0m\u001b[0;34m(\u001b[0m\u001b[0mself\u001b[0m\u001b[0;34m,\u001b[0m \u001b[0mnew_grade\u001b[0m\u001b[0;34m)\u001b[0m\u001b[0;34m:\u001b[0m\u001b[0;34m\u001b[0m\u001b[0m\n\u001b[1;32m     11\u001b[0m         \u001b[0;32mif\u001b[0m \u001b[0;34m(\u001b[0m\u001b[0mtype\u001b[0m\u001b[0;34m(\u001b[0m\u001b[0mnew_grade\u001b[0m\u001b[0;34m)\u001b[0m\u001b[0;34m!=\u001b[0m\u001b[0mfloat\u001b[0m \u001b[0;32mand\u001b[0m \u001b[0mtype\u001b[0m\u001b[0;34m(\u001b[0m\u001b[0mnew_grade\u001b[0m\u001b[0;34m)\u001b[0m\u001b[0;34m!=\u001b[0m\u001b[0mint\u001b[0m\u001b[0;34m)\u001b[0m \u001b[0;32mor\u001b[0m \u001b[0;34m(\u001b[0m\u001b[0mnew_grade\u001b[0m\u001b[0;34m<\u001b[0m\u001b[0;36m0\u001b[0m \u001b[0;32mor\u001b[0m \u001b[0mnew_grade\u001b[0m\u001b[0;34m>\u001b[0m\u001b[0;36m4.5\u001b[0m\u001b[0;34m)\u001b[0m\u001b[0;34m:\u001b[0m\u001b[0;34m\u001b[0m\u001b[0m\n\u001b[0;32m---> 12\u001b[0;31m             \u001b[0;32mraise\u001b[0m \u001b[0mValueError\u001b[0m\u001b[0;34m(\u001b[0m\u001b[0;34m\"잘못된 형식입니다\"\u001b[0m\u001b[0;34m)\u001b[0m\u001b[0;34m\u001b[0m\u001b[0m\n\u001b[0m\u001b[1;32m     13\u001b[0m         \u001b[0mself\u001b[0m\u001b[0;34m.\u001b[0m\u001b[0m_grade\u001b[0m \u001b[0;34m=\u001b[0m \u001b[0mnew_grade\u001b[0m\u001b[0;34m\u001b[0m\u001b[0m\n\u001b[1;32m     14\u001b[0m \u001b[0;34m\u001b[0m\u001b[0m\n",
      "\u001b[0;31mValueError\u001b[0m: 잘못된 형식입니다"
     ]
    }
   ],
   "source": [
    "knustudent = KNUStudent('권혁민', '남자', 4.3)\n",
    "print(knustudent)\n",
    "knustudent.grade = 4.7"
   ]
  },
  {
   "cell_type": "code",
   "execution_count": null,
   "metadata": {},
   "outputs": [],
   "source": []
  },
  {
   "cell_type": "code",
   "execution_count": null,
   "metadata": {
    "collapsed": true
   },
   "outputs": [],
   "source": []
  }
 ],
 "metadata": {
  "kernelspec": {
   "display_name": "Python 3",
   "language": "python",
   "name": "python3"
  },
  "language_info": {
   "codemirror_mode": {
    "name": "ipython",
    "version": 3
   },
   "file_extension": ".py",
   "mimetype": "text/x-python",
   "name": "python",
   "nbconvert_exporter": "python",
   "pygments_lexer": "ipython3",
   "version": "3.6.2"
  }
 },
 "nbformat": 4,
 "nbformat_minor": 2
}
