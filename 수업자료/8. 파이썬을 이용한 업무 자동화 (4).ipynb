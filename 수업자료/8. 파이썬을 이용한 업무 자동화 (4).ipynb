{
 "cells": [
  {
   "cell_type": "markdown",
   "metadata": {},
   "source": [
    "# 웹크롤러 만들기 - API의 활용¶"
   ]
  },
  {
   "cell_type": "markdown",
   "metadata": {},
   "source": [
    "![banner](../image/4-1.jpg)"
   ]
  },
  {
   "cell_type": "markdown",
   "metadata": {},
   "source": [
    "## API란 무엇일까요?"
   ]
  },
  {
   "cell_type": "markdown",
   "metadata": {},
   "source": [
    "크롤링을 가장 편하게 활용할수 있는 방법은 API를 이용하는 방법이 있어요. API는 Application Programming Interface의 약자로 응용 프로그램에서 사용할 수 있도록, 운영 체제나 프로그래밍 언어가 제공하는 기능을 제어할 수 있게 만든 인터페이스를 말해요. 즉, 사용자가 어떤식으로 서버에 신호를 주면 어떤 내용이 반환되는지 정의되어 있습니다. 이를 이용하면 쉽고 간단하게 필요한 정보를 크롤링할 수 있어요."
   ]
  },
  {
   "cell_type": "markdown",
   "metadata": {},
   "source": [
    "MCP API Document(https://www.geniecontents.com/ko_doc/index.html)에서 제공하는 api를 활용해 보겠습니다. 이중 로또당첨번호 조회 api를 활용해 보도록 합시다."
   ]
  },
  {
   "cell_type": "markdown",
   "metadata": {},
   "source": [
    "![e-1](../image/e-1.jpg)"
   ]
  },
  {
   "cell_type": "markdown",
   "metadata": {},
   "source": [
    "로또당첨번호 조회를 누르면 api의 사용법과 서버로 보낼 파라미터(parameter)에 대해 정의가 되어있습니다. 해당 api는 GET방식을 활용하도록 되어있네요."
   ]
  },
  {
   "cell_type": "markdown",
   "metadata": {},
   "source": [
    "![e-2](../image/e-2.jpg)"
   ]
  },
  {
   "cell_type": "markdown",
   "metadata": {},
   "source": [
    "마우스를 더 내려보면 응답이 성공했을때 어떤 데이터를 받을수 있는지 정의되어 있습니다. 추첨번호 뿐만이 아니라 판매금액과 당첨금액까지 알수 있겠네요."
   ]
  },
  {
   "cell_type": "markdown",
   "metadata": {},
   "source": [
    "![e-3](../image/e-3.jpg)"
   ]
  },
  {
   "cell_type": "markdown",
   "metadata": {},
   "source": [
    "자, 그럼 이것을 기반으로 본격적으로 프로그램을 만들어 봅시다."
   ]
  },
  {
   "cell_type": "code",
   "execution_count": 1,
   "metadata": {},
   "outputs": [],
   "source": [
    "# 필요 라이브러리 import\n",
    "import requests\n",
    "from bs4 import BeautifulSoup\n",
    "import pandas as pd\n",
    "import json # 웹상에서 데이터는 일반적으로 사전형으로 생긴 json이라는 파일형태로 주고받습니다."
   ]
  },
  {
   "cell_type": "code",
   "execution_count": 2,
   "metadata": {},
   "outputs": [],
   "source": [
    "회차번호 = 1 # 예시로 첫번째 회차를 받아와 봅시다\n",
    "url = \"https://www.geniecontents.com/api/v1/lotto?drawNo={}\".format(회차번호)"
   ]
  },
  {
   "cell_type": "code",
   "execution_count": 3,
   "metadata": {},
   "outputs": [],
   "source": [
    "# 서버에 파라미터를 담아 요청(request)를 하면 적절한 응답(response)를 하게됩니다.\n",
    "# 이때 위에 정의된 대로 get 방식으로 요청을 해야겠죠?\n",
    "response = requests.get(url)"
   ]
  },
  {
   "cell_type": "code",
   "execution_count": 4,
   "metadata": {},
   "outputs": [
    {
     "data": {
      "text/plain": [
       "'{\"resultCode\":\"R21000\",\"statusCode\":\"200\",\"body\":{\"drawDateYn\":\"N\",\"num6\":40,\"bonusNum\":16,\"totalSellingPrice\":3681782000,\"num1\":10,\"num5\":37,\"drawNo\":1,\"drawDate\":\"2002-12-07\",\"num4\":33,\"lottoResult\":[{\"sellingPriceByRank\":0,\"winningCnt\":0,\"rank\":\"FIRST\",\"winningPriceByRank\":0},{\"sellingPriceByRank\":143934100,\"winningCnt\":1,\"rank\":\"SECOND\",\"winningPriceByRank\":143934100},{\"sellingPriceByRank\":143934000,\"winningCnt\":28,\"rank\":\"THIRD\",\"winningPriceByRank\":5140500},{\"sellingPriceByRank\":287695800,\"winningCnt\":2537,\"rank\":\"FOURTH\",\"winningPriceByRank\":113400},{\"sellingPriceByRank\":401550000,\"winningCnt\":40155,\"rank\":\"FIFTH\",\"winningPriceByRank\":10000}],\"num3\":29,\"num2\":23}}'"
      ]
     },
     "execution_count": 4,
     "metadata": {},
     "output_type": "execute_result"
    }
   ],
   "source": [
    "response.text"
   ]
  },
  {
   "cell_type": "markdown",
   "metadata": {},
   "source": [
    "됬습니다. 결과값이 성공적으로 왔군요! 이것을 보기 좋게 사전형(dict)로 바꿔봅시다. json 라이브러리를 활용하면 간단하게 문자열을 사전형 자료형으로 바꿀수 있어요."
   ]
  },
  {
   "cell_type": "code",
   "execution_count": 5,
   "metadata": {},
   "outputs": [
    {
     "data": {
      "text/plain": [
       "{'resultCode': 'R21000',\n",
       " 'statusCode': '200',\n",
       " 'body': {'drawDateYn': 'N',\n",
       "  'num6': 40,\n",
       "  'bonusNum': 16,\n",
       "  'totalSellingPrice': 3681782000,\n",
       "  'num1': 10,\n",
       "  'num5': 37,\n",
       "  'drawNo': 1,\n",
       "  'drawDate': '2002-12-07',\n",
       "  'num4': 33,\n",
       "  'lottoResult': [{'sellingPriceByRank': 0,\n",
       "    'winningCnt': 0,\n",
       "    'rank': 'FIRST',\n",
       "    'winningPriceByRank': 0},\n",
       "   {'sellingPriceByRank': 143934100,\n",
       "    'winningCnt': 1,\n",
       "    'rank': 'SECOND',\n",
       "    'winningPriceByRank': 143934100},\n",
       "   {'sellingPriceByRank': 143934000,\n",
       "    'winningCnt': 28,\n",
       "    'rank': 'THIRD',\n",
       "    'winningPriceByRank': 5140500},\n",
       "   {'sellingPriceByRank': 287695800,\n",
       "    'winningCnt': 2537,\n",
       "    'rank': 'FOURTH',\n",
       "    'winningPriceByRank': 113400},\n",
       "   {'sellingPriceByRank': 401550000,\n",
       "    'winningCnt': 40155,\n",
       "    'rank': 'FIFTH',\n",
       "    'winningPriceByRank': 10000}],\n",
       "  'num3': 29,\n",
       "  'num2': 23}}"
      ]
     },
     "execution_count": 5,
     "metadata": {},
     "output_type": "execute_result"
    }
   ],
   "source": [
    "response_json = json.loads(response.text)\n",
    "response_json"
   ]
  },
  {
   "cell_type": "markdown",
   "metadata": {},
   "source": [
    "### 우승상금 구하기"
   ]
  },
  {
   "cell_type": "markdown",
   "metadata": {},
   "source": [
    "우승상금은 'body'안에 'lottoResult' 안에 들어있군요. 가져와봅시다"
   ]
  },
  {
   "cell_type": "code",
   "execution_count": 6,
   "metadata": {},
   "outputs": [
    {
     "data": {
      "text/plain": [
       "[{'sellingPriceByRank': 0,\n",
       "  'winningCnt': 0,\n",
       "  'rank': 'FIRST',\n",
       "  'winningPriceByRank': 0},\n",
       " {'sellingPriceByRank': 143934100,\n",
       "  'winningCnt': 1,\n",
       "  'rank': 'SECOND',\n",
       "  'winningPriceByRank': 143934100},\n",
       " {'sellingPriceByRank': 143934000,\n",
       "  'winningCnt': 28,\n",
       "  'rank': 'THIRD',\n",
       "  'winningPriceByRank': 5140500},\n",
       " {'sellingPriceByRank': 287695800,\n",
       "  'winningCnt': 2537,\n",
       "  'rank': 'FOURTH',\n",
       "  'winningPriceByRank': 113400},\n",
       " {'sellingPriceByRank': 401550000,\n",
       "  'winningCnt': 40155,\n",
       "  'rank': 'FIFTH',\n",
       "  'winningPriceByRank': 10000}]"
      ]
     },
     "execution_count": 6,
     "metadata": {},
     "output_type": "execute_result"
    }
   ],
   "source": [
    "우승상금 = response_json['body']['lottoResult']\n",
    "우승상금"
   ]
  },
  {
   "cell_type": "markdown",
   "metadata": {},
   "source": [
    "이것을 보기좋게 판다스의 데이터프레임을 이용해서 살펴볼까요?"
   ]
  },
  {
   "cell_type": "code",
   "execution_count": 7,
   "metadata": {
    "scrolled": true
   },
   "outputs": [
    {
     "data": {
      "text/html": [
       "<div>\n",
       "<style scoped>\n",
       "    .dataframe tbody tr th:only-of-type {\n",
       "        vertical-align: middle;\n",
       "    }\n",
       "\n",
       "    .dataframe tbody tr th {\n",
       "        vertical-align: top;\n",
       "    }\n",
       "\n",
       "    .dataframe thead th {\n",
       "        text-align: right;\n",
       "    }\n",
       "</style>\n",
       "<table border=\"1\" class=\"dataframe\">\n",
       "  <thead>\n",
       "    <tr style=\"text-align: right;\">\n",
       "      <th></th>\n",
       "      <th>rank</th>\n",
       "      <th>sellingPriceByRank</th>\n",
       "      <th>winningCnt</th>\n",
       "      <th>winningPriceByRank</th>\n",
       "    </tr>\n",
       "  </thead>\n",
       "  <tbody>\n",
       "    <tr>\n",
       "      <th>0</th>\n",
       "      <td>FIRST</td>\n",
       "      <td>0</td>\n",
       "      <td>0</td>\n",
       "      <td>0</td>\n",
       "    </tr>\n",
       "    <tr>\n",
       "      <th>1</th>\n",
       "      <td>SECOND</td>\n",
       "      <td>143934100</td>\n",
       "      <td>1</td>\n",
       "      <td>143934100</td>\n",
       "    </tr>\n",
       "    <tr>\n",
       "      <th>2</th>\n",
       "      <td>THIRD</td>\n",
       "      <td>143934000</td>\n",
       "      <td>28</td>\n",
       "      <td>5140500</td>\n",
       "    </tr>\n",
       "    <tr>\n",
       "      <th>3</th>\n",
       "      <td>FOURTH</td>\n",
       "      <td>287695800</td>\n",
       "      <td>2537</td>\n",
       "      <td>113400</td>\n",
       "    </tr>\n",
       "    <tr>\n",
       "      <th>4</th>\n",
       "      <td>FIFTH</td>\n",
       "      <td>401550000</td>\n",
       "      <td>40155</td>\n",
       "      <td>10000</td>\n",
       "    </tr>\n",
       "  </tbody>\n",
       "</table>\n",
       "</div>"
      ],
      "text/plain": [
       "     rank  sellingPriceByRank  winningCnt  winningPriceByRank\n",
       "0   FIRST                   0           0                   0\n",
       "1  SECOND           143934100           1           143934100\n",
       "2   THIRD           143934000          28             5140500\n",
       "3  FOURTH           287695800        2537              113400\n",
       "4   FIFTH           401550000       40155               10000"
      ]
     },
     "execution_count": 7,
     "metadata": {},
     "output_type": "execute_result"
    }
   ],
   "source": [
    "pd.DataFrame(response_json['body']['lottoResult'])"
   ]
  },
  {
   "cell_type": "markdown",
   "metadata": {},
   "source": [
    "### 당첨번호 구하기"
   ]
  },
  {
   "cell_type": "markdown",
   "metadata": {},
   "source": [
    "당첨번호는 'body'안에 'num1'부터 'num6'까지에 들어있군요. 반복문을 이용해 가져와 볼까요?"
   ]
  },
  {
   "cell_type": "code",
   "execution_count": 8,
   "metadata": {},
   "outputs": [
    {
     "data": {
      "text/plain": [
       "[10, 23, 29, 33, 37, 40]"
      ]
     },
     "execution_count": 8,
     "metadata": {},
     "output_type": "execute_result"
    }
   ],
   "source": [
    "당첨번호_리스트 = []\n",
    "for i in range(1, 7):\n",
    "    당첨번호_리스트.append(response_json['body']['num{}'.format(i)])\n",
    "당첨번호_리스트"
   ]
  },
  {
   "cell_type": "markdown",
   "metadata": {},
   "source": [
    "비슷한 방식으로 보너스 번호도 가져와 봅시다."
   ]
  },
  {
   "cell_type": "code",
   "execution_count": 9,
   "metadata": {},
   "outputs": [
    {
     "data": {
      "text/plain": [
       "16"
      ]
     },
     "execution_count": 9,
     "metadata": {},
     "output_type": "execute_result"
    }
   ],
   "source": [
    "보너스번호 = response_json['body']['bonusNum']\n",
    "보너스번호"
   ]
  },
  {
   "cell_type": "code",
   "execution_count": 10,
   "metadata": {},
   "outputs": [
    {
     "data": {
      "text/plain": [
       "[10, 23, 29, 33, 37, 40, 16]"
      ]
     },
     "execution_count": 10,
     "metadata": {},
     "output_type": "execute_result"
    }
   ],
   "source": [
    "당첨번호_리스트.append(보너스번호)\n",
    "당첨번호_리스트"
   ]
  },
  {
   "cell_type": "markdown",
   "metadata": {
    "collapsed": true
   },
   "source": [
    "이번에는 응용해서 1회부터 10회까지 모든 당첨번호(보너스번호 포함)를 가져와봅시다."
   ]
  },
  {
   "cell_type": "code",
   "execution_count": 11,
   "metadata": {},
   "outputs": [],
   "source": [
    "총_당첨번호_리스트 = []\n",
    "for 회차번호 in range(1, 11):\n",
    "    url = \"https://www.geniecontents.com/api/v1/lotto?drawNo={}\".format(회차번호)\n",
    "    response = requests.get(url)\n",
    "    response_json = json.loads(response.text)\n",
    "    당첨번호_리스트 = []\n",
    "    for i in range(1, 7):\n",
    "        당첨번호_리스트.append(response_json['body']['num{}'.format(i)])\n",
    "    보너스번호 = response_json['body']['bonusNum']\n",
    "    당첨번호_리스트.append(보너스번호)\n",
    "    \n",
    "    총_당첨번호_리스트.append(당첨번호_리스트)"
   ]
  },
  {
   "cell_type": "code",
   "execution_count": 12,
   "metadata": {},
   "outputs": [
    {
     "data": {
      "text/plain": [
       "[[10, 23, 29, 33, 37, 40, 16],\n",
       " [9, 13, 21, 25, 32, 42, 2],\n",
       " [11, 16, 19, 21, 27, 31, 30],\n",
       " [14, 27, 30, 31, 40, 42, 2],\n",
       " [16, 24, 29, 40, 41, 42, 3],\n",
       " [14, 15, 26, 27, 40, 42, 34],\n",
       " [2, 9, 16, 25, 26, 40, 42],\n",
       " [8, 19, 25, 34, 37, 39, 9],\n",
       " [2, 4, 16, 17, 36, 39, 14],\n",
       " [9, 25, 30, 33, 41, 44, 6]]"
      ]
     },
     "execution_count": 12,
     "metadata": {},
     "output_type": "execute_result"
    }
   ],
   "source": [
    "총_당첨번호_리스트"
   ]
  },
  {
   "cell_type": "code",
   "execution_count": null,
   "metadata": {},
   "outputs": [],
   "source": []
  }
 ],
 "metadata": {
  "kernelspec": {
   "display_name": "Python 3",
   "language": "python",
   "name": "python3"
  },
  "language_info": {
   "codemirror_mode": {
    "name": "ipython",
    "version": 3
   },
   "file_extension": ".py",
   "mimetype": "text/x-python",
   "name": "python",
   "nbconvert_exporter": "python",
   "pygments_lexer": "ipython3",
   "version": "3.6.0"
  }
 },
 "nbformat": 4,
 "nbformat_minor": 2
}
